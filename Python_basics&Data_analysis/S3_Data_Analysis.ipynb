{
 "cells": [
  {
   "cell_type": "markdown",
   "id": "219fe781",
   "metadata": {},
   "source": [
    "### This notebook is written by Jiawen Liang for the AccFin PhD workshop: Python for Data Analysis in Nov 2022. Please do not circulate without permission."
   ]
  },
  {
   "cell_type": "markdown",
   "id": "dee29a2b",
   "metadata": {},
   "source": [
    "# Session 3: Data analysis\n",
    "\n",
    "## NumPy\n",
    "- NumPy basics\n",
    "- Numerical computing\n",
    "\n",
    "## Pandas\n",
    "- Pandas basics\n",
    "- Data analysis\n",
    "\n",
    "Note: NumPy and Pandas is included in the Anaconda Python"
   ]
  },
  {
   "cell_type": "markdown",
   "id": "fb661f47",
   "metadata": {},
   "source": [
    "# Numpy\n",
    "- a package library for Python\n",
    "- support large, multi-dimensional arrays and matrices\n",
    "- mathematical functions"
   ]
  },
  {
   "cell_type": "markdown",
   "id": "cc581379",
   "metadata": {},
   "source": [
    "## Array\n",
    "- array: a very important data structures\n",
    "- one-dimensional array: a vector of real numbers. single row\n",
    "- N-dimensional array (N>1): matrix of elements"
   ]
  },
  {
   "cell_type": "code",
   "execution_count": 1,
   "id": "c944c3a8",
   "metadata": {},
   "outputs": [],
   "source": [
    "# one-dimentsion array\n",
    "v = [1,2,3,4,5,2.4,2.4,34.2]"
   ]
  },
  {
   "cell_type": "code",
   "execution_count": 2,
   "id": "8a5cf2ef",
   "metadata": {},
   "outputs": [
    {
     "data": {
      "text/plain": [
       "[[1, 2, 3, 4, 5, 2.4, 2.4, 34.2],\n",
       " [1, 2, 3, 4, 5, 2.4, 2.4, 34.2],\n",
       " [1, 2, 3, 4, 5, 2.4, 2.4, 34.2]]"
      ]
     },
     "execution_count": 2,
     "metadata": {},
     "output_type": "execute_result"
    }
   ],
   "source": [
    "# N-dimensional array\n",
    "m = [v, v, v]\n",
    "m"
   ]
  },
  {
   "cell_type": "code",
   "execution_count": 3,
   "id": "cfb4fc50",
   "metadata": {},
   "outputs": [
    {
     "data": {
      "text/plain": [
       "[1, 2, 3, 4, 5, 2.4, 2.4, 34.2]"
      ]
     },
     "execution_count": 3,
     "metadata": {},
     "output_type": "execute_result"
    }
   ],
   "source": [
    "# select rows via simple indexing\n",
    "m[2] #the third rows"
   ]
  },
  {
   "cell_type": "code",
   "execution_count": 4,
   "id": "25e53eee",
   "metadata": {},
   "outputs": [
    {
     "data": {
      "text/plain": [
       "1"
      ]
     },
     "execution_count": 4,
     "metadata": {},
     "output_type": "execute_result"
    }
   ],
   "source": [
    "# select rows via double indexing\n",
    "m[2][0] #third row, first number"
   ]
  },
  {
   "cell_type": "code",
   "execution_count": 5,
   "id": "7d862c52",
   "metadata": {},
   "outputs": [
    {
     "data": {
      "text/plain": [
       "[[[1, 2, 3, 4, 5, 2.4, 2.4, 34.2],\n",
       "  [1, 2, 3, 4, 5, 2.4, 2.4, 34.2],\n",
       "  [1, 2, 3, 4, 5, 2.4, 2.4, 34.2]],\n",
       " [[1, 2, 3, 4, 5, 2.4, 2.4, 34.2],\n",
       "  [1, 2, 3, 4, 5, 2.4, 2.4, 34.2],\n",
       "  [1, 2, 3, 4, 5, 2.4, 2.4, 34.2]]]"
      ]
     },
     "execution_count": 5,
     "metadata": {},
     "output_type": "execute_result"
    }
   ],
   "source": [
    "# N-dimensional array can be combined together too.\n",
    "c =[m,m]\n",
    "c"
   ]
  },
  {
   "cell_type": "code",
   "execution_count": 1,
   "id": "926481d4",
   "metadata": {},
   "outputs": [
    {
     "data": {
      "text/plain": [
       "[[1, 2, 3, 4, 5, 2.4, 2.4, 34.2], [1, 2, 3, 4, 5, 2.4, 2.4, 34.2]]"
      ]
     },
     "execution_count": 1,
     "metadata": {},
     "output_type": "execute_result"
    }
   ],
   "source": [
    "# if we combine arrays in this way, the combined object will change when the original objects change.\n",
    "v = [1,2,3,4,5,2.4,2.4,34.2]\n",
    "m = [v, v]\n",
    "m"
   ]
  },
  {
   "cell_type": "code",
   "execution_count": 7,
   "id": "9b943f87",
   "metadata": {},
   "outputs": [
    {
     "data": {
      "text/plain": [
       "[['A', 2, 3, 4, 5, 2.4, 2.4, 34.2], ['A', 2, 3, 4, 5, 2.4, 2.4, 34.2]]"
      ]
     },
     "execution_count": 7,
     "metadata": {},
     "output_type": "execute_result"
    }
   ],
   "source": [
    "v[0] = \"A\"\n",
    "m"
   ]
  },
  {
   "cell_type": "code",
   "execution_count": 8,
   "id": "93a88fbc",
   "metadata": {},
   "outputs": [
    {
     "data": {
      "text/plain": [
       "[[1, 2, 3, 4, 5, 2.4, 2.4, 34.2], [1, 2, 3, 4, 5, 2.4, 2.4, 34.2]]"
      ]
     },
     "execution_count": 8,
     "metadata": {},
     "output_type": "execute_result"
    }
   ],
   "source": [
    "# This can be avoided by using the deepcopy() function of the copy module\n",
    "from copy import deepcopy\n",
    "v = [1,2,3,4,5,2.4,2.4,34.2]\n",
    "m = 2 * [deepcopy(v)]\n",
    "m"
   ]
  },
  {
   "cell_type": "code",
   "execution_count": 9,
   "id": "1d6174aa",
   "metadata": {},
   "outputs": [
    {
     "data": {
      "text/plain": [
       "[[1, 2, 3, 4, 5, 2.4, 2.4, 34.2], [1, 2, 3, 4, 5, 2.4, 2.4, 34.2]]"
      ]
     },
     "execution_count": 9,
     "metadata": {},
     "output_type": "execute_result"
    }
   ],
   "source": [
    "v[0] = \"A\"\n",
    "m"
   ]
  },
  {
   "cell_type": "code",
   "execution_count": 3,
   "id": "ec0c9a84",
   "metadata": {},
   "outputs": [],
   "source": [
    "# you can create array with the lsit objects, but it is not really convenient.\n",
    "# NumPy: numpy.ndarray is just such a class, built with the specific goal of handling n-dimensional arrays both conveniently and efficiently.\n",
    "import numpy as np"
   ]
  },
  {
   "cell_type": "code",
   "execution_count": 4,
   "id": "8022c40d",
   "metadata": {},
   "outputs": [
    {
     "data": {
      "text/plain": [
       "array([ 1. ,  2. ,  3. ,  4. ,  5. ,  2.4,  2.4, 34.2])"
      ]
     },
     "execution_count": 4,
     "metadata": {},
     "output_type": "execute_result"
    }
   ],
   "source": [
    "a = np.array([1,2,3,4,5,2.4,2.4,34.2])\n",
    "a"
   ]
  },
  {
   "cell_type": "code",
   "execution_count": 5,
   "id": "96f22223",
   "metadata": {},
   "outputs": [
    {
     "data": {
      "text/plain": [
       "numpy.ndarray"
      ]
     },
     "execution_count": 5,
     "metadata": {},
     "output_type": "execute_result"
    }
   ],
   "source": [
    "type(a)"
   ]
  },
  {
   "cell_type": "code",
   "execution_count": 13,
   "id": "1bdfbd8b",
   "metadata": {},
   "outputs": [
    {
     "data": {
      "text/plain": [
       "array(['a', 'b', 'c'], dtype='<U1')"
      ]
     },
     "execution_count": 13,
     "metadata": {},
     "output_type": "execute_result"
    }
   ],
   "source": [
    "a = np.array(['a','b','c'])\n",
    "a"
   ]
  },
  {
   "cell_type": "code",
   "execution_count": 14,
   "id": "13031bb8",
   "metadata": {},
   "outputs": [
    {
     "data": {
      "text/plain": [
       "numpy.ndarray"
      ]
     },
     "execution_count": 14,
     "metadata": {},
     "output_type": "execute_result"
    }
   ],
   "source": [
    "type(a)"
   ]
  },
  {
   "cell_type": "code",
   "execution_count": 6,
   "id": "872fc66c",
   "metadata": {},
   "outputs": [
    {
     "data": {
      "text/plain": [
       "array([[0., 0.],\n",
       "       [0., 0.],\n",
       "       [0., 0.]])"
      ]
     },
     "execution_count": 6,
     "metadata": {},
     "output_type": "execute_result"
    }
   ],
   "source": [
    "# Create 3X2 double precision array initialized to all zeroes\n",
    "a = np.zeros((3,2))\n",
    "a"
   ]
  },
  {
   "cell_type": "code",
   "execution_count": 16,
   "id": "1ac2ba76",
   "metadata": {},
   "outputs": [
    {
     "data": {
      "text/plain": [
       "array([['0', '1', '2'],\n",
       "       ['a', 'b', 'c']], dtype='<U21')"
      ]
     },
     "execution_count": 16,
     "metadata": {},
     "output_type": "execute_result"
    }
   ],
   "source": [
    "# Create array initialized by list of lists\n",
    "a = np.array([[0,1,2],['a','b','c']])\n",
    "a"
   ]
  },
  {
   "cell_type": "code",
   "execution_count": 8,
   "id": "e2c18a9a",
   "metadata": {},
   "outputs": [],
   "source": [
    "a = np.array([[0,1,2],['a','b','c']]) # lack a square brackets"
   ]
  },
  {
   "cell_type": "code",
   "execution_count": 9,
   "id": "d9954c53",
   "metadata": {},
   "outputs": [
    {
     "data": {
      "text/plain": [
       "array([['0', '1', '2'],\n",
       "       ['a', 'b', 'c']], dtype='<U21')"
      ]
     },
     "execution_count": 9,
     "metadata": {},
     "output_type": "execute_result"
    }
   ],
   "source": [
    "a"
   ]
  },
  {
   "cell_type": "code",
   "execution_count": 18,
   "id": "ec50beaf",
   "metadata": {},
   "outputs": [
    {
     "data": {
      "text/plain": [
       "array([0, 1, 2, 3, 4, 5, 6, 7, 8, 9])"
      ]
     },
     "execution_count": 18,
     "metadata": {},
     "output_type": "execute_result"
    }
   ],
   "source": [
    "# create array using \"arange\" function\n",
    "a = np.arange(10)\n",
    "a"
   ]
  },
  {
   "cell_type": "code",
   "execution_count": 11,
   "id": "c2a27c8f",
   "metadata": {},
   "outputs": [
    {
     "data": {
      "text/plain": [
       "array([1, 4, 7])"
      ]
     },
     "execution_count": 11,
     "metadata": {},
     "output_type": "execute_result"
    }
   ],
   "source": [
    "a = np.arange(1,10,3)\n",
    "a"
   ]
  },
  {
   "cell_type": "code",
   "execution_count": 20,
   "id": "f4feca63",
   "metadata": {},
   "outputs": [
    {
     "data": {
      "text/plain": [
       "array([10, 13, 16, 19])"
      ]
     },
     "execution_count": 20,
     "metadata": {},
     "output_type": "execute_result"
    }
   ],
   "source": [
    "a = np.arange(10,20,3)\n",
    "a"
   ]
  },
  {
   "cell_type": "code",
   "execution_count": 21,
   "id": "b45dec86",
   "metadata": {},
   "outputs": [
    {
     "data": {
      "text/plain": [
       "array([2, 3, 4, 5])"
      ]
     },
     "execution_count": 21,
     "metadata": {},
     "output_type": "execute_result"
    }
   ],
   "source": [
    "# select object by index\n",
    "a = np.arange(10)\n",
    "a[2:6]"
   ]
  },
  {
   "cell_type": "code",
   "execution_count": 22,
   "id": "6751317c",
   "metadata": {},
   "outputs": [
    {
     "data": {
      "text/plain": [
       "array([0, 1])"
      ]
     },
     "execution_count": 22,
     "metadata": {},
     "output_type": "execute_result"
    }
   ],
   "source": [
    "a[:2]"
   ]
  },
  {
   "cell_type": "code",
   "execution_count": 12,
   "id": "cdc1768d",
   "metadata": {},
   "outputs": [
    {
     "name": "stdout",
     "output_type": "stream",
     "text": [
      "[[0 1 2]\n",
      " [3 4 5]]\n"
     ]
    }
   ],
   "source": [
    "# get value from N-dimensinal array\n",
    "m = np.array([[0,1,2],[3,4,5]])\n",
    "print(m)\n"
   ]
  },
  {
   "cell_type": "code",
   "execution_count": 24,
   "id": "0ff744af",
   "metadata": {},
   "outputs": [
    {
     "data": {
      "text/plain": [
       "0"
      ]
     },
     "execution_count": 24,
     "metadata": {},
     "output_type": "execute_result"
    }
   ],
   "source": [
    "m[0,0]"
   ]
  },
  {
   "cell_type": "code",
   "execution_count": 15,
   "id": "4368c6ba",
   "metadata": {},
   "outputs": [
    {
     "data": {
      "text/plain": [
       "array([0, 1])"
      ]
     },
     "execution_count": 15,
     "metadata": {},
     "output_type": "execute_result"
    }
   ],
   "source": [
    "m[0, :2]"
   ]
  },
  {
   "cell_type": "code",
   "execution_count": 26,
   "id": "f2f22cae",
   "metadata": {},
   "outputs": [
    {
     "data": {
      "text/plain": [
       "array([2, 5])"
      ]
     },
     "execution_count": 26,
     "metadata": {},
     "output_type": "execute_result"
    }
   ],
   "source": [
    "m[:,-1]"
   ]
  },
  {
   "cell_type": "code",
   "execution_count": 27,
   "id": "356d8d6a",
   "metadata": {},
   "outputs": [
    {
     "data": {
      "text/plain": [
       "array([[1, 2],\n",
       "       [4, 5]])"
      ]
     },
     "execution_count": 27,
     "metadata": {},
     "output_type": "execute_result"
    }
   ],
   "source": [
    "m[0:2,1:3]"
   ]
  },
  {
   "cell_type": "code",
   "execution_count": 16,
   "id": "b8a5a585",
   "metadata": {},
   "outputs": [
    {
     "data": {
      "text/plain": [
       "array([0, 1, 2])"
      ]
     },
     "execution_count": 16,
     "metadata": {},
     "output_type": "execute_result"
    }
   ],
   "source": [
    "m[0,:]"
   ]
  },
  {
   "cell_type": "code",
   "execution_count": 17,
   "id": "05e050a0",
   "metadata": {},
   "outputs": [
    {
     "data": {
      "text/plain": [
       "array([[8, 8, 8],\n",
       "       [3, 4, 5]])"
      ]
     },
     "execution_count": 17,
     "metadata": {},
     "output_type": "execute_result"
    }
   ],
   "source": [
    "# Modifying N-dimensional arrays\n",
    "m[0,:] = 8\n",
    "m"
   ]
  },
  {
   "cell_type": "code",
   "execution_count": 29,
   "id": "58f18456",
   "metadata": {},
   "outputs": [
    {
     "data": {
      "text/plain": [
       "array([[3, 6, 9],\n",
       "       [3, 6, 9]])"
      ]
     },
     "execution_count": 29,
     "metadata": {},
     "output_type": "execute_result"
    }
   ],
   "source": [
    "# Assign 1D array to all rows of 2D array\n",
    "m[:,:] = np.array([3,6,9])\n",
    "m"
   ]
  },
  {
   "cell_type": "code",
   "execution_count": 30,
   "id": "f4093958",
   "metadata": {
    "scrolled": true
   },
   "outputs": [
    {
     "data": {
      "text/plain": [
       "array([[3, 6],\n",
       "       [9, 3],\n",
       "       [6, 9]])"
      ]
     },
     "execution_count": 30,
     "metadata": {},
     "output_type": "execute_result"
    }
   ],
   "source": [
    "# reshape from 2X3 to 3X2\n",
    "m.reshape(3,2)"
   ]
  },
  {
   "cell_type": "code",
   "execution_count": 18,
   "id": "9c1da770",
   "metadata": {},
   "outputs": [
    {
     "data": {
      "text/plain": [
       "array([0, 1, 2, 3, 4, 5, 6, 7])"
      ]
     },
     "execution_count": 18,
     "metadata": {},
     "output_type": "execute_result"
    }
   ],
   "source": [
    "# NumPy basic calculations\n",
    "# Create 1D array\n",
    "a = np.arange(8)\n",
    "a"
   ]
  },
  {
   "cell_type": "code",
   "execution_count": 19,
   "id": "4e55302d",
   "metadata": {},
   "outputs": [
    {
     "data": {
      "text/plain": [
       "28"
      ]
     },
     "execution_count": 19,
     "metadata": {},
     "output_type": "execute_result"
    }
   ],
   "source": [
    "# Add 1D arrays elementwise a+a\n",
    "a.sum()"
   ]
  },
  {
   "cell_type": "code",
   "execution_count": 20,
   "id": "b5095597",
   "metadata": {},
   "outputs": [
    {
     "data": {
      "text/plain": [
       "140"
      ]
     },
     "execution_count": 20,
     "metadata": {},
     "output_type": "execute_result"
    }
   ],
   "source": [
    "# Compute dot product: a * a vector multipulation\n",
    "np.dot(a, a)   # same as: (a * a).sum()"
   ]
  },
  {
   "cell_type": "code",
   "execution_count": 21,
   "id": "35cfdb40",
   "metadata": {},
   "outputs": [
    {
     "data": {
      "text/plain": [
       "array([[ 4,  5,  6,  7],\n",
       "       [12, 17, 22, 27],\n",
       "       [20, 29, 38, 47],\n",
       "       [28, 41, 54, 67]])"
      ]
     },
     "execution_count": 21,
     "metadata": {},
     "output_type": "execute_result"
    }
   ],
   "source": [
    "# Compute cross product\n",
    "np.dot(a.reshape(4,2), a.reshape(2,4))"
   ]
  },
  {
   "cell_type": "code",
   "execution_count": 22,
   "id": "cbc14191",
   "metadata": {},
   "outputs": [
    {
     "data": {
      "text/plain": [
       "2.29128784747792"
      ]
     },
     "execution_count": 22,
     "metadata": {},
     "output_type": "execute_result"
    }
   ],
   "source": [
    "a.std()"
   ]
  },
  {
   "cell_type": "code",
   "execution_count": 24,
   "id": "8c25e16d",
   "metadata": {},
   "outputs": [
    {
     "data": {
      "text/plain": [
       "array([0, 1, 2, 3, 4, 5, 6, 7])"
      ]
     },
     "execution_count": 24,
     "metadata": {},
     "output_type": "execute_result"
    }
   ],
   "source": [
    "a"
   ]
  },
  {
   "cell_type": "code",
   "execution_count": 23,
   "id": "30df8638",
   "metadata": {},
   "outputs": [
    {
     "data": {
      "text/plain": [
       "array([ 0,  1,  3,  6, 10, 15, 21, 28])"
      ]
     },
     "execution_count": 23,
     "metadata": {},
     "output_type": "execute_result"
    }
   ],
   "source": [
    "# Return the cumulative sum of the elements along a given axis.\n",
    "a.cumsum()"
   ]
  },
  {
   "cell_type": "code",
   "execution_count": 37,
   "id": "97495f36",
   "metadata": {},
   "outputs": [
    {
     "name": "stdout",
     "output_type": "stream",
     "text": [
      "[1, 2, 3, 4, 5, 1, 2, 3, 4, 5]\n"
     ]
    }
   ],
   "source": [
    "# operation differences between array and list\n",
    "a_list = [1,2,3,4,5]\n",
    "print(a_list*2) # 2 a_list"
   ]
  },
  {
   "cell_type": "code",
   "execution_count": 25,
   "id": "0bd37248",
   "metadata": {},
   "outputs": [
    {
     "data": {
      "text/plain": [
       "array([1, 2, 3, 4, 5])"
      ]
     },
     "execution_count": 25,
     "metadata": {},
     "output_type": "execute_result"
    }
   ],
   "source": [
    "a_array = np.array([1,2,3,4,5])\n",
    "a_array"
   ]
  },
  {
   "cell_type": "code",
   "execution_count": 26,
   "id": "3b6118a5",
   "metadata": {},
   "outputs": [
    {
     "data": {
      "text/plain": [
       "array([ 2,  4,  6,  8, 10])"
      ]
     },
     "execution_count": 26,
     "metadata": {},
     "output_type": "execute_result"
    }
   ],
   "source": [
    "a_array * 2 # multiple 2"
   ]
  },
  {
   "cell_type": "code",
   "execution_count": 40,
   "id": "8c5849a3",
   "metadata": {},
   "outputs": [
    {
     "data": {
      "text/plain": [
       "array([ 1,  4,  9, 16, 25])"
      ]
     },
     "execution_count": 40,
     "metadata": {},
     "output_type": "execute_result"
    }
   ],
   "source": [
    "a_array ** 2"
   ]
  },
  {
   "cell_type": "code",
   "execution_count": 28,
   "id": "579d9eb3",
   "metadata": {},
   "outputs": [
    {
     "data": {
      "text/plain": [
       "array([[ 0,  1,  2,  3,  4,  5,  6,  7],\n",
       "       [ 0,  2,  4,  6,  8, 10, 12, 14]])"
      ]
     },
     "execution_count": 28,
     "metadata": {},
     "output_type": "execute_result"
    }
   ],
   "source": [
    "# n-dimensional array mutiple\n",
    "b = np.array([a, a * 2])\n",
    "b"
   ]
  },
  {
   "cell_type": "code",
   "execution_count": 42,
   "id": "7c4f116f",
   "metadata": {},
   "outputs": [
    {
     "data": {
      "text/plain": [
       "array([0, 1, 2, 3, 4, 5, 6, 7])"
      ]
     },
     "execution_count": 42,
     "metadata": {},
     "output_type": "execute_result"
    }
   ],
   "source": [
    "b[0]"
   ]
  },
  {
   "cell_type": "code",
   "execution_count": 43,
   "id": "dde5aed5",
   "metadata": {},
   "outputs": [
    {
     "data": {
      "text/plain": [
       "1"
      ]
     },
     "execution_count": 43,
     "metadata": {},
     "output_type": "execute_result"
    }
   ],
   "source": [
    "b[0,1]"
   ]
  },
  {
   "cell_type": "code",
   "execution_count": 44,
   "id": "73210523",
   "metadata": {},
   "outputs": [
    {
     "data": {
      "text/plain": [
       "84"
      ]
     },
     "execution_count": 44,
     "metadata": {},
     "output_type": "execute_result"
    }
   ],
   "source": [
    "b.sum()"
   ]
  },
  {
   "cell_type": "code",
   "execution_count": 29,
   "id": "c14f5048",
   "metadata": {},
   "outputs": [
    {
     "data": {
      "text/plain": [
       "array([[ 0,  1,  2,  3,  4,  5,  6,  7],\n",
       "       [ 0,  2,  4,  6,  8, 10, 12, 14]])"
      ]
     },
     "execution_count": 29,
     "metadata": {},
     "output_type": "execute_result"
    }
   ],
   "source": [
    "b"
   ]
  },
  {
   "cell_type": "code",
   "execution_count": 45,
   "id": "8fc0a39c",
   "metadata": {},
   "outputs": [
    {
     "data": {
      "text/plain": [
       "array([ 0,  3,  6,  9, 12, 15, 18, 21])"
      ]
     },
     "execution_count": 45,
     "metadata": {},
     "output_type": "execute_result"
    }
   ],
   "source": [
    "b.sum(axis=0) # sum row values in the same columns"
   ]
  },
  {
   "cell_type": "code",
   "execution_count": 46,
   "id": "785ff4d2",
   "metadata": {},
   "outputs": [
    {
     "data": {
      "text/plain": [
       "array([28, 56])"
      ]
     },
     "execution_count": 46,
     "metadata": {},
     "output_type": "execute_result"
    }
   ],
   "source": [
    "b.sum(axis=1) # sum all columns values in the same row"
   ]
  },
  {
   "cell_type": "markdown",
   "id": "d6c9aff4",
   "metadata": {},
   "source": [
    "# NumPy attributes"
   ]
  },
  {
   "cell_type": "code",
   "execution_count": 30,
   "id": "087ca690",
   "metadata": {},
   "outputs": [
    {
     "data": {
      "text/plain": [
       "16"
      ]
     },
     "execution_count": 30,
     "metadata": {},
     "output_type": "execute_result"
    }
   ],
   "source": [
    "b.size"
   ]
  },
  {
   "cell_type": "code",
   "execution_count": 31,
   "id": "c3e392eb",
   "metadata": {},
   "outputs": [
    {
     "data": {
      "text/plain": [
       "8"
      ]
     },
     "execution_count": 31,
     "metadata": {},
     "output_type": "execute_result"
    }
   ],
   "source": [
    " b.itemsize"
   ]
  },
  {
   "cell_type": "code",
   "execution_count": 32,
   "id": "188cef89",
   "metadata": {},
   "outputs": [
    {
     "data": {
      "text/plain": [
       "2"
      ]
     },
     "execution_count": 32,
     "metadata": {},
     "output_type": "execute_result"
    }
   ],
   "source": [
    "b.ndim"
   ]
  },
  {
   "cell_type": "code",
   "execution_count": 50,
   "id": "1783eb3c",
   "metadata": {},
   "outputs": [
    {
     "data": {
      "text/plain": [
       "(2, 8)"
      ]
     },
     "execution_count": 50,
     "metadata": {},
     "output_type": "execute_result"
    }
   ],
   "source": [
    "b.shape # 2X8 matrix"
   ]
  },
  {
   "cell_type": "code",
   "execution_count": 33,
   "id": "8dcfbbe0",
   "metadata": {},
   "outputs": [
    {
     "data": {
      "text/plain": [
       "(10,)"
      ]
     },
     "execution_count": 33,
     "metadata": {},
     "output_type": "execute_result"
    }
   ],
   "source": [
    "# reshaping in general just provides another view on the same data. \n",
    "c = np.arange(10)\n",
    "c.shape"
   ]
  },
  {
   "cell_type": "code",
   "execution_count": 52,
   "id": "18d8038e",
   "metadata": {},
   "outputs": [
    {
     "data": {
      "text/plain": [
       "array([[0, 1],\n",
       "       [2, 3],\n",
       "       [4, 5],\n",
       "       [6, 7],\n",
       "       [8, 9]])"
      ]
     },
     "execution_count": 52,
     "metadata": {},
     "output_type": "execute_result"
    }
   ],
   "source": [
    "c = c.reshape((5,2))\n",
    "c"
   ]
  },
  {
   "cell_type": "code",
   "execution_count": 35,
   "id": "336a6e3f",
   "metadata": {},
   "outputs": [
    {
     "data": {
      "text/plain": [
       "array([[0, 1, 2, 3, 4],\n",
       "       [5, 6, 7, 8, 9]])"
      ]
     },
     "execution_count": 35,
     "metadata": {},
     "output_type": "execute_result"
    }
   ],
   "source": [
    "c = c.reshape((2,5))\n",
    "c"
   ]
  },
  {
   "cell_type": "code",
   "execution_count": 36,
   "id": "c36ea73b",
   "metadata": {},
   "outputs": [
    {
     "data": {
      "text/plain": [
       "array([[0, 5],\n",
       "       [1, 6],\n",
       "       [2, 7],\n",
       "       [3, 8],\n",
       "       [4, 9]])"
      ]
     },
     "execution_count": 36,
     "metadata": {},
     "output_type": "execute_result"
    }
   ],
   "source": [
    "#  transpose creates a new (temporary) object.\n",
    "c.T "
   ]
  },
  {
   "cell_type": "code",
   "execution_count": 37,
   "id": "c05a8013",
   "metadata": {},
   "outputs": [
    {
     "data": {
      "text/plain": [
       "array([[0, 1, 2, 3, 4],\n",
       "       [5, 6, 7, 8, 9]])"
      ]
     },
     "execution_count": 37,
     "metadata": {},
     "output_type": "execute_result"
    }
   ],
   "source": [
    "c"
   ]
  },
  {
   "cell_type": "code",
   "execution_count": null,
   "id": "7f2c80b8",
   "metadata": {},
   "outputs": [],
   "source": [
    "d = np.array()"
   ]
  },
  {
   "cell_type": "code",
   "execution_count": 40,
   "id": "ad734a38",
   "metadata": {},
   "outputs": [],
   "source": [
    "d = c.transpose()"
   ]
  },
  {
   "cell_type": "code",
   "execution_count": 42,
   "id": "5a29833f",
   "metadata": {},
   "outputs": [
    {
     "ename": "NameError",
     "evalue": "name 'd' is not defined",
     "output_type": "error",
     "traceback": [
      "\u001b[0;31m---------------------------------------------------------------------------\u001b[0m",
      "\u001b[0;31mNameError\u001b[0m                                 Traceback (most recent call last)",
      "\u001b[0;32m<ipython-input-42-e983f374794d>\u001b[0m in \u001b[0;36m<module>\u001b[0;34m\u001b[0m\n\u001b[0;32m----> 1\u001b[0;31m \u001b[0md\u001b[0m\u001b[0;34m\u001b[0m\u001b[0;34m\u001b[0m\u001b[0m\n\u001b[0m",
      "\u001b[0;31mNameError\u001b[0m: name 'd' is not defined"
     ]
    }
   ],
   "source": [
    "d"
   ]
  },
  {
   "cell_type": "code",
   "execution_count": 57,
   "id": "5185f124",
   "metadata": {},
   "outputs": [
    {
     "data": {
      "text/plain": [
       "array([[False, False, False, False, False],\n",
       "       [False,  True,  True,  True,  True]])"
      ]
     },
     "execution_count": 57,
     "metadata": {},
     "output_type": "execute_result"
    }
   ],
   "source": [
    "# boolean ndarray object\n",
    "c>5 "
   ]
  },
  {
   "cell_type": "code",
   "execution_count": 58,
   "id": "86ae3fed",
   "metadata": {},
   "outputs": [
    {
     "data": {
      "text/plain": [
       "array([[ True,  True,  True,  True,  True],\n",
       "       [ True,  True,  True, False, False]])"
      ]
     },
     "execution_count": 58,
     "metadata": {},
     "output_type": "execute_result"
    }
   ],
   "source": [
    "c <8"
   ]
  },
  {
   "cell_type": "code",
   "execution_count": 59,
   "id": "1b4e454e",
   "metadata": {},
   "outputs": [
    {
     "data": {
      "text/plain": [
       "array([[False, False, False,  True, False],\n",
       "       [False, False, False, False, False]])"
      ]
     },
     "execution_count": 59,
     "metadata": {},
     "output_type": "execute_result"
    }
   ],
   "source": [
    "c == 3"
   ]
  },
  {
   "cell_type": "code",
   "execution_count": 60,
   "id": "7886808e",
   "metadata": {},
   "outputs": [
    {
     "data": {
      "text/plain": [
       "array([[0, 0, 0, 1, 0],\n",
       "       [0, 0, 0, 0, 0]])"
      ]
     },
     "execution_count": 60,
     "metadata": {},
     "output_type": "execute_result"
    }
   ],
   "source": [
    "# numpy.ndarray.astype\n",
    "# Copy of the array, cast to a specified type.\n",
    "(c == 3).astype(int)"
   ]
  },
  {
   "cell_type": "code",
   "execution_count": 61,
   "id": "147b2f87",
   "metadata": {},
   "outputs": [
    {
     "data": {
      "text/plain": [
       "array([[False, False, False,  True,  True],\n",
       "       [ True,  True,  True, False, False]])"
      ]
     },
     "execution_count": 61,
     "metadata": {},
     "output_type": "execute_result"
    }
   ],
   "source": [
    "(c > 2) & (c < 8) "
   ]
  },
  {
   "cell_type": "markdown",
   "id": "c26aa3e6",
   "metadata": {},
   "source": [
    "# Exercise for Numpy:\n",
    "1. create an array [2,4,6,8,10,12]\n",
    "2. reshape this array to 2X3\n",
    "3. select the value on first row & second column after reshaping\n",
    "3. transpose"
   ]
  },
  {
   "cell_type": "code",
   "execution_count": 119,
   "id": "a376cd99",
   "metadata": {},
   "outputs": [
    {
     "name": "stdout",
     "output_type": "stream",
     "text": [
      "Q1\n",
      " [ 2  4  6  8 10 12]\n",
      "Q2\n",
      " [[ 2  4  6]\n",
      " [ 8 10 12]]\n",
      "Q3\n",
      " 4\n",
      "Q4\n",
      " [[ 2  8]\n",
      " [ 4 10]\n",
      " [ 6 12]]\n"
     ]
    }
   ],
   "source": [
    "# solution\n",
    "a = np.arange(2,13,2)\n",
    "print('Q1\\n', a)\n",
    "\n",
    "b = a.reshape(2,3)\n",
    "print('Q2\\n', b)\n",
    "print('Q3\\n', b[0,1])\n",
    "print('Q4\\n', b.T)\n"
   ]
  },
  {
   "cell_type": "markdown",
   "id": "857e6136",
   "metadata": {},
   "source": [
    "## Pandas\n",
    "\n",
    "- pandas is a library for data analysis \n",
    "- focus on tabular data (dataframe)\n",
    "- pandas has many functions and data structures which are similar to **R**. Particularly related to:\n",
    "   - Data frames.\n",
    "   - Indexing.\n"
   ]
  },
  {
   "cell_type": "markdown",
   "id": "0ff29d6a",
   "metadata": {},
   "source": [
    "## Pandas basics"
   ]
  },
  {
   "cell_type": "code",
   "execution_count": 44,
   "id": "23709b40",
   "metadata": {},
   "outputs": [],
   "source": [
    "import pandas as pd"
   ]
  },
  {
   "cell_type": "code",
   "execution_count": 45,
   "id": "6f450fe1",
   "metadata": {},
   "outputs": [
    {
     "data": {
      "text/html": [
       "<div>\n",
       "<style scoped>\n",
       "    .dataframe tbody tr th:only-of-type {\n",
       "        vertical-align: middle;\n",
       "    }\n",
       "\n",
       "    .dataframe tbody tr th {\n",
       "        vertical-align: top;\n",
       "    }\n",
       "\n",
       "    .dataframe thead th {\n",
       "        text-align: right;\n",
       "    }\n",
       "</style>\n",
       "<table border=\"1\" class=\"dataframe\">\n",
       "  <thead>\n",
       "    <tr style=\"text-align: right;\">\n",
       "      <th></th>\n",
       "      <th>numbers</th>\n",
       "    </tr>\n",
       "  </thead>\n",
       "  <tbody>\n",
       "    <tr>\n",
       "      <th>a</th>\n",
       "      <td>1</td>\n",
       "    </tr>\n",
       "    <tr>\n",
       "      <th>b</th>\n",
       "      <td>2</td>\n",
       "    </tr>\n",
       "    <tr>\n",
       "      <th>c</th>\n",
       "      <td>3</td>\n",
       "    </tr>\n",
       "    <tr>\n",
       "      <th>d</th>\n",
       "      <td>4</td>\n",
       "    </tr>\n",
       "    <tr>\n",
       "      <th>e</th>\n",
       "      <td>5</td>\n",
       "    </tr>\n",
       "  </tbody>\n",
       "</table>\n",
       "</div>"
      ],
      "text/plain": [
       "   numbers\n",
       "a        1\n",
       "b        2\n",
       "c        3\n",
       "d        4\n",
       "e        5"
      ]
     },
     "execution_count": 45,
     "metadata": {},
     "output_type": "execute_result"
    }
   ],
   "source": [
    "# several ways to create df\n",
    "df1 = pd.DataFrame([1,2,3,4,5], columns=[\"numbers\"], index = ['a','b','c','d','e'])\n",
    "df1"
   ]
  },
  {
   "cell_type": "code",
   "execution_count": 46,
   "id": "4a5df3f3",
   "metadata": {},
   "outputs": [
    {
     "data": {
      "text/html": [
       "<div>\n",
       "<style scoped>\n",
       "    .dataframe tbody tr th:only-of-type {\n",
       "        vertical-align: middle;\n",
       "    }\n",
       "\n",
       "    .dataframe tbody tr th {\n",
       "        vertical-align: top;\n",
       "    }\n",
       "\n",
       "    .dataframe thead th {\n",
       "        text-align: right;\n",
       "    }\n",
       "</style>\n",
       "<table border=\"1\" class=\"dataframe\">\n",
       "  <thead>\n",
       "    <tr style=\"text-align: right;\">\n",
       "      <th></th>\n",
       "      <th>numbers</th>\n",
       "    </tr>\n",
       "  </thead>\n",
       "  <tbody>\n",
       "    <tr>\n",
       "      <th>a</th>\n",
       "      <td>1</td>\n",
       "    </tr>\n",
       "    <tr>\n",
       "      <th>b</th>\n",
       "      <td>2</td>\n",
       "    </tr>\n",
       "    <tr>\n",
       "      <th>c</th>\n",
       "      <td>3</td>\n",
       "    </tr>\n",
       "    <tr>\n",
       "      <th>d</th>\n",
       "      <td>4</td>\n",
       "    </tr>\n",
       "    <tr>\n",
       "      <th>e</th>\n",
       "      <td>5</td>\n",
       "    </tr>\n",
       "  </tbody>\n",
       "</table>\n",
       "</div>"
      ],
      "text/plain": [
       "   numbers\n",
       "a        1\n",
       "b        2\n",
       "c        3\n",
       "d        4\n",
       "e        5"
      ]
     },
     "execution_count": 46,
     "metadata": {},
     "output_type": "execute_result"
    }
   ],
   "source": [
    "df2 = pd.DataFrame({'numbers': [1, 2,3,4,5]}, index=['a','b','c','d','e'])\n",
    "df2"
   ]
  },
  {
   "cell_type": "code",
   "execution_count": 66,
   "id": "cf4cba3c",
   "metadata": {},
   "outputs": [
    {
     "data": {
      "text/html": [
       "<div>\n",
       "<style scoped>\n",
       "    .dataframe tbody tr th:only-of-type {\n",
       "        vertical-align: middle;\n",
       "    }\n",
       "\n",
       "    .dataframe tbody tr th {\n",
       "        vertical-align: top;\n",
       "    }\n",
       "\n",
       "    .dataframe thead th {\n",
       "        text-align: right;\n",
       "    }\n",
       "</style>\n",
       "<table border=\"1\" class=\"dataframe\">\n",
       "  <thead>\n",
       "    <tr style=\"text-align: right;\">\n",
       "      <th></th>\n",
       "      <th>numbers</th>\n",
       "    </tr>\n",
       "  </thead>\n",
       "  <tbody>\n",
       "    <tr>\n",
       "      <th>a</th>\n",
       "      <td>1</td>\n",
       "    </tr>\n",
       "    <tr>\n",
       "      <th>b</th>\n",
       "      <td>2</td>\n",
       "    </tr>\n",
       "    <tr>\n",
       "      <th>c</th>\n",
       "      <td>3</td>\n",
       "    </tr>\n",
       "    <tr>\n",
       "      <th>d</th>\n",
       "      <td>4</td>\n",
       "    </tr>\n",
       "    <tr>\n",
       "      <th>e</th>\n",
       "      <td>5</td>\n",
       "    </tr>\n",
       "  </tbody>\n",
       "</table>\n",
       "</div>"
      ],
      "text/plain": [
       "   numbers\n",
       "a        1\n",
       "b        2\n",
       "c        3\n",
       "d        4\n",
       "e        5"
      ]
     },
     "execution_count": 66,
     "metadata": {},
     "output_type": "execute_result"
    }
   ],
   "source": [
    "df3 = pd.DataFrame({'numbers': [1, 2,3,4,5]}, index=['a','b','c','d','e'])\n",
    "df3"
   ]
  },
  {
   "cell_type": "code",
   "execution_count": 47,
   "id": "c36845d8",
   "metadata": {},
   "outputs": [
    {
     "data": {
      "text/html": [
       "<div>\n",
       "<style scoped>\n",
       "    .dataframe tbody tr th:only-of-type {\n",
       "        vertical-align: middle;\n",
       "    }\n",
       "\n",
       "    .dataframe tbody tr th {\n",
       "        vertical-align: top;\n",
       "    }\n",
       "\n",
       "    .dataframe thead th {\n",
       "        text-align: right;\n",
       "    }\n",
       "</style>\n",
       "<table border=\"1\" class=\"dataframe\">\n",
       "  <thead>\n",
       "    <tr style=\"text-align: right;\">\n",
       "      <th></th>\n",
       "      <th>Binary_variable</th>\n",
       "      <th>age</th>\n",
       "    </tr>\n",
       "  </thead>\n",
       "  <tbody>\n",
       "    <tr>\n",
       "      <th>0</th>\n",
       "      <td>0</td>\n",
       "      <td>18</td>\n",
       "    </tr>\n",
       "    <tr>\n",
       "      <th>1</th>\n",
       "      <td>1</td>\n",
       "      <td>20</td>\n",
       "    </tr>\n",
       "    <tr>\n",
       "      <th>2</th>\n",
       "      <td>1</td>\n",
       "      <td>25</td>\n",
       "    </tr>\n",
       "  </tbody>\n",
       "</table>\n",
       "</div>"
      ],
      "text/plain": [
       "   Binary_variable  age\n",
       "0                0   18\n",
       "1                1   20\n",
       "2                1   25"
      ]
     },
     "execution_count": 47,
     "metadata": {},
     "output_type": "execute_result"
    }
   ],
   "source": [
    "df4 = pd.DataFrame({'Binary_variable': [0,1,1], 'age': [18,20,25]})\n",
    "df4"
   ]
  },
  {
   "cell_type": "code",
   "execution_count": 48,
   "id": "cfd0e9b7",
   "metadata": {},
   "outputs": [],
   "source": [
    "# reading data file\n",
    "\n",
    "import os #This package allows us to change our working directory\n",
    "\n",
    "# Set our working directory\n",
    "path = '/Users/liangjiawen/PycharmProjects/Python workshop/data'\n",
    "os.chdir(path)\n",
    "\n",
    "filename = 'stock_prices.csv'\n",
    "price_df = pd.read_csv(filename)\n",
    "\n",
    "# df = pd.read_excel(\"xxx.xlxs\")"
   ]
  },
  {
   "cell_type": "code",
   "execution_count": 49,
   "id": "6e51dc8f",
   "metadata": {},
   "outputs": [
    {
     "data": {
      "text/html": [
       "<div>\n",
       "<style scoped>\n",
       "    .dataframe tbody tr th:only-of-type {\n",
       "        vertical-align: middle;\n",
       "    }\n",
       "\n",
       "    .dataframe tbody tr th {\n",
       "        vertical-align: top;\n",
       "    }\n",
       "\n",
       "    .dataframe thead th {\n",
       "        text-align: right;\n",
       "    }\n",
       "</style>\n",
       "<table border=\"1\" class=\"dataframe\">\n",
       "  <thead>\n",
       "    <tr style=\"text-align: right;\">\n",
       "      <th></th>\n",
       "      <th>date</th>\n",
       "      <th>AAPL</th>\n",
       "      <th>GE</th>\n",
       "      <th>AMD</th>\n",
       "      <th>WMT</th>\n",
       "      <th>BAC</th>\n",
       "      <th>T</th>\n",
       "      <th>XOM</th>\n",
       "      <th>RRC</th>\n",
       "      <th>BBY</th>\n",
       "      <th>PFE</th>\n",
       "      <th>JPM</th>\n",
       "    </tr>\n",
       "  </thead>\n",
       "  <tbody>\n",
       "    <tr>\n",
       "      <th>0</th>\n",
       "      <td>29/12/1989</td>\n",
       "      <td>0.117203</td>\n",
       "      <td>0.352438</td>\n",
       "      <td>3.9375</td>\n",
       "      <td>3.486070</td>\n",
       "      <td>1.752478</td>\n",
       "      <td>2.365775</td>\n",
       "      <td>1.766756</td>\n",
       "      <td>NaN</td>\n",
       "      <td>0.166287</td>\n",
       "      <td>0.110818</td>\n",
       "      <td>1.827968</td>\n",
       "    </tr>\n",
       "    <tr>\n",
       "      <th>1</th>\n",
       "      <td>02/01/1990</td>\n",
       "      <td>0.123853</td>\n",
       "      <td>0.364733</td>\n",
       "      <td>4.1250</td>\n",
       "      <td>3.660858</td>\n",
       "      <td>1.766686</td>\n",
       "      <td>2.398184</td>\n",
       "      <td>1.766756</td>\n",
       "      <td>NaN</td>\n",
       "      <td>0.173216</td>\n",
       "      <td>0.113209</td>\n",
       "      <td>1.835617</td>\n",
       "    </tr>\n",
       "    <tr>\n",
       "      <th>2</th>\n",
       "      <td>03/01/1990</td>\n",
       "      <td>0.124684</td>\n",
       "      <td>0.364050</td>\n",
       "      <td>4.0000</td>\n",
       "      <td>3.660858</td>\n",
       "      <td>1.780897</td>\n",
       "      <td>2.356516</td>\n",
       "      <td>1.749088</td>\n",
       "      <td>NaN</td>\n",
       "      <td>0.194001</td>\n",
       "      <td>0.113608</td>\n",
       "      <td>1.896803</td>\n",
       "    </tr>\n",
       "    <tr>\n",
       "      <th>3</th>\n",
       "      <td>04/01/1990</td>\n",
       "      <td>0.125100</td>\n",
       "      <td>0.362001</td>\n",
       "      <td>3.9375</td>\n",
       "      <td>3.641439</td>\n",
       "      <td>1.743005</td>\n",
       "      <td>2.403821</td>\n",
       "      <td>1.731422</td>\n",
       "      <td>NaN</td>\n",
       "      <td>0.190537</td>\n",
       "      <td>0.115402</td>\n",
       "      <td>1.904452</td>\n",
       "    </tr>\n",
       "    <tr>\n",
       "      <th>4</th>\n",
       "      <td>05/01/1990</td>\n",
       "      <td>0.125516</td>\n",
       "      <td>0.358586</td>\n",
       "      <td>3.8125</td>\n",
       "      <td>3.602595</td>\n",
       "      <td>1.705114</td>\n",
       "      <td>2.287973</td>\n",
       "      <td>1.722587</td>\n",
       "      <td>NaN</td>\n",
       "      <td>0.190537</td>\n",
       "      <td>0.114405</td>\n",
       "      <td>1.912100</td>\n",
       "    </tr>\n",
       "    <tr>\n",
       "      <th>...</th>\n",
       "      <td>...</td>\n",
       "      <td>...</td>\n",
       "      <td>...</td>\n",
       "      <td>...</td>\n",
       "      <td>...</td>\n",
       "      <td>...</td>\n",
       "      <td>...</td>\n",
       "      <td>...</td>\n",
       "      <td>...</td>\n",
       "      <td>...</td>\n",
       "      <td>...</td>\n",
       "      <td>...</td>\n",
       "    </tr>\n",
       "    <tr>\n",
       "      <th>7121</th>\n",
       "      <td>05/04/2018</td>\n",
       "      <td>172.800003</td>\n",
       "      <td>13.430000</td>\n",
       "      <td>10.0200</td>\n",
       "      <td>87.809998</td>\n",
       "      <td>30.320000</td>\n",
       "      <td>35.632843</td>\n",
       "      <td>76.019997</td>\n",
       "      <td>14.52</td>\n",
       "      <td>72.120003</td>\n",
       "      <td>35.730000</td>\n",
       "      <td>111.879997</td>\n",
       "    </tr>\n",
       "    <tr>\n",
       "      <th>7122</th>\n",
       "      <td>06/04/2018</td>\n",
       "      <td>168.380005</td>\n",
       "      <td>13.060000</td>\n",
       "      <td>9.6100</td>\n",
       "      <td>86.690002</td>\n",
       "      <td>29.629999</td>\n",
       "      <td>35.130001</td>\n",
       "      <td>74.870003</td>\n",
       "      <td>13.97</td>\n",
       "      <td>70.489998</td>\n",
       "      <td>35.169998</td>\n",
       "      <td>109.089996</td>\n",
       "    </tr>\n",
       "    <tr>\n",
       "      <th>7123</th>\n",
       "      <td>09/04/2018</td>\n",
       "      <td>170.050003</td>\n",
       "      <td>12.830000</td>\n",
       "      <td>9.5300</td>\n",
       "      <td>86.279999</td>\n",
       "      <td>29.870001</td>\n",
       "      <td>35.169998</td>\n",
       "      <td>74.870003</td>\n",
       "      <td>13.93</td>\n",
       "      <td>69.820000</td>\n",
       "      <td>35.459999</td>\n",
       "      <td>110.400002</td>\n",
       "    </tr>\n",
       "    <tr>\n",
       "      <th>7124</th>\n",
       "      <td>10/04/2018</td>\n",
       "      <td>173.250000</td>\n",
       "      <td>13.050000</td>\n",
       "      <td>9.9800</td>\n",
       "      <td>86.449997</td>\n",
       "      <td>30.480000</td>\n",
       "      <td>35.810001</td>\n",
       "      <td>77.070000</td>\n",
       "      <td>14.78</td>\n",
       "      <td>71.720001</td>\n",
       "      <td>35.950001</td>\n",
       "      <td>112.510002</td>\n",
       "    </tr>\n",
       "    <tr>\n",
       "      <th>7125</th>\n",
       "      <td>11/04/2018</td>\n",
       "      <td>172.440002</td>\n",
       "      <td>12.970000</td>\n",
       "      <td>9.8200</td>\n",
       "      <td>85.910004</td>\n",
       "      <td>29.900000</td>\n",
       "      <td>35.250000</td>\n",
       "      <td>77.430000</td>\n",
       "      <td>14.99</td>\n",
       "      <td>70.910004</td>\n",
       "      <td>35.790001</td>\n",
       "      <td>110.620003</td>\n",
       "    </tr>\n",
       "  </tbody>\n",
       "</table>\n",
       "<p>7126 rows × 12 columns</p>\n",
       "</div>"
      ],
      "text/plain": [
       "            date        AAPL         GE      AMD        WMT        BAC  \\\n",
       "0     29/12/1989    0.117203   0.352438   3.9375   3.486070   1.752478   \n",
       "1     02/01/1990    0.123853   0.364733   4.1250   3.660858   1.766686   \n",
       "2     03/01/1990    0.124684   0.364050   4.0000   3.660858   1.780897   \n",
       "3     04/01/1990    0.125100   0.362001   3.9375   3.641439   1.743005   \n",
       "4     05/01/1990    0.125516   0.358586   3.8125   3.602595   1.705114   \n",
       "...          ...         ...        ...      ...        ...        ...   \n",
       "7121  05/04/2018  172.800003  13.430000  10.0200  87.809998  30.320000   \n",
       "7122  06/04/2018  168.380005  13.060000   9.6100  86.690002  29.629999   \n",
       "7123  09/04/2018  170.050003  12.830000   9.5300  86.279999  29.870001   \n",
       "7124  10/04/2018  173.250000  13.050000   9.9800  86.449997  30.480000   \n",
       "7125  11/04/2018  172.440002  12.970000   9.8200  85.910004  29.900000   \n",
       "\n",
       "              T        XOM    RRC        BBY        PFE         JPM  \n",
       "0      2.365775   1.766756    NaN   0.166287   0.110818    1.827968  \n",
       "1      2.398184   1.766756    NaN   0.173216   0.113209    1.835617  \n",
       "2      2.356516   1.749088    NaN   0.194001   0.113608    1.896803  \n",
       "3      2.403821   1.731422    NaN   0.190537   0.115402    1.904452  \n",
       "4      2.287973   1.722587    NaN   0.190537   0.114405    1.912100  \n",
       "...         ...        ...    ...        ...        ...         ...  \n",
       "7121  35.632843  76.019997  14.52  72.120003  35.730000  111.879997  \n",
       "7122  35.130001  74.870003  13.97  70.489998  35.169998  109.089996  \n",
       "7123  35.169998  74.870003  13.93  69.820000  35.459999  110.400002  \n",
       "7124  35.810001  77.070000  14.78  71.720001  35.950001  112.510002  \n",
       "7125  35.250000  77.430000  14.99  70.910004  35.790001  110.620003  \n",
       "\n",
       "[7126 rows x 12 columns]"
      ]
     },
     "execution_count": 49,
     "metadata": {},
     "output_type": "execute_result"
    }
   ],
   "source": [
    "price_df"
   ]
  },
  {
   "cell_type": "code",
   "execution_count": 53,
   "id": "536b9f77",
   "metadata": {},
   "outputs": [
    {
     "data": {
      "text/plain": [
       "Index(['date', 'AAPL', 'GE', 'AMD', 'WMT', 'BAC', 'T', 'XOM', 'RRC', 'BBY',\n",
       "       'PFE', 'JPM'],\n",
       "      dtype='object')"
      ]
     },
     "execution_count": 53,
     "metadata": {},
     "output_type": "execute_result"
    }
   ],
   "source": [
    "price_df.columns"
   ]
  },
  {
   "cell_type": "code",
   "execution_count": 121,
   "id": "0cb237ab",
   "metadata": {},
   "outputs": [],
   "source": [
    "# save this df\n",
    "# Set our working directory\n",
    "path = '/Users/liangjiawen/PycharmProjects/Python workshop/data'\n",
    "os.chdir(path)\n",
    "price_df.to_csv(\"save_data.csv\")"
   ]
  },
  {
   "cell_type": "markdown",
   "id": "dc2c1d4e",
   "metadata": {},
   "source": [
    "## typical operations on a DataFrame object"
   ]
  },
  {
   "cell_type": "code",
   "execution_count": 56,
   "id": "e55a8248",
   "metadata": {},
   "outputs": [
    {
     "data": {
      "text/plain": [
       "(7126, 12)"
      ]
     },
     "execution_count": 56,
     "metadata": {},
     "output_type": "execute_result"
    }
   ],
   "source": [
    "# check how large of your df\n",
    "price_df.shape"
   ]
  },
  {
   "cell_type": "code",
   "execution_count": 57,
   "id": "57474f21",
   "metadata": {},
   "outputs": [
    {
     "data": {
      "text/html": [
       "<div>\n",
       "<style scoped>\n",
       "    .dataframe tbody tr th:only-of-type {\n",
       "        vertical-align: middle;\n",
       "    }\n",
       "\n",
       "    .dataframe tbody tr th {\n",
       "        vertical-align: top;\n",
       "    }\n",
       "\n",
       "    .dataframe thead th {\n",
       "        text-align: right;\n",
       "    }\n",
       "</style>\n",
       "<table border=\"1\" class=\"dataframe\">\n",
       "  <thead>\n",
       "    <tr style=\"text-align: right;\">\n",
       "      <th></th>\n",
       "      <th>date</th>\n",
       "      <th>AAPL</th>\n",
       "      <th>GE</th>\n",
       "      <th>AMD</th>\n",
       "      <th>WMT</th>\n",
       "      <th>BAC</th>\n",
       "      <th>T</th>\n",
       "      <th>XOM</th>\n",
       "      <th>RRC</th>\n",
       "      <th>BBY</th>\n",
       "      <th>PFE</th>\n",
       "      <th>JPM</th>\n",
       "    </tr>\n",
       "  </thead>\n",
       "  <tbody>\n",
       "    <tr>\n",
       "      <th>0</th>\n",
       "      <td>29/12/1989</td>\n",
       "      <td>0.117203</td>\n",
       "      <td>0.352438</td>\n",
       "      <td>3.9375</td>\n",
       "      <td>3.486070</td>\n",
       "      <td>1.752478</td>\n",
       "      <td>2.365775</td>\n",
       "      <td>1.766756</td>\n",
       "      <td>NaN</td>\n",
       "      <td>0.166287</td>\n",
       "      <td>0.110818</td>\n",
       "      <td>1.827968</td>\n",
       "    </tr>\n",
       "    <tr>\n",
       "      <th>1</th>\n",
       "      <td>02/01/1990</td>\n",
       "      <td>0.123853</td>\n",
       "      <td>0.364733</td>\n",
       "      <td>4.1250</td>\n",
       "      <td>3.660858</td>\n",
       "      <td>1.766686</td>\n",
       "      <td>2.398184</td>\n",
       "      <td>1.766756</td>\n",
       "      <td>NaN</td>\n",
       "      <td>0.173216</td>\n",
       "      <td>0.113209</td>\n",
       "      <td>1.835617</td>\n",
       "    </tr>\n",
       "    <tr>\n",
       "      <th>2</th>\n",
       "      <td>03/01/1990</td>\n",
       "      <td>0.124684</td>\n",
       "      <td>0.364050</td>\n",
       "      <td>4.0000</td>\n",
       "      <td>3.660858</td>\n",
       "      <td>1.780897</td>\n",
       "      <td>2.356516</td>\n",
       "      <td>1.749088</td>\n",
       "      <td>NaN</td>\n",
       "      <td>0.194001</td>\n",
       "      <td>0.113608</td>\n",
       "      <td>1.896803</td>\n",
       "    </tr>\n",
       "    <tr>\n",
       "      <th>3</th>\n",
       "      <td>04/01/1990</td>\n",
       "      <td>0.125100</td>\n",
       "      <td>0.362001</td>\n",
       "      <td>3.9375</td>\n",
       "      <td>3.641439</td>\n",
       "      <td>1.743005</td>\n",
       "      <td>2.403821</td>\n",
       "      <td>1.731422</td>\n",
       "      <td>NaN</td>\n",
       "      <td>0.190537</td>\n",
       "      <td>0.115402</td>\n",
       "      <td>1.904452</td>\n",
       "    </tr>\n",
       "    <tr>\n",
       "      <th>4</th>\n",
       "      <td>05/01/1990</td>\n",
       "      <td>0.125516</td>\n",
       "      <td>0.358586</td>\n",
       "      <td>3.8125</td>\n",
       "      <td>3.602595</td>\n",
       "      <td>1.705114</td>\n",
       "      <td>2.287973</td>\n",
       "      <td>1.722587</td>\n",
       "      <td>NaN</td>\n",
       "      <td>0.190537</td>\n",
       "      <td>0.114405</td>\n",
       "      <td>1.912100</td>\n",
       "    </tr>\n",
       "  </tbody>\n",
       "</table>\n",
       "</div>"
      ],
      "text/plain": [
       "         date      AAPL        GE     AMD       WMT       BAC         T  \\\n",
       "0  29/12/1989  0.117203  0.352438  3.9375  3.486070  1.752478  2.365775   \n",
       "1  02/01/1990  0.123853  0.364733  4.1250  3.660858  1.766686  2.398184   \n",
       "2  03/01/1990  0.124684  0.364050  4.0000  3.660858  1.780897  2.356516   \n",
       "3  04/01/1990  0.125100  0.362001  3.9375  3.641439  1.743005  2.403821   \n",
       "4  05/01/1990  0.125516  0.358586  3.8125  3.602595  1.705114  2.287973   \n",
       "\n",
       "        XOM  RRC       BBY       PFE       JPM  \n",
       "0  1.766756  NaN  0.166287  0.110818  1.827968  \n",
       "1  1.766756  NaN  0.173216  0.113209  1.835617  \n",
       "2  1.749088  NaN  0.194001  0.113608  1.896803  \n",
       "3  1.731422  NaN  0.190537  0.115402  1.904452  \n",
       "4  1.722587  NaN  0.190537  0.114405  1.912100  "
      ]
     },
     "execution_count": 57,
     "metadata": {},
     "output_type": "execute_result"
    }
   ],
   "source": [
    "# grabs the first five rows\n",
    "price_df.head()"
   ]
  },
  {
   "cell_type": "code",
   "execution_count": 58,
   "id": "0d598850",
   "metadata": {},
   "outputs": [],
   "source": [
    "price_df.set_index(\"date\", inplace=True)"
   ]
  },
  {
   "cell_type": "code",
   "execution_count": 59,
   "id": "0e14b617",
   "metadata": {},
   "outputs": [
    {
     "data": {
      "text/html": [
       "<div>\n",
       "<style scoped>\n",
       "    .dataframe tbody tr th:only-of-type {\n",
       "        vertical-align: middle;\n",
       "    }\n",
       "\n",
       "    .dataframe tbody tr th {\n",
       "        vertical-align: top;\n",
       "    }\n",
       "\n",
       "    .dataframe thead th {\n",
       "        text-align: right;\n",
       "    }\n",
       "</style>\n",
       "<table border=\"1\" class=\"dataframe\">\n",
       "  <thead>\n",
       "    <tr style=\"text-align: right;\">\n",
       "      <th></th>\n",
       "      <th>AAPL</th>\n",
       "      <th>GE</th>\n",
       "      <th>AMD</th>\n",
       "      <th>WMT</th>\n",
       "      <th>BAC</th>\n",
       "      <th>T</th>\n",
       "      <th>XOM</th>\n",
       "      <th>RRC</th>\n",
       "      <th>BBY</th>\n",
       "      <th>PFE</th>\n",
       "      <th>JPM</th>\n",
       "    </tr>\n",
       "    <tr>\n",
       "      <th>date</th>\n",
       "      <th></th>\n",
       "      <th></th>\n",
       "      <th></th>\n",
       "      <th></th>\n",
       "      <th></th>\n",
       "      <th></th>\n",
       "      <th></th>\n",
       "      <th></th>\n",
       "      <th></th>\n",
       "      <th></th>\n",
       "      <th></th>\n",
       "    </tr>\n",
       "  </thead>\n",
       "  <tbody>\n",
       "    <tr>\n",
       "      <th>29/12/1989</th>\n",
       "      <td>0.117203</td>\n",
       "      <td>0.352438</td>\n",
       "      <td>3.9375</td>\n",
       "      <td>3.486070</td>\n",
       "      <td>1.752478</td>\n",
       "      <td>2.365775</td>\n",
       "      <td>1.766756</td>\n",
       "      <td>NaN</td>\n",
       "      <td>0.166287</td>\n",
       "      <td>0.110818</td>\n",
       "      <td>1.827968</td>\n",
       "    </tr>\n",
       "    <tr>\n",
       "      <th>02/01/1990</th>\n",
       "      <td>0.123853</td>\n",
       "      <td>0.364733</td>\n",
       "      <td>4.1250</td>\n",
       "      <td>3.660858</td>\n",
       "      <td>1.766686</td>\n",
       "      <td>2.398184</td>\n",
       "      <td>1.766756</td>\n",
       "      <td>NaN</td>\n",
       "      <td>0.173216</td>\n",
       "      <td>0.113209</td>\n",
       "      <td>1.835617</td>\n",
       "    </tr>\n",
       "    <tr>\n",
       "      <th>03/01/1990</th>\n",
       "      <td>0.124684</td>\n",
       "      <td>0.364050</td>\n",
       "      <td>4.0000</td>\n",
       "      <td>3.660858</td>\n",
       "      <td>1.780897</td>\n",
       "      <td>2.356516</td>\n",
       "      <td>1.749088</td>\n",
       "      <td>NaN</td>\n",
       "      <td>0.194001</td>\n",
       "      <td>0.113608</td>\n",
       "      <td>1.896803</td>\n",
       "    </tr>\n",
       "    <tr>\n",
       "      <th>04/01/1990</th>\n",
       "      <td>0.125100</td>\n",
       "      <td>0.362001</td>\n",
       "      <td>3.9375</td>\n",
       "      <td>3.641439</td>\n",
       "      <td>1.743005</td>\n",
       "      <td>2.403821</td>\n",
       "      <td>1.731422</td>\n",
       "      <td>NaN</td>\n",
       "      <td>0.190537</td>\n",
       "      <td>0.115402</td>\n",
       "      <td>1.904452</td>\n",
       "    </tr>\n",
       "    <tr>\n",
       "      <th>05/01/1990</th>\n",
       "      <td>0.125516</td>\n",
       "      <td>0.358586</td>\n",
       "      <td>3.8125</td>\n",
       "      <td>3.602595</td>\n",
       "      <td>1.705114</td>\n",
       "      <td>2.287973</td>\n",
       "      <td>1.722587</td>\n",
       "      <td>NaN</td>\n",
       "      <td>0.190537</td>\n",
       "      <td>0.114405</td>\n",
       "      <td>1.912100</td>\n",
       "    </tr>\n",
       "    <tr>\n",
       "      <th>...</th>\n",
       "      <td>...</td>\n",
       "      <td>...</td>\n",
       "      <td>...</td>\n",
       "      <td>...</td>\n",
       "      <td>...</td>\n",
       "      <td>...</td>\n",
       "      <td>...</td>\n",
       "      <td>...</td>\n",
       "      <td>...</td>\n",
       "      <td>...</td>\n",
       "      <td>...</td>\n",
       "    </tr>\n",
       "    <tr>\n",
       "      <th>05/04/2018</th>\n",
       "      <td>172.800003</td>\n",
       "      <td>13.430000</td>\n",
       "      <td>10.0200</td>\n",
       "      <td>87.809998</td>\n",
       "      <td>30.320000</td>\n",
       "      <td>35.632843</td>\n",
       "      <td>76.019997</td>\n",
       "      <td>14.52</td>\n",
       "      <td>72.120003</td>\n",
       "      <td>35.730000</td>\n",
       "      <td>111.879997</td>\n",
       "    </tr>\n",
       "    <tr>\n",
       "      <th>06/04/2018</th>\n",
       "      <td>168.380005</td>\n",
       "      <td>13.060000</td>\n",
       "      <td>9.6100</td>\n",
       "      <td>86.690002</td>\n",
       "      <td>29.629999</td>\n",
       "      <td>35.130001</td>\n",
       "      <td>74.870003</td>\n",
       "      <td>13.97</td>\n",
       "      <td>70.489998</td>\n",
       "      <td>35.169998</td>\n",
       "      <td>109.089996</td>\n",
       "    </tr>\n",
       "    <tr>\n",
       "      <th>09/04/2018</th>\n",
       "      <td>170.050003</td>\n",
       "      <td>12.830000</td>\n",
       "      <td>9.5300</td>\n",
       "      <td>86.279999</td>\n",
       "      <td>29.870001</td>\n",
       "      <td>35.169998</td>\n",
       "      <td>74.870003</td>\n",
       "      <td>13.93</td>\n",
       "      <td>69.820000</td>\n",
       "      <td>35.459999</td>\n",
       "      <td>110.400002</td>\n",
       "    </tr>\n",
       "    <tr>\n",
       "      <th>10/04/2018</th>\n",
       "      <td>173.250000</td>\n",
       "      <td>13.050000</td>\n",
       "      <td>9.9800</td>\n",
       "      <td>86.449997</td>\n",
       "      <td>30.480000</td>\n",
       "      <td>35.810001</td>\n",
       "      <td>77.070000</td>\n",
       "      <td>14.78</td>\n",
       "      <td>71.720001</td>\n",
       "      <td>35.950001</td>\n",
       "      <td>112.510002</td>\n",
       "    </tr>\n",
       "    <tr>\n",
       "      <th>11/04/2018</th>\n",
       "      <td>172.440002</td>\n",
       "      <td>12.970000</td>\n",
       "      <td>9.8200</td>\n",
       "      <td>85.910004</td>\n",
       "      <td>29.900000</td>\n",
       "      <td>35.250000</td>\n",
       "      <td>77.430000</td>\n",
       "      <td>14.99</td>\n",
       "      <td>70.910004</td>\n",
       "      <td>35.790001</td>\n",
       "      <td>110.620003</td>\n",
       "    </tr>\n",
       "  </tbody>\n",
       "</table>\n",
       "<p>7126 rows × 11 columns</p>\n",
       "</div>"
      ],
      "text/plain": [
       "                  AAPL         GE      AMD        WMT        BAC          T  \\\n",
       "date                                                                          \n",
       "29/12/1989    0.117203   0.352438   3.9375   3.486070   1.752478   2.365775   \n",
       "02/01/1990    0.123853   0.364733   4.1250   3.660858   1.766686   2.398184   \n",
       "03/01/1990    0.124684   0.364050   4.0000   3.660858   1.780897   2.356516   \n",
       "04/01/1990    0.125100   0.362001   3.9375   3.641439   1.743005   2.403821   \n",
       "05/01/1990    0.125516   0.358586   3.8125   3.602595   1.705114   2.287973   \n",
       "...                ...        ...      ...        ...        ...        ...   \n",
       "05/04/2018  172.800003  13.430000  10.0200  87.809998  30.320000  35.632843   \n",
       "06/04/2018  168.380005  13.060000   9.6100  86.690002  29.629999  35.130001   \n",
       "09/04/2018  170.050003  12.830000   9.5300  86.279999  29.870001  35.169998   \n",
       "10/04/2018  173.250000  13.050000   9.9800  86.449997  30.480000  35.810001   \n",
       "11/04/2018  172.440002  12.970000   9.8200  85.910004  29.900000  35.250000   \n",
       "\n",
       "                  XOM    RRC        BBY        PFE         JPM  \n",
       "date                                                            \n",
       "29/12/1989   1.766756    NaN   0.166287   0.110818    1.827968  \n",
       "02/01/1990   1.766756    NaN   0.173216   0.113209    1.835617  \n",
       "03/01/1990   1.749088    NaN   0.194001   0.113608    1.896803  \n",
       "04/01/1990   1.731422    NaN   0.190537   0.115402    1.904452  \n",
       "05/01/1990   1.722587    NaN   0.190537   0.114405    1.912100  \n",
       "...               ...    ...        ...        ...         ...  \n",
       "05/04/2018  76.019997  14.52  72.120003  35.730000  111.879997  \n",
       "06/04/2018  74.870003  13.97  70.489998  35.169998  109.089996  \n",
       "09/04/2018  74.870003  13.93  69.820000  35.459999  110.400002  \n",
       "10/04/2018  77.070000  14.78  71.720001  35.950001  112.510002  \n",
       "11/04/2018  77.430000  14.99  70.910004  35.790001  110.620003  \n",
       "\n",
       "[7126 rows x 11 columns]"
      ]
     },
     "execution_count": 59,
     "metadata": {},
     "output_type": "execute_result"
    }
   ],
   "source": [
    "price_df"
   ]
  },
  {
   "cell_type": "code",
   "execution_count": 61,
   "id": "dc90ed7f",
   "metadata": {},
   "outputs": [
    {
     "data": {
      "text/html": [
       "<div>\n",
       "<style scoped>\n",
       "    .dataframe tbody tr th:only-of-type {\n",
       "        vertical-align: middle;\n",
       "    }\n",
       "\n",
       "    .dataframe tbody tr th {\n",
       "        vertical-align: top;\n",
       "    }\n",
       "\n",
       "    .dataframe thead th {\n",
       "        text-align: right;\n",
       "    }\n",
       "</style>\n",
       "<table border=\"1\" class=\"dataframe\">\n",
       "  <thead>\n",
       "    <tr style=\"text-align: right;\">\n",
       "      <th></th>\n",
       "      <th>index</th>\n",
       "      <th>date</th>\n",
       "      <th>AAPL</th>\n",
       "      <th>GE</th>\n",
       "      <th>AMD</th>\n",
       "      <th>WMT</th>\n",
       "      <th>BAC</th>\n",
       "      <th>T</th>\n",
       "      <th>XOM</th>\n",
       "      <th>RRC</th>\n",
       "      <th>BBY</th>\n",
       "      <th>PFE</th>\n",
       "      <th>JPM</th>\n",
       "    </tr>\n",
       "  </thead>\n",
       "  <tbody>\n",
       "    <tr>\n",
       "      <th>0</th>\n",
       "      <td>0</td>\n",
       "      <td>29/12/1989</td>\n",
       "      <td>0.117203</td>\n",
       "      <td>0.352438</td>\n",
       "      <td>3.9375</td>\n",
       "      <td>3.486070</td>\n",
       "      <td>1.752478</td>\n",
       "      <td>2.365775</td>\n",
       "      <td>1.766756</td>\n",
       "      <td>NaN</td>\n",
       "      <td>0.166287</td>\n",
       "      <td>0.110818</td>\n",
       "      <td>1.827968</td>\n",
       "    </tr>\n",
       "    <tr>\n",
       "      <th>1</th>\n",
       "      <td>1</td>\n",
       "      <td>02/01/1990</td>\n",
       "      <td>0.123853</td>\n",
       "      <td>0.364733</td>\n",
       "      <td>4.1250</td>\n",
       "      <td>3.660858</td>\n",
       "      <td>1.766686</td>\n",
       "      <td>2.398184</td>\n",
       "      <td>1.766756</td>\n",
       "      <td>NaN</td>\n",
       "      <td>0.173216</td>\n",
       "      <td>0.113209</td>\n",
       "      <td>1.835617</td>\n",
       "    </tr>\n",
       "    <tr>\n",
       "      <th>2</th>\n",
       "      <td>2</td>\n",
       "      <td>03/01/1990</td>\n",
       "      <td>0.124684</td>\n",
       "      <td>0.364050</td>\n",
       "      <td>4.0000</td>\n",
       "      <td>3.660858</td>\n",
       "      <td>1.780897</td>\n",
       "      <td>2.356516</td>\n",
       "      <td>1.749088</td>\n",
       "      <td>NaN</td>\n",
       "      <td>0.194001</td>\n",
       "      <td>0.113608</td>\n",
       "      <td>1.896803</td>\n",
       "    </tr>\n",
       "    <tr>\n",
       "      <th>3</th>\n",
       "      <td>3</td>\n",
       "      <td>04/01/1990</td>\n",
       "      <td>0.125100</td>\n",
       "      <td>0.362001</td>\n",
       "      <td>3.9375</td>\n",
       "      <td>3.641439</td>\n",
       "      <td>1.743005</td>\n",
       "      <td>2.403821</td>\n",
       "      <td>1.731422</td>\n",
       "      <td>NaN</td>\n",
       "      <td>0.190537</td>\n",
       "      <td>0.115402</td>\n",
       "      <td>1.904452</td>\n",
       "    </tr>\n",
       "    <tr>\n",
       "      <th>4</th>\n",
       "      <td>4</td>\n",
       "      <td>05/01/1990</td>\n",
       "      <td>0.125516</td>\n",
       "      <td>0.358586</td>\n",
       "      <td>3.8125</td>\n",
       "      <td>3.602595</td>\n",
       "      <td>1.705114</td>\n",
       "      <td>2.287973</td>\n",
       "      <td>1.722587</td>\n",
       "      <td>NaN</td>\n",
       "      <td>0.190537</td>\n",
       "      <td>0.114405</td>\n",
       "      <td>1.912100</td>\n",
       "    </tr>\n",
       "    <tr>\n",
       "      <th>...</th>\n",
       "      <td>...</td>\n",
       "      <td>...</td>\n",
       "      <td>...</td>\n",
       "      <td>...</td>\n",
       "      <td>...</td>\n",
       "      <td>...</td>\n",
       "      <td>...</td>\n",
       "      <td>...</td>\n",
       "      <td>...</td>\n",
       "      <td>...</td>\n",
       "      <td>...</td>\n",
       "      <td>...</td>\n",
       "      <td>...</td>\n",
       "    </tr>\n",
       "    <tr>\n",
       "      <th>7121</th>\n",
       "      <td>7121</td>\n",
       "      <td>05/04/2018</td>\n",
       "      <td>172.800003</td>\n",
       "      <td>13.430000</td>\n",
       "      <td>10.0200</td>\n",
       "      <td>87.809998</td>\n",
       "      <td>30.320000</td>\n",
       "      <td>35.632843</td>\n",
       "      <td>76.019997</td>\n",
       "      <td>14.52</td>\n",
       "      <td>72.120003</td>\n",
       "      <td>35.730000</td>\n",
       "      <td>111.879997</td>\n",
       "    </tr>\n",
       "    <tr>\n",
       "      <th>7122</th>\n",
       "      <td>7122</td>\n",
       "      <td>06/04/2018</td>\n",
       "      <td>168.380005</td>\n",
       "      <td>13.060000</td>\n",
       "      <td>9.6100</td>\n",
       "      <td>86.690002</td>\n",
       "      <td>29.629999</td>\n",
       "      <td>35.130001</td>\n",
       "      <td>74.870003</td>\n",
       "      <td>13.97</td>\n",
       "      <td>70.489998</td>\n",
       "      <td>35.169998</td>\n",
       "      <td>109.089996</td>\n",
       "    </tr>\n",
       "    <tr>\n",
       "      <th>7123</th>\n",
       "      <td>7123</td>\n",
       "      <td>09/04/2018</td>\n",
       "      <td>170.050003</td>\n",
       "      <td>12.830000</td>\n",
       "      <td>9.5300</td>\n",
       "      <td>86.279999</td>\n",
       "      <td>29.870001</td>\n",
       "      <td>35.169998</td>\n",
       "      <td>74.870003</td>\n",
       "      <td>13.93</td>\n",
       "      <td>69.820000</td>\n",
       "      <td>35.459999</td>\n",
       "      <td>110.400002</td>\n",
       "    </tr>\n",
       "    <tr>\n",
       "      <th>7124</th>\n",
       "      <td>7124</td>\n",
       "      <td>10/04/2018</td>\n",
       "      <td>173.250000</td>\n",
       "      <td>13.050000</td>\n",
       "      <td>9.9800</td>\n",
       "      <td>86.449997</td>\n",
       "      <td>30.480000</td>\n",
       "      <td>35.810001</td>\n",
       "      <td>77.070000</td>\n",
       "      <td>14.78</td>\n",
       "      <td>71.720001</td>\n",
       "      <td>35.950001</td>\n",
       "      <td>112.510002</td>\n",
       "    </tr>\n",
       "    <tr>\n",
       "      <th>7125</th>\n",
       "      <td>7125</td>\n",
       "      <td>11/04/2018</td>\n",
       "      <td>172.440002</td>\n",
       "      <td>12.970000</td>\n",
       "      <td>9.8200</td>\n",
       "      <td>85.910004</td>\n",
       "      <td>29.900000</td>\n",
       "      <td>35.250000</td>\n",
       "      <td>77.430000</td>\n",
       "      <td>14.99</td>\n",
       "      <td>70.910004</td>\n",
       "      <td>35.790001</td>\n",
       "      <td>110.620003</td>\n",
       "    </tr>\n",
       "  </tbody>\n",
       "</table>\n",
       "<p>7126 rows × 13 columns</p>\n",
       "</div>"
      ],
      "text/plain": [
       "      index        date        AAPL         GE      AMD        WMT        BAC  \\\n",
       "0         0  29/12/1989    0.117203   0.352438   3.9375   3.486070   1.752478   \n",
       "1         1  02/01/1990    0.123853   0.364733   4.1250   3.660858   1.766686   \n",
       "2         2  03/01/1990    0.124684   0.364050   4.0000   3.660858   1.780897   \n",
       "3         3  04/01/1990    0.125100   0.362001   3.9375   3.641439   1.743005   \n",
       "4         4  05/01/1990    0.125516   0.358586   3.8125   3.602595   1.705114   \n",
       "...     ...         ...         ...        ...      ...        ...        ...   \n",
       "7121   7121  05/04/2018  172.800003  13.430000  10.0200  87.809998  30.320000   \n",
       "7122   7122  06/04/2018  168.380005  13.060000   9.6100  86.690002  29.629999   \n",
       "7123   7123  09/04/2018  170.050003  12.830000   9.5300  86.279999  29.870001   \n",
       "7124   7124  10/04/2018  173.250000  13.050000   9.9800  86.449997  30.480000   \n",
       "7125   7125  11/04/2018  172.440002  12.970000   9.8200  85.910004  29.900000   \n",
       "\n",
       "              T        XOM    RRC        BBY        PFE         JPM  \n",
       "0      2.365775   1.766756    NaN   0.166287   0.110818    1.827968  \n",
       "1      2.398184   1.766756    NaN   0.173216   0.113209    1.835617  \n",
       "2      2.356516   1.749088    NaN   0.194001   0.113608    1.896803  \n",
       "3      2.403821   1.731422    NaN   0.190537   0.115402    1.904452  \n",
       "4      2.287973   1.722587    NaN   0.190537   0.114405    1.912100  \n",
       "...         ...        ...    ...        ...        ...         ...  \n",
       "7121  35.632843  76.019997  14.52  72.120003  35.730000  111.879997  \n",
       "7122  35.130001  74.870003  13.97  70.489998  35.169998  109.089996  \n",
       "7123  35.169998  74.870003  13.93  69.820000  35.459999  110.400002  \n",
       "7124  35.810001  77.070000  14.78  71.720001  35.950001  112.510002  \n",
       "7125  35.250000  77.430000  14.99  70.910004  35.790001  110.620003  \n",
       "\n",
       "[7126 rows x 13 columns]"
      ]
     },
     "execution_count": 61,
     "metadata": {},
     "output_type": "execute_result"
    }
   ],
   "source": [
    "# use the default index\n",
    "price_df.reset_index(inplace=True)\n",
    "price_df"
   ]
  },
  {
   "cell_type": "code",
   "execution_count": 62,
   "id": "110b9cd2",
   "metadata": {},
   "outputs": [
    {
     "data": {
      "text/plain": [
       "Index(['index', 'date', 'AAPL', 'GE', 'AMD', 'WMT', 'BAC', 'T', 'XOM', 'RRC',\n",
       "       'BBY', 'PFE', 'JPM'],\n",
       "      dtype='object')"
      ]
     },
     "execution_count": 62,
     "metadata": {},
     "output_type": "execute_result"
    }
   ],
   "source": [
    "price_df.columns"
   ]
  },
  {
   "cell_type": "code",
   "execution_count": 63,
   "id": "5f9ed73d",
   "metadata": {},
   "outputs": [
    {
     "data": {
      "text/plain": [
       "RangeIndex(start=0, stop=7126, step=1)"
      ]
     },
     "execution_count": 63,
     "metadata": {},
     "output_type": "execute_result"
    }
   ],
   "source": [
    "price_df.index"
   ]
  },
  {
   "cell_type": "markdown",
   "id": "160dbc50",
   "metadata": {},
   "source": [
    "## index, select and assign\n",
    "- iloc[ , ], select values on the rows/ columns or value with row and column index by their positions.\n",
    "\n",
    "- loc[ , ], Label-based selection. select by values instead of positions."
   ]
  },
  {
   "cell_type": "code",
   "execution_count": 64,
   "id": "3c44fb2d",
   "metadata": {},
   "outputs": [
    {
     "data": {
      "text/plain": [
       "0.117203"
      ]
     },
     "execution_count": 64,
     "metadata": {},
     "output_type": "execute_result"
    }
   ],
   "source": [
    "price_df[\"AAPL\"][0]"
   ]
  },
  {
   "cell_type": "code",
   "execution_count": 66,
   "id": "7965a412",
   "metadata": {},
   "outputs": [
    {
     "data": {
      "text/html": [
       "<div>\n",
       "<style scoped>\n",
       "    .dataframe tbody tr th:only-of-type {\n",
       "        vertical-align: middle;\n",
       "    }\n",
       "\n",
       "    .dataframe tbody tr th {\n",
       "        vertical-align: top;\n",
       "    }\n",
       "\n",
       "    .dataframe thead th {\n",
       "        text-align: right;\n",
       "    }\n",
       "</style>\n",
       "<table border=\"1\" class=\"dataframe\">\n",
       "  <thead>\n",
       "    <tr style=\"text-align: right;\">\n",
       "      <th></th>\n",
       "      <th>index</th>\n",
       "      <th>date</th>\n",
       "      <th>AAPL</th>\n",
       "      <th>GE</th>\n",
       "      <th>AMD</th>\n",
       "      <th>WMT</th>\n",
       "      <th>BAC</th>\n",
       "      <th>T</th>\n",
       "      <th>XOM</th>\n",
       "      <th>RRC</th>\n",
       "      <th>BBY</th>\n",
       "      <th>PFE</th>\n",
       "      <th>JPM</th>\n",
       "    </tr>\n",
       "  </thead>\n",
       "  <tbody>\n",
       "    <tr>\n",
       "      <th>0</th>\n",
       "      <td>0</td>\n",
       "      <td>29/12/1989</td>\n",
       "      <td>0.117203</td>\n",
       "      <td>0.352438</td>\n",
       "      <td>3.9375</td>\n",
       "      <td>3.486070</td>\n",
       "      <td>1.752478</td>\n",
       "      <td>2.365775</td>\n",
       "      <td>1.766756</td>\n",
       "      <td>NaN</td>\n",
       "      <td>0.166287</td>\n",
       "      <td>0.110818</td>\n",
       "      <td>1.827968</td>\n",
       "    </tr>\n",
       "    <tr>\n",
       "      <th>1</th>\n",
       "      <td>1</td>\n",
       "      <td>02/01/1990</td>\n",
       "      <td>0.123853</td>\n",
       "      <td>0.364733</td>\n",
       "      <td>4.1250</td>\n",
       "      <td>3.660858</td>\n",
       "      <td>1.766686</td>\n",
       "      <td>2.398184</td>\n",
       "      <td>1.766756</td>\n",
       "      <td>NaN</td>\n",
       "      <td>0.173216</td>\n",
       "      <td>0.113209</td>\n",
       "      <td>1.835617</td>\n",
       "    </tr>\n",
       "    <tr>\n",
       "      <th>2</th>\n",
       "      <td>2</td>\n",
       "      <td>03/01/1990</td>\n",
       "      <td>0.124684</td>\n",
       "      <td>0.364050</td>\n",
       "      <td>4.0000</td>\n",
       "      <td>3.660858</td>\n",
       "      <td>1.780897</td>\n",
       "      <td>2.356516</td>\n",
       "      <td>1.749088</td>\n",
       "      <td>NaN</td>\n",
       "      <td>0.194001</td>\n",
       "      <td>0.113608</td>\n",
       "      <td>1.896803</td>\n",
       "    </tr>\n",
       "    <tr>\n",
       "      <th>3</th>\n",
       "      <td>3</td>\n",
       "      <td>04/01/1990</td>\n",
       "      <td>0.125100</td>\n",
       "      <td>0.362001</td>\n",
       "      <td>3.9375</td>\n",
       "      <td>3.641439</td>\n",
       "      <td>1.743005</td>\n",
       "      <td>2.403821</td>\n",
       "      <td>1.731422</td>\n",
       "      <td>NaN</td>\n",
       "      <td>0.190537</td>\n",
       "      <td>0.115402</td>\n",
       "      <td>1.904452</td>\n",
       "    </tr>\n",
       "    <tr>\n",
       "      <th>4</th>\n",
       "      <td>4</td>\n",
       "      <td>05/01/1990</td>\n",
       "      <td>0.125516</td>\n",
       "      <td>0.358586</td>\n",
       "      <td>3.8125</td>\n",
       "      <td>3.602595</td>\n",
       "      <td>1.705114</td>\n",
       "      <td>2.287973</td>\n",
       "      <td>1.722587</td>\n",
       "      <td>NaN</td>\n",
       "      <td>0.190537</td>\n",
       "      <td>0.114405</td>\n",
       "      <td>1.912100</td>\n",
       "    </tr>\n",
       "    <tr>\n",
       "      <th>...</th>\n",
       "      <td>...</td>\n",
       "      <td>...</td>\n",
       "      <td>...</td>\n",
       "      <td>...</td>\n",
       "      <td>...</td>\n",
       "      <td>...</td>\n",
       "      <td>...</td>\n",
       "      <td>...</td>\n",
       "      <td>...</td>\n",
       "      <td>...</td>\n",
       "      <td>...</td>\n",
       "      <td>...</td>\n",
       "      <td>...</td>\n",
       "    </tr>\n",
       "    <tr>\n",
       "      <th>7121</th>\n",
       "      <td>7121</td>\n",
       "      <td>05/04/2018</td>\n",
       "      <td>172.800003</td>\n",
       "      <td>13.430000</td>\n",
       "      <td>10.0200</td>\n",
       "      <td>87.809998</td>\n",
       "      <td>30.320000</td>\n",
       "      <td>35.632843</td>\n",
       "      <td>76.019997</td>\n",
       "      <td>14.52</td>\n",
       "      <td>72.120003</td>\n",
       "      <td>35.730000</td>\n",
       "      <td>111.879997</td>\n",
       "    </tr>\n",
       "    <tr>\n",
       "      <th>7122</th>\n",
       "      <td>7122</td>\n",
       "      <td>06/04/2018</td>\n",
       "      <td>168.380005</td>\n",
       "      <td>13.060000</td>\n",
       "      <td>9.6100</td>\n",
       "      <td>86.690002</td>\n",
       "      <td>29.629999</td>\n",
       "      <td>35.130001</td>\n",
       "      <td>74.870003</td>\n",
       "      <td>13.97</td>\n",
       "      <td>70.489998</td>\n",
       "      <td>35.169998</td>\n",
       "      <td>109.089996</td>\n",
       "    </tr>\n",
       "    <tr>\n",
       "      <th>7123</th>\n",
       "      <td>7123</td>\n",
       "      <td>09/04/2018</td>\n",
       "      <td>170.050003</td>\n",
       "      <td>12.830000</td>\n",
       "      <td>9.5300</td>\n",
       "      <td>86.279999</td>\n",
       "      <td>29.870001</td>\n",
       "      <td>35.169998</td>\n",
       "      <td>74.870003</td>\n",
       "      <td>13.93</td>\n",
       "      <td>69.820000</td>\n",
       "      <td>35.459999</td>\n",
       "      <td>110.400002</td>\n",
       "    </tr>\n",
       "    <tr>\n",
       "      <th>7124</th>\n",
       "      <td>7124</td>\n",
       "      <td>10/04/2018</td>\n",
       "      <td>173.250000</td>\n",
       "      <td>13.050000</td>\n",
       "      <td>9.9800</td>\n",
       "      <td>86.449997</td>\n",
       "      <td>30.480000</td>\n",
       "      <td>35.810001</td>\n",
       "      <td>77.070000</td>\n",
       "      <td>14.78</td>\n",
       "      <td>71.720001</td>\n",
       "      <td>35.950001</td>\n",
       "      <td>112.510002</td>\n",
       "    </tr>\n",
       "    <tr>\n",
       "      <th>7125</th>\n",
       "      <td>7125</td>\n",
       "      <td>11/04/2018</td>\n",
       "      <td>172.440002</td>\n",
       "      <td>12.970000</td>\n",
       "      <td>9.8200</td>\n",
       "      <td>85.910004</td>\n",
       "      <td>29.900000</td>\n",
       "      <td>35.250000</td>\n",
       "      <td>77.430000</td>\n",
       "      <td>14.99</td>\n",
       "      <td>70.910004</td>\n",
       "      <td>35.790001</td>\n",
       "      <td>110.620003</td>\n",
       "    </tr>\n",
       "  </tbody>\n",
       "</table>\n",
       "<p>7126 rows × 13 columns</p>\n",
       "</div>"
      ],
      "text/plain": [
       "      index        date        AAPL         GE      AMD        WMT        BAC  \\\n",
       "0         0  29/12/1989    0.117203   0.352438   3.9375   3.486070   1.752478   \n",
       "1         1  02/01/1990    0.123853   0.364733   4.1250   3.660858   1.766686   \n",
       "2         2  03/01/1990    0.124684   0.364050   4.0000   3.660858   1.780897   \n",
       "3         3  04/01/1990    0.125100   0.362001   3.9375   3.641439   1.743005   \n",
       "4         4  05/01/1990    0.125516   0.358586   3.8125   3.602595   1.705114   \n",
       "...     ...         ...         ...        ...      ...        ...        ...   \n",
       "7121   7121  05/04/2018  172.800003  13.430000  10.0200  87.809998  30.320000   \n",
       "7122   7122  06/04/2018  168.380005  13.060000   9.6100  86.690002  29.629999   \n",
       "7123   7123  09/04/2018  170.050003  12.830000   9.5300  86.279999  29.870001   \n",
       "7124   7124  10/04/2018  173.250000  13.050000   9.9800  86.449997  30.480000   \n",
       "7125   7125  11/04/2018  172.440002  12.970000   9.8200  85.910004  29.900000   \n",
       "\n",
       "              T        XOM    RRC        BBY        PFE         JPM  \n",
       "0      2.365775   1.766756    NaN   0.166287   0.110818    1.827968  \n",
       "1      2.398184   1.766756    NaN   0.173216   0.113209    1.835617  \n",
       "2      2.356516   1.749088    NaN   0.194001   0.113608    1.896803  \n",
       "3      2.403821   1.731422    NaN   0.190537   0.115402    1.904452  \n",
       "4      2.287973   1.722587    NaN   0.190537   0.114405    1.912100  \n",
       "...         ...        ...    ...        ...        ...         ...  \n",
       "7121  35.632843  76.019997  14.52  72.120003  35.730000  111.879997  \n",
       "7122  35.130001  74.870003  13.97  70.489998  35.169998  109.089996  \n",
       "7123  35.169998  74.870003  13.93  69.820000  35.459999  110.400002  \n",
       "7124  35.810001  77.070000  14.78  71.720001  35.950001  112.510002  \n",
       "7125  35.250000  77.430000  14.99  70.910004  35.790001  110.620003  \n",
       "\n",
       "[7126 rows x 13 columns]"
      ]
     },
     "execution_count": 66,
     "metadata": {},
     "output_type": "execute_result"
    }
   ],
   "source": [
    "price_df"
   ]
  },
  {
   "cell_type": "code",
   "execution_count": 65,
   "id": "686b4cd6",
   "metadata": {},
   "outputs": [
    {
     "data": {
      "text/plain": [
       "index             0\n",
       "date     29/12/1989\n",
       "AAPL       0.117203\n",
       "GE         0.352438\n",
       "AMD          3.9375\n",
       "WMT         3.48607\n",
       "BAC        1.752478\n",
       "T          2.365775\n",
       "XOM        1.766756\n",
       "RRC             NaN\n",
       "BBY        0.166287\n",
       "PFE        0.110818\n",
       "JPM        1.827968\n",
       "Name: 0, dtype: object"
      ]
     },
     "execution_count": 65,
     "metadata": {},
     "output_type": "execute_result"
    }
   ],
   "source": [
    "# To select the first row of data in a DataFrame\n",
    "price_df.iloc[0]"
   ]
  },
  {
   "cell_type": "code",
   "execution_count": 68,
   "id": "a4d00bf9",
   "metadata": {},
   "outputs": [
    {
     "data": {
      "text/plain": [
       "0       29/12/1989\n",
       "1       02/01/1990\n",
       "2       03/01/1990\n",
       "3       04/01/1990\n",
       "4       05/01/1990\n",
       "           ...    \n",
       "7121    05/04/2018\n",
       "7122    06/04/2018\n",
       "7123    09/04/2018\n",
       "7124    10/04/2018\n",
       "7125    11/04/2018\n",
       "Name: date, Length: 7126, dtype: object"
      ]
     },
     "execution_count": 68,
     "metadata": {},
     "output_type": "execute_result"
    }
   ],
   "source": [
    "# To select all the rows on first column of data in a DataFrame=\n",
    "price_df.iloc[:,1]"
   ]
  },
  {
   "cell_type": "code",
   "execution_count": null,
   "id": "b5fe6b18",
   "metadata": {},
   "outputs": [],
   "source": [
    "price_df.iloc[:5,0]"
   ]
  },
  {
   "cell_type": "code",
   "execution_count": null,
   "id": "47e7c756",
   "metadata": {},
   "outputs": [],
   "source": [
    "price_df.iloc[1:3,0]"
   ]
  },
  {
   "cell_type": "code",
   "execution_count": 69,
   "id": "60cb7bfc",
   "metadata": {},
   "outputs": [
    {
     "data": {
      "text/plain": [
       "1    1\n",
       "2    2\n",
       "Name: index, dtype: int64"
      ]
     },
     "execution_count": 69,
     "metadata": {},
     "output_type": "execute_result"
    }
   ],
   "source": [
    "price_df.iloc[[1,2],0]"
   ]
  },
  {
   "cell_type": "code",
   "execution_count": 70,
   "id": "241eddb3",
   "metadata": {},
   "outputs": [
    {
     "data": {
      "text/plain": [
       "7121    7121\n",
       "Name: index, dtype: int64"
      ]
     },
     "execution_count": 70,
     "metadata": {},
     "output_type": "execute_result"
    }
   ],
   "source": [
    "price_df.iloc[[-5],0]"
   ]
  },
  {
   "cell_type": "code",
   "execution_count": 73,
   "id": "c205fdab",
   "metadata": {},
   "outputs": [
    {
     "data": {
      "text/plain": [
       "7122    7122\n",
       "7121    7121\n",
       "Name: index, dtype: int64"
      ]
     },
     "execution_count": 73,
     "metadata": {},
     "output_type": "execute_result"
    }
   ],
   "source": [
    "price_df.iloc[[-4,-5],0]"
   ]
  },
  {
   "cell_type": "code",
   "execution_count": 74,
   "id": "b9dd798f",
   "metadata": {},
   "outputs": [
    {
     "data": {
      "text/plain": [
       "0.117203"
      ]
     },
     "execution_count": 74,
     "metadata": {},
     "output_type": "execute_result"
    }
   ],
   "source": [
    "# label based\n",
    "price_df.loc[0,\"AAPL\"]"
   ]
  },
  {
   "cell_type": "code",
   "execution_count": 75,
   "id": "89179418",
   "metadata": {},
   "outputs": [
    {
     "data": {
      "text/plain": [
       "AAPL    0.117203\n",
       "GE      0.352438\n",
       "AMD       3.9375\n",
       "Name: 0, dtype: object"
      ]
     },
     "execution_count": 75,
     "metadata": {},
     "output_type": "execute_result"
    }
   ],
   "source": [
    "price_df.loc[0,[\"AAPL\", \"GE\", \"AMD\"]]"
   ]
  },
  {
   "cell_type": "code",
   "execution_count": 80,
   "id": "e775cd66",
   "metadata": {},
   "outputs": [
    {
     "data": {
      "text/html": [
       "<div>\n",
       "<style scoped>\n",
       "    .dataframe tbody tr th:only-of-type {\n",
       "        vertical-align: middle;\n",
       "    }\n",
       "\n",
       "    .dataframe tbody tr th {\n",
       "        vertical-align: top;\n",
       "    }\n",
       "\n",
       "    .dataframe thead th {\n",
       "        text-align: right;\n",
       "    }\n",
       "</style>\n",
       "<table border=\"1\" class=\"dataframe\">\n",
       "  <thead>\n",
       "    <tr style=\"text-align: right;\">\n",
       "      <th></th>\n",
       "      <th>index</th>\n",
       "      <th>AAPL</th>\n",
       "      <th>GE</th>\n",
       "      <th>AMD</th>\n",
       "      <th>WMT</th>\n",
       "      <th>BAC</th>\n",
       "      <th>T</th>\n",
       "      <th>XOM</th>\n",
       "      <th>RRC</th>\n",
       "      <th>BBY</th>\n",
       "      <th>PFE</th>\n",
       "      <th>JPM</th>\n",
       "    </tr>\n",
       "    <tr>\n",
       "      <th>date</th>\n",
       "      <th></th>\n",
       "      <th></th>\n",
       "      <th></th>\n",
       "      <th></th>\n",
       "      <th></th>\n",
       "      <th></th>\n",
       "      <th></th>\n",
       "      <th></th>\n",
       "      <th></th>\n",
       "      <th></th>\n",
       "      <th></th>\n",
       "      <th></th>\n",
       "    </tr>\n",
       "  </thead>\n",
       "  <tbody>\n",
       "    <tr>\n",
       "      <th>29/12/1989</th>\n",
       "      <td>0</td>\n",
       "      <td>0.117203</td>\n",
       "      <td>0.352438</td>\n",
       "      <td>3.9375</td>\n",
       "      <td>3.486070</td>\n",
       "      <td>1.752478</td>\n",
       "      <td>2.365775</td>\n",
       "      <td>1.766756</td>\n",
       "      <td>NaN</td>\n",
       "      <td>0.166287</td>\n",
       "      <td>0.110818</td>\n",
       "      <td>1.827968</td>\n",
       "    </tr>\n",
       "    <tr>\n",
       "      <th>02/01/1990</th>\n",
       "      <td>1</td>\n",
       "      <td>0.123853</td>\n",
       "      <td>0.364733</td>\n",
       "      <td>4.1250</td>\n",
       "      <td>3.660858</td>\n",
       "      <td>1.766686</td>\n",
       "      <td>2.398184</td>\n",
       "      <td>1.766756</td>\n",
       "      <td>NaN</td>\n",
       "      <td>0.173216</td>\n",
       "      <td>0.113209</td>\n",
       "      <td>1.835617</td>\n",
       "    </tr>\n",
       "    <tr>\n",
       "      <th>03/01/1990</th>\n",
       "      <td>2</td>\n",
       "      <td>0.124684</td>\n",
       "      <td>0.364050</td>\n",
       "      <td>4.0000</td>\n",
       "      <td>3.660858</td>\n",
       "      <td>1.780897</td>\n",
       "      <td>2.356516</td>\n",
       "      <td>1.749088</td>\n",
       "      <td>NaN</td>\n",
       "      <td>0.194001</td>\n",
       "      <td>0.113608</td>\n",
       "      <td>1.896803</td>\n",
       "    </tr>\n",
       "    <tr>\n",
       "      <th>04/01/1990</th>\n",
       "      <td>3</td>\n",
       "      <td>0.125100</td>\n",
       "      <td>0.362001</td>\n",
       "      <td>3.9375</td>\n",
       "      <td>3.641439</td>\n",
       "      <td>1.743005</td>\n",
       "      <td>2.403821</td>\n",
       "      <td>1.731422</td>\n",
       "      <td>NaN</td>\n",
       "      <td>0.190537</td>\n",
       "      <td>0.115402</td>\n",
       "      <td>1.904452</td>\n",
       "    </tr>\n",
       "    <tr>\n",
       "      <th>05/01/1990</th>\n",
       "      <td>4</td>\n",
       "      <td>0.125516</td>\n",
       "      <td>0.358586</td>\n",
       "      <td>3.8125</td>\n",
       "      <td>3.602595</td>\n",
       "      <td>1.705114</td>\n",
       "      <td>2.287973</td>\n",
       "      <td>1.722587</td>\n",
       "      <td>NaN</td>\n",
       "      <td>0.190537</td>\n",
       "      <td>0.114405</td>\n",
       "      <td>1.912100</td>\n",
       "    </tr>\n",
       "    <tr>\n",
       "      <th>...</th>\n",
       "      <td>...</td>\n",
       "      <td>...</td>\n",
       "      <td>...</td>\n",
       "      <td>...</td>\n",
       "      <td>...</td>\n",
       "      <td>...</td>\n",
       "      <td>...</td>\n",
       "      <td>...</td>\n",
       "      <td>...</td>\n",
       "      <td>...</td>\n",
       "      <td>...</td>\n",
       "      <td>...</td>\n",
       "    </tr>\n",
       "    <tr>\n",
       "      <th>05/04/2018</th>\n",
       "      <td>7121</td>\n",
       "      <td>172.800003</td>\n",
       "      <td>13.430000</td>\n",
       "      <td>10.0200</td>\n",
       "      <td>87.809998</td>\n",
       "      <td>30.320000</td>\n",
       "      <td>35.632843</td>\n",
       "      <td>76.019997</td>\n",
       "      <td>14.52</td>\n",
       "      <td>72.120003</td>\n",
       "      <td>35.730000</td>\n",
       "      <td>111.879997</td>\n",
       "    </tr>\n",
       "    <tr>\n",
       "      <th>06/04/2018</th>\n",
       "      <td>7122</td>\n",
       "      <td>168.380005</td>\n",
       "      <td>13.060000</td>\n",
       "      <td>9.6100</td>\n",
       "      <td>86.690002</td>\n",
       "      <td>29.629999</td>\n",
       "      <td>35.130001</td>\n",
       "      <td>74.870003</td>\n",
       "      <td>13.97</td>\n",
       "      <td>70.489998</td>\n",
       "      <td>35.169998</td>\n",
       "      <td>109.089996</td>\n",
       "    </tr>\n",
       "    <tr>\n",
       "      <th>09/04/2018</th>\n",
       "      <td>7123</td>\n",
       "      <td>170.050003</td>\n",
       "      <td>12.830000</td>\n",
       "      <td>9.5300</td>\n",
       "      <td>86.279999</td>\n",
       "      <td>29.870001</td>\n",
       "      <td>35.169998</td>\n",
       "      <td>74.870003</td>\n",
       "      <td>13.93</td>\n",
       "      <td>69.820000</td>\n",
       "      <td>35.459999</td>\n",
       "      <td>110.400002</td>\n",
       "    </tr>\n",
       "    <tr>\n",
       "      <th>10/04/2018</th>\n",
       "      <td>7124</td>\n",
       "      <td>173.250000</td>\n",
       "      <td>13.050000</td>\n",
       "      <td>9.9800</td>\n",
       "      <td>86.449997</td>\n",
       "      <td>30.480000</td>\n",
       "      <td>35.810001</td>\n",
       "      <td>77.070000</td>\n",
       "      <td>14.78</td>\n",
       "      <td>71.720001</td>\n",
       "      <td>35.950001</td>\n",
       "      <td>112.510002</td>\n",
       "    </tr>\n",
       "    <tr>\n",
       "      <th>11/04/2018</th>\n",
       "      <td>7125</td>\n",
       "      <td>172.440002</td>\n",
       "      <td>12.970000</td>\n",
       "      <td>9.8200</td>\n",
       "      <td>85.910004</td>\n",
       "      <td>29.900000</td>\n",
       "      <td>35.250000</td>\n",
       "      <td>77.430000</td>\n",
       "      <td>14.99</td>\n",
       "      <td>70.910004</td>\n",
       "      <td>35.790001</td>\n",
       "      <td>110.620003</td>\n",
       "    </tr>\n",
       "  </tbody>\n",
       "</table>\n",
       "<p>7126 rows × 12 columns</p>\n",
       "</div>"
      ],
      "text/plain": [
       "            index        AAPL         GE      AMD        WMT        BAC  \\\n",
       "date                                                                      \n",
       "29/12/1989      0    0.117203   0.352438   3.9375   3.486070   1.752478   \n",
       "02/01/1990      1    0.123853   0.364733   4.1250   3.660858   1.766686   \n",
       "03/01/1990      2    0.124684   0.364050   4.0000   3.660858   1.780897   \n",
       "04/01/1990      3    0.125100   0.362001   3.9375   3.641439   1.743005   \n",
       "05/01/1990      4    0.125516   0.358586   3.8125   3.602595   1.705114   \n",
       "...           ...         ...        ...      ...        ...        ...   \n",
       "05/04/2018   7121  172.800003  13.430000  10.0200  87.809998  30.320000   \n",
       "06/04/2018   7122  168.380005  13.060000   9.6100  86.690002  29.629999   \n",
       "09/04/2018   7123  170.050003  12.830000   9.5300  86.279999  29.870001   \n",
       "10/04/2018   7124  173.250000  13.050000   9.9800  86.449997  30.480000   \n",
       "11/04/2018   7125  172.440002  12.970000   9.8200  85.910004  29.900000   \n",
       "\n",
       "                    T        XOM    RRC        BBY        PFE         JPM  \n",
       "date                                                                       \n",
       "29/12/1989   2.365775   1.766756    NaN   0.166287   0.110818    1.827968  \n",
       "02/01/1990   2.398184   1.766756    NaN   0.173216   0.113209    1.835617  \n",
       "03/01/1990   2.356516   1.749088    NaN   0.194001   0.113608    1.896803  \n",
       "04/01/1990   2.403821   1.731422    NaN   0.190537   0.115402    1.904452  \n",
       "05/01/1990   2.287973   1.722587    NaN   0.190537   0.114405    1.912100  \n",
       "...               ...        ...    ...        ...        ...         ...  \n",
       "05/04/2018  35.632843  76.019997  14.52  72.120003  35.730000  111.879997  \n",
       "06/04/2018  35.130001  74.870003  13.97  70.489998  35.169998  109.089996  \n",
       "09/04/2018  35.169998  74.870003  13.93  69.820000  35.459999  110.400002  \n",
       "10/04/2018  35.810001  77.070000  14.78  71.720001  35.950001  112.510002  \n",
       "11/04/2018  35.250000  77.430000  14.99  70.910004  35.790001  110.620003  \n",
       "\n",
       "[7126 rows x 12 columns]"
      ]
     },
     "execution_count": 80,
     "metadata": {},
     "output_type": "execute_result"
    }
   ],
   "source": [
    "# Manipulating the index\n",
    "# re-set index\n",
    "price_df.set_index('date', inplace=True)\n",
    "price_df"
   ]
  },
  {
   "cell_type": "code",
   "execution_count": 76,
   "id": "716b9388",
   "metadata": {},
   "outputs": [
    {
     "data": {
      "text/plain": [
       "0         0.117203\n",
       "1         0.123853\n",
       "2         0.124684\n",
       "3         0.125100\n",
       "4         0.125516\n",
       "           ...    \n",
       "7121    172.800003\n",
       "7122    168.380005\n",
       "7123    170.050003\n",
       "7124    173.250000\n",
       "7125    172.440002\n",
       "Name: AAPL, Length: 7126, dtype: float64"
      ]
     },
     "execution_count": 76,
     "metadata": {},
     "output_type": "execute_result"
    }
   ],
   "source": [
    "price_df.AAPL"
   ]
  },
  {
   "cell_type": "code",
   "execution_count": 77,
   "id": "aa59f5ca",
   "metadata": {},
   "outputs": [
    {
     "data": {
      "text/plain": [
       "0       False\n",
       "1       False\n",
       "2       False\n",
       "3       False\n",
       "4       False\n",
       "        ...  \n",
       "7121     True\n",
       "7122     True\n",
       "7123     True\n",
       "7124     True\n",
       "7125     True\n",
       "Name: AAPL, Length: 7126, dtype: bool"
      ]
     },
     "execution_count": 77,
     "metadata": {},
     "output_type": "execute_result"
    }
   ],
   "source": [
    "# codintional selection\n",
    "price_df.AAPL > 5"
   ]
  },
  {
   "cell_type": "code",
   "execution_count": 81,
   "id": "9a90a6db",
   "metadata": {},
   "outputs": [
    {
     "data": {
      "text/plain": [
       "Index(['29/12/1989', '02/01/1990', '03/01/1990', '04/01/1990', '05/01/1990',\n",
       "       '08/01/1990', '09/01/1990', '10/01/1990', '11/01/1990', '12/01/1990',\n",
       "       ...\n",
       "       '28/03/2018', '29/03/2018', '02/04/2018', '03/04/2018', '04/04/2018',\n",
       "       '05/04/2018', '06/04/2018', '09/04/2018', '10/04/2018', '11/04/2018'],\n",
       "      dtype='object', name='date', length=7126)"
      ]
     },
     "execution_count": 81,
     "metadata": {},
     "output_type": "execute_result"
    }
   ],
   "source": [
    "price_df.index"
   ]
  },
  {
   "cell_type": "code",
   "execution_count": 83,
   "id": "c5f7a423",
   "metadata": {},
   "outputs": [
    {
     "data": {
      "text/html": [
       "<div>\n",
       "<style scoped>\n",
       "    .dataframe tbody tr th:only-of-type {\n",
       "        vertical-align: middle;\n",
       "    }\n",
       "\n",
       "    .dataframe tbody tr th {\n",
       "        vertical-align: top;\n",
       "    }\n",
       "\n",
       "    .dataframe thead th {\n",
       "        text-align: right;\n",
       "    }\n",
       "</style>\n",
       "<table border=\"1\" class=\"dataframe\">\n",
       "  <thead>\n",
       "    <tr style=\"text-align: right;\">\n",
       "      <th></th>\n",
       "      <th>index</th>\n",
       "      <th>AAPL</th>\n",
       "      <th>GE</th>\n",
       "      <th>AMD</th>\n",
       "      <th>WMT</th>\n",
       "      <th>BAC</th>\n",
       "      <th>T</th>\n",
       "      <th>XOM</th>\n",
       "      <th>RRC</th>\n",
       "      <th>BBY</th>\n",
       "      <th>PFE</th>\n",
       "      <th>JPM</th>\n",
       "    </tr>\n",
       "    <tr>\n",
       "      <th>date</th>\n",
       "      <th></th>\n",
       "      <th></th>\n",
       "      <th></th>\n",
       "      <th></th>\n",
       "      <th></th>\n",
       "      <th></th>\n",
       "      <th></th>\n",
       "      <th></th>\n",
       "      <th></th>\n",
       "      <th></th>\n",
       "      <th></th>\n",
       "      <th></th>\n",
       "    </tr>\n",
       "  </thead>\n",
       "  <tbody>\n",
       "    <tr>\n",
       "      <th>29/12/1989</th>\n",
       "      <td>0</td>\n",
       "      <td>0.117203</td>\n",
       "      <td>0.352438</td>\n",
       "      <td>3.9375</td>\n",
       "      <td>3.48607</td>\n",
       "      <td>1.752478</td>\n",
       "      <td>2.365775</td>\n",
       "      <td>1.766756</td>\n",
       "      <td>NaN</td>\n",
       "      <td>0.166287</td>\n",
       "      <td>0.110818</td>\n",
       "      <td>1.827968</td>\n",
       "    </tr>\n",
       "  </tbody>\n",
       "</table>\n",
       "</div>"
      ],
      "text/plain": [
       "            index      AAPL        GE     AMD      WMT       BAC         T  \\\n",
       "date                                                                         \n",
       "29/12/1989      0  0.117203  0.352438  3.9375  3.48607  1.752478  2.365775   \n",
       "\n",
       "                 XOM  RRC       BBY       PFE       JPM  \n",
       "date                                                     \n",
       "29/12/1989  1.766756  NaN  0.166287  0.110818  1.827968  "
      ]
     },
     "execution_count": 83,
     "metadata": {},
     "output_type": "execute_result"
    }
   ],
   "source": [
    "price_df[price_df.index == \"29/12/1989\"]"
   ]
  },
  {
   "cell_type": "code",
   "execution_count": null,
   "id": "cbe5985b",
   "metadata": {},
   "outputs": [],
   "source": [
    "price_df.loc[price_df.AAPL > 5]"
   ]
  },
  {
   "cell_type": "code",
   "execution_count": 85,
   "id": "37376e5d",
   "metadata": {},
   "outputs": [
    {
     "data": {
      "text/html": [
       "<div>\n",
       "<style scoped>\n",
       "    .dataframe tbody tr th:only-of-type {\n",
       "        vertical-align: middle;\n",
       "    }\n",
       "\n",
       "    .dataframe tbody tr th {\n",
       "        vertical-align: top;\n",
       "    }\n",
       "\n",
       "    .dataframe thead th {\n",
       "        text-align: right;\n",
       "    }\n",
       "</style>\n",
       "<table border=\"1\" class=\"dataframe\">\n",
       "  <thead>\n",
       "    <tr style=\"text-align: right;\">\n",
       "      <th></th>\n",
       "      <th>index</th>\n",
       "      <th>AAPL</th>\n",
       "      <th>GE</th>\n",
       "      <th>AMD</th>\n",
       "      <th>WMT</th>\n",
       "      <th>BAC</th>\n",
       "      <th>T</th>\n",
       "      <th>XOM</th>\n",
       "      <th>RRC</th>\n",
       "      <th>BBY</th>\n",
       "      <th>PFE</th>\n",
       "      <th>JPM</th>\n",
       "    </tr>\n",
       "    <tr>\n",
       "      <th>date</th>\n",
       "      <th></th>\n",
       "      <th></th>\n",
       "      <th></th>\n",
       "      <th></th>\n",
       "      <th></th>\n",
       "      <th></th>\n",
       "      <th></th>\n",
       "      <th></th>\n",
       "      <th></th>\n",
       "      <th></th>\n",
       "      <th></th>\n",
       "      <th></th>\n",
       "    </tr>\n",
       "  </thead>\n",
       "  <tbody>\n",
       "    <tr>\n",
       "      <th>29/12/1989</th>\n",
       "      <td>0</td>\n",
       "      <td>0.117203</td>\n",
       "      <td>0.352438</td>\n",
       "      <td>3.9375</td>\n",
       "      <td>3.486070</td>\n",
       "      <td>1.752478</td>\n",
       "      <td>2.365775</td>\n",
       "      <td>1.766756</td>\n",
       "      <td>NaN</td>\n",
       "      <td>0.166287</td>\n",
       "      <td>0.110818</td>\n",
       "      <td>1.827968</td>\n",
       "    </tr>\n",
       "    <tr>\n",
       "      <th>02/01/1990</th>\n",
       "      <td>1</td>\n",
       "      <td>0.123853</td>\n",
       "      <td>0.364733</td>\n",
       "      <td>4.1250</td>\n",
       "      <td>3.660858</td>\n",
       "      <td>1.766686</td>\n",
       "      <td>2.398184</td>\n",
       "      <td>1.766756</td>\n",
       "      <td>NaN</td>\n",
       "      <td>0.173216</td>\n",
       "      <td>0.113209</td>\n",
       "      <td>1.835617</td>\n",
       "    </tr>\n",
       "    <tr>\n",
       "      <th>03/01/1990</th>\n",
       "      <td>2</td>\n",
       "      <td>0.124684</td>\n",
       "      <td>0.364050</td>\n",
       "      <td>4.0000</td>\n",
       "      <td>3.660858</td>\n",
       "      <td>1.780897</td>\n",
       "      <td>2.356516</td>\n",
       "      <td>1.749088</td>\n",
       "      <td>NaN</td>\n",
       "      <td>0.194001</td>\n",
       "      <td>0.113608</td>\n",
       "      <td>1.896803</td>\n",
       "    </tr>\n",
       "    <tr>\n",
       "      <th>04/01/1990</th>\n",
       "      <td>3</td>\n",
       "      <td>0.125100</td>\n",
       "      <td>0.362001</td>\n",
       "      <td>3.9375</td>\n",
       "      <td>3.641439</td>\n",
       "      <td>1.743005</td>\n",
       "      <td>2.403821</td>\n",
       "      <td>1.731422</td>\n",
       "      <td>NaN</td>\n",
       "      <td>0.190537</td>\n",
       "      <td>0.115402</td>\n",
       "      <td>1.904452</td>\n",
       "    </tr>\n",
       "    <tr>\n",
       "      <th>05/01/1990</th>\n",
       "      <td>4</td>\n",
       "      <td>0.125516</td>\n",
       "      <td>0.358586</td>\n",
       "      <td>3.8125</td>\n",
       "      <td>3.602595</td>\n",
       "      <td>1.705114</td>\n",
       "      <td>2.287973</td>\n",
       "      <td>1.722587</td>\n",
       "      <td>NaN</td>\n",
       "      <td>0.190537</td>\n",
       "      <td>0.114405</td>\n",
       "      <td>1.912100</td>\n",
       "    </tr>\n",
       "    <tr>\n",
       "      <th>...</th>\n",
       "      <td>...</td>\n",
       "      <td>...</td>\n",
       "      <td>...</td>\n",
       "      <td>...</td>\n",
       "      <td>...</td>\n",
       "      <td>...</td>\n",
       "      <td>...</td>\n",
       "      <td>...</td>\n",
       "      <td>...</td>\n",
       "      <td>...</td>\n",
       "      <td>...</td>\n",
       "      <td>...</td>\n",
       "    </tr>\n",
       "    <tr>\n",
       "      <th>05/04/2018</th>\n",
       "      <td>7121</td>\n",
       "      <td>172.800003</td>\n",
       "      <td>13.430000</td>\n",
       "      <td>10.0200</td>\n",
       "      <td>87.809998</td>\n",
       "      <td>30.320000</td>\n",
       "      <td>35.632843</td>\n",
       "      <td>76.019997</td>\n",
       "      <td>14.52</td>\n",
       "      <td>72.120003</td>\n",
       "      <td>35.730000</td>\n",
       "      <td>111.879997</td>\n",
       "    </tr>\n",
       "    <tr>\n",
       "      <th>06/04/2018</th>\n",
       "      <td>7122</td>\n",
       "      <td>168.380005</td>\n",
       "      <td>13.060000</td>\n",
       "      <td>9.6100</td>\n",
       "      <td>86.690002</td>\n",
       "      <td>29.629999</td>\n",
       "      <td>35.130001</td>\n",
       "      <td>74.870003</td>\n",
       "      <td>13.97</td>\n",
       "      <td>70.489998</td>\n",
       "      <td>35.169998</td>\n",
       "      <td>109.089996</td>\n",
       "    </tr>\n",
       "    <tr>\n",
       "      <th>09/04/2018</th>\n",
       "      <td>7123</td>\n",
       "      <td>170.050003</td>\n",
       "      <td>12.830000</td>\n",
       "      <td>9.5300</td>\n",
       "      <td>86.279999</td>\n",
       "      <td>29.870001</td>\n",
       "      <td>35.169998</td>\n",
       "      <td>74.870003</td>\n",
       "      <td>13.93</td>\n",
       "      <td>69.820000</td>\n",
       "      <td>35.459999</td>\n",
       "      <td>110.400002</td>\n",
       "    </tr>\n",
       "    <tr>\n",
       "      <th>10/04/2018</th>\n",
       "      <td>7124</td>\n",
       "      <td>173.250000</td>\n",
       "      <td>13.050000</td>\n",
       "      <td>9.9800</td>\n",
       "      <td>86.449997</td>\n",
       "      <td>30.480000</td>\n",
       "      <td>35.810001</td>\n",
       "      <td>77.070000</td>\n",
       "      <td>14.78</td>\n",
       "      <td>71.720001</td>\n",
       "      <td>35.950001</td>\n",
       "      <td>112.510002</td>\n",
       "    </tr>\n",
       "    <tr>\n",
       "      <th>11/04/2018</th>\n",
       "      <td>7125</td>\n",
       "      <td>172.440002</td>\n",
       "      <td>12.970000</td>\n",
       "      <td>9.8200</td>\n",
       "      <td>85.910004</td>\n",
       "      <td>29.900000</td>\n",
       "      <td>35.250000</td>\n",
       "      <td>77.430000</td>\n",
       "      <td>14.99</td>\n",
       "      <td>70.910004</td>\n",
       "      <td>35.790001</td>\n",
       "      <td>110.620003</td>\n",
       "    </tr>\n",
       "  </tbody>\n",
       "</table>\n",
       "<p>7126 rows × 12 columns</p>\n",
       "</div>"
      ],
      "text/plain": [
       "            index        AAPL         GE      AMD        WMT        BAC  \\\n",
       "date                                                                      \n",
       "29/12/1989      0    0.117203   0.352438   3.9375   3.486070   1.752478   \n",
       "02/01/1990      1    0.123853   0.364733   4.1250   3.660858   1.766686   \n",
       "03/01/1990      2    0.124684   0.364050   4.0000   3.660858   1.780897   \n",
       "04/01/1990      3    0.125100   0.362001   3.9375   3.641439   1.743005   \n",
       "05/01/1990      4    0.125516   0.358586   3.8125   3.602595   1.705114   \n",
       "...           ...         ...        ...      ...        ...        ...   \n",
       "05/04/2018   7121  172.800003  13.430000  10.0200  87.809998  30.320000   \n",
       "06/04/2018   7122  168.380005  13.060000   9.6100  86.690002  29.629999   \n",
       "09/04/2018   7123  170.050003  12.830000   9.5300  86.279999  29.870001   \n",
       "10/04/2018   7124  173.250000  13.050000   9.9800  86.449997  30.480000   \n",
       "11/04/2018   7125  172.440002  12.970000   9.8200  85.910004  29.900000   \n",
       "\n",
       "                    T        XOM    RRC        BBY        PFE         JPM  \n",
       "date                                                                       \n",
       "29/12/1989   2.365775   1.766756    NaN   0.166287   0.110818    1.827968  \n",
       "02/01/1990   2.398184   1.766756    NaN   0.173216   0.113209    1.835617  \n",
       "03/01/1990   2.356516   1.749088    NaN   0.194001   0.113608    1.896803  \n",
       "04/01/1990   2.403821   1.731422    NaN   0.190537   0.115402    1.904452  \n",
       "05/01/1990   2.287973   1.722587    NaN   0.190537   0.114405    1.912100  \n",
       "...               ...        ...    ...        ...        ...         ...  \n",
       "05/04/2018  35.632843  76.019997  14.52  72.120003  35.730000  111.879997  \n",
       "06/04/2018  35.130001  74.870003  13.97  70.489998  35.169998  109.089996  \n",
       "09/04/2018  35.169998  74.870003  13.93  69.820000  35.459999  110.400002  \n",
       "10/04/2018  35.810001  77.070000  14.78  71.720001  35.950001  112.510002  \n",
       "11/04/2018  35.250000  77.430000  14.99  70.910004  35.790001  110.620003  \n",
       "\n",
       "[7126 rows x 12 columns]"
      ]
     },
     "execution_count": 85,
     "metadata": {},
     "output_type": "execute_result"
    }
   ],
   "source": [
    "# select the rows without Nan values\n",
    "price_df.loc[price_df.AAPL.notnull()]"
   ]
  },
  {
   "cell_type": "code",
   "execution_count": 86,
   "id": "c50f9880",
   "metadata": {},
   "outputs": [
    {
     "data": {
      "text/plain": [
       "date\n",
       "29/12/1989    10\n",
       "02/01/1990    10\n",
       "03/01/1990    10\n",
       "04/01/1990    10\n",
       "05/01/1990    10\n",
       "              ..\n",
       "05/04/2018    10\n",
       "06/04/2018    10\n",
       "09/04/2018    10\n",
       "10/04/2018    10\n",
       "11/04/2018    10\n",
       "Name: GE, Length: 7126, dtype: int64"
      ]
     },
     "execution_count": 86,
     "metadata": {},
     "output_type": "execute_result"
    }
   ],
   "source": [
    "# assign data\n",
    "price_df[\"GE\"] = 10\n",
    "price_df[\"GE\"]"
   ]
  },
  {
   "cell_type": "code",
   "execution_count": 87,
   "id": "30f9f2fc",
   "metadata": {},
   "outputs": [
    {
     "data": {
      "text/html": [
       "<div>\n",
       "<style scoped>\n",
       "    .dataframe tbody tr th:only-of-type {\n",
       "        vertical-align: middle;\n",
       "    }\n",
       "\n",
       "    .dataframe tbody tr th {\n",
       "        vertical-align: top;\n",
       "    }\n",
       "\n",
       "    .dataframe thead th {\n",
       "        text-align: right;\n",
       "    }\n",
       "</style>\n",
       "<table border=\"1\" class=\"dataframe\">\n",
       "  <thead>\n",
       "    <tr style=\"text-align: right;\">\n",
       "      <th></th>\n",
       "      <th>index</th>\n",
       "      <th>AAPL</th>\n",
       "      <th>GE</th>\n",
       "      <th>AMD</th>\n",
       "      <th>WMT</th>\n",
       "      <th>BAC</th>\n",
       "      <th>T</th>\n",
       "      <th>XOM</th>\n",
       "      <th>RRC</th>\n",
       "      <th>BBY</th>\n",
       "      <th>PFE</th>\n",
       "      <th>JPM</th>\n",
       "    </tr>\n",
       "    <tr>\n",
       "      <th>date</th>\n",
       "      <th></th>\n",
       "      <th></th>\n",
       "      <th></th>\n",
       "      <th></th>\n",
       "      <th></th>\n",
       "      <th></th>\n",
       "      <th></th>\n",
       "      <th></th>\n",
       "      <th></th>\n",
       "      <th></th>\n",
       "      <th></th>\n",
       "      <th></th>\n",
       "    </tr>\n",
       "  </thead>\n",
       "  <tbody>\n",
       "    <tr>\n",
       "      <th>29/12/1989</th>\n",
       "      <td>0</td>\n",
       "      <td>0.117203</td>\n",
       "      <td>10</td>\n",
       "      <td>3.9375</td>\n",
       "      <td>3.486070</td>\n",
       "      <td>1.752478</td>\n",
       "      <td>2.365775</td>\n",
       "      <td>1.766756</td>\n",
       "      <td>NaN</td>\n",
       "      <td>0.166287</td>\n",
       "      <td>0.110818</td>\n",
       "      <td>1.827968</td>\n",
       "    </tr>\n",
       "    <tr>\n",
       "      <th>02/01/1990</th>\n",
       "      <td>1</td>\n",
       "      <td>0.123853</td>\n",
       "      <td>10</td>\n",
       "      <td>4.1250</td>\n",
       "      <td>3.660858</td>\n",
       "      <td>1.766686</td>\n",
       "      <td>2.398184</td>\n",
       "      <td>1.766756</td>\n",
       "      <td>NaN</td>\n",
       "      <td>0.173216</td>\n",
       "      <td>0.113209</td>\n",
       "      <td>1.835617</td>\n",
       "    </tr>\n",
       "    <tr>\n",
       "      <th>03/01/1990</th>\n",
       "      <td>2</td>\n",
       "      <td>0.124684</td>\n",
       "      <td>10</td>\n",
       "      <td>4.0000</td>\n",
       "      <td>3.660858</td>\n",
       "      <td>1.780897</td>\n",
       "      <td>2.356516</td>\n",
       "      <td>1.749088</td>\n",
       "      <td>NaN</td>\n",
       "      <td>0.194001</td>\n",
       "      <td>0.113608</td>\n",
       "      <td>1.896803</td>\n",
       "    </tr>\n",
       "    <tr>\n",
       "      <th>04/01/1990</th>\n",
       "      <td>3</td>\n",
       "      <td>0.125100</td>\n",
       "      <td>10</td>\n",
       "      <td>3.9375</td>\n",
       "      <td>3.641439</td>\n",
       "      <td>1.743005</td>\n",
       "      <td>2.403821</td>\n",
       "      <td>1.731422</td>\n",
       "      <td>NaN</td>\n",
       "      <td>0.190537</td>\n",
       "      <td>0.115402</td>\n",
       "      <td>1.904452</td>\n",
       "    </tr>\n",
       "    <tr>\n",
       "      <th>05/01/1990</th>\n",
       "      <td>4</td>\n",
       "      <td>0.125516</td>\n",
       "      <td>10</td>\n",
       "      <td>3.8125</td>\n",
       "      <td>3.602595</td>\n",
       "      <td>1.705114</td>\n",
       "      <td>2.287973</td>\n",
       "      <td>1.722587</td>\n",
       "      <td>NaN</td>\n",
       "      <td>0.190537</td>\n",
       "      <td>0.114405</td>\n",
       "      <td>1.912100</td>\n",
       "    </tr>\n",
       "    <tr>\n",
       "      <th>...</th>\n",
       "      <td>...</td>\n",
       "      <td>...</td>\n",
       "      <td>...</td>\n",
       "      <td>...</td>\n",
       "      <td>...</td>\n",
       "      <td>...</td>\n",
       "      <td>...</td>\n",
       "      <td>...</td>\n",
       "      <td>...</td>\n",
       "      <td>...</td>\n",
       "      <td>...</td>\n",
       "      <td>...</td>\n",
       "    </tr>\n",
       "    <tr>\n",
       "      <th>05/04/2018</th>\n",
       "      <td>7121</td>\n",
       "      <td>172.800003</td>\n",
       "      <td>10</td>\n",
       "      <td>10.0200</td>\n",
       "      <td>87.809998</td>\n",
       "      <td>30.320000</td>\n",
       "      <td>35.632843</td>\n",
       "      <td>76.019997</td>\n",
       "      <td>14.52</td>\n",
       "      <td>72.120003</td>\n",
       "      <td>35.730000</td>\n",
       "      <td>111.879997</td>\n",
       "    </tr>\n",
       "    <tr>\n",
       "      <th>06/04/2018</th>\n",
       "      <td>7122</td>\n",
       "      <td>168.380005</td>\n",
       "      <td>10</td>\n",
       "      <td>9.6100</td>\n",
       "      <td>86.690002</td>\n",
       "      <td>29.629999</td>\n",
       "      <td>35.130001</td>\n",
       "      <td>74.870003</td>\n",
       "      <td>13.97</td>\n",
       "      <td>70.489998</td>\n",
       "      <td>35.169998</td>\n",
       "      <td>109.089996</td>\n",
       "    </tr>\n",
       "    <tr>\n",
       "      <th>09/04/2018</th>\n",
       "      <td>7123</td>\n",
       "      <td>170.050003</td>\n",
       "      <td>10</td>\n",
       "      <td>9.5300</td>\n",
       "      <td>86.279999</td>\n",
       "      <td>29.870001</td>\n",
       "      <td>35.169998</td>\n",
       "      <td>74.870003</td>\n",
       "      <td>13.93</td>\n",
       "      <td>69.820000</td>\n",
       "      <td>35.459999</td>\n",
       "      <td>110.400002</td>\n",
       "    </tr>\n",
       "    <tr>\n",
       "      <th>10/04/2018</th>\n",
       "      <td>7124</td>\n",
       "      <td>173.250000</td>\n",
       "      <td>10</td>\n",
       "      <td>9.9800</td>\n",
       "      <td>86.449997</td>\n",
       "      <td>30.480000</td>\n",
       "      <td>35.810001</td>\n",
       "      <td>77.070000</td>\n",
       "      <td>14.78</td>\n",
       "      <td>71.720001</td>\n",
       "      <td>35.950001</td>\n",
       "      <td>112.510002</td>\n",
       "    </tr>\n",
       "    <tr>\n",
       "      <th>11/04/2018</th>\n",
       "      <td>7125</td>\n",
       "      <td>172.440002</td>\n",
       "      <td>10</td>\n",
       "      <td>9.8200</td>\n",
       "      <td>85.910004</td>\n",
       "      <td>29.900000</td>\n",
       "      <td>35.250000</td>\n",
       "      <td>77.430000</td>\n",
       "      <td>14.99</td>\n",
       "      <td>70.910004</td>\n",
       "      <td>35.790001</td>\n",
       "      <td>110.620003</td>\n",
       "    </tr>\n",
       "  </tbody>\n",
       "</table>\n",
       "<p>7126 rows × 12 columns</p>\n",
       "</div>"
      ],
      "text/plain": [
       "            index        AAPL  GE      AMD        WMT        BAC          T  \\\n",
       "date                                                                          \n",
       "29/12/1989      0    0.117203  10   3.9375   3.486070   1.752478   2.365775   \n",
       "02/01/1990      1    0.123853  10   4.1250   3.660858   1.766686   2.398184   \n",
       "03/01/1990      2    0.124684  10   4.0000   3.660858   1.780897   2.356516   \n",
       "04/01/1990      3    0.125100  10   3.9375   3.641439   1.743005   2.403821   \n",
       "05/01/1990      4    0.125516  10   3.8125   3.602595   1.705114   2.287973   \n",
       "...           ...         ...  ..      ...        ...        ...        ...   \n",
       "05/04/2018   7121  172.800003  10  10.0200  87.809998  30.320000  35.632843   \n",
       "06/04/2018   7122  168.380005  10   9.6100  86.690002  29.629999  35.130001   \n",
       "09/04/2018   7123  170.050003  10   9.5300  86.279999  29.870001  35.169998   \n",
       "10/04/2018   7124  173.250000  10   9.9800  86.449997  30.480000  35.810001   \n",
       "11/04/2018   7125  172.440002  10   9.8200  85.910004  29.900000  35.250000   \n",
       "\n",
       "                  XOM    RRC        BBY        PFE         JPM  \n",
       "date                                                            \n",
       "29/12/1989   1.766756    NaN   0.166287   0.110818    1.827968  \n",
       "02/01/1990   1.766756    NaN   0.173216   0.113209    1.835617  \n",
       "03/01/1990   1.749088    NaN   0.194001   0.113608    1.896803  \n",
       "04/01/1990   1.731422    NaN   0.190537   0.115402    1.904452  \n",
       "05/01/1990   1.722587    NaN   0.190537   0.114405    1.912100  \n",
       "...               ...    ...        ...        ...         ...  \n",
       "05/04/2018  76.019997  14.52  72.120003  35.730000  111.879997  \n",
       "06/04/2018  74.870003  13.97  70.489998  35.169998  109.089996  \n",
       "09/04/2018  74.870003  13.93  69.820000  35.459999  110.400002  \n",
       "10/04/2018  77.070000  14.78  71.720001  35.950001  112.510002  \n",
       "11/04/2018  77.430000  14.99  70.910004  35.790001  110.620003  \n",
       "\n",
       "[7126 rows x 12 columns]"
      ]
     },
     "execution_count": 87,
     "metadata": {},
     "output_type": "execute_result"
    }
   ],
   "source": [
    "price_df"
   ]
  },
  {
   "cell_type": "code",
   "execution_count": 88,
   "id": "e5f47825",
   "metadata": {},
   "outputs": [
    {
     "data": {
      "text/plain": [
       "index     0.000000\n",
       "AAPL      0.117203\n",
       "GE       10.000000\n",
       "AMD       3.937500\n",
       "WMT       3.486070\n",
       "BAC       1.752478\n",
       "T         2.365775\n",
       "XOM       1.766756\n",
       "RRC            NaN\n",
       "BBY       0.166287\n",
       "PFE       0.110818\n",
       "JPM       1.827968\n",
       "Name: 29/12/1989, dtype: float64"
      ]
     },
     "execution_count": 88,
     "metadata": {},
     "output_type": "execute_result"
    }
   ],
   "source": [
    "# append a row\n",
    "new_row = price_df.iloc[0]\n",
    "new_row"
   ]
  },
  {
   "cell_type": "code",
   "execution_count": 89,
   "id": "16534e8e",
   "metadata": {},
   "outputs": [
    {
     "data": {
      "text/html": [
       "<div>\n",
       "<style scoped>\n",
       "    .dataframe tbody tr th:only-of-type {\n",
       "        vertical-align: middle;\n",
       "    }\n",
       "\n",
       "    .dataframe tbody tr th {\n",
       "        vertical-align: top;\n",
       "    }\n",
       "\n",
       "    .dataframe thead th {\n",
       "        text-align: right;\n",
       "    }\n",
       "</style>\n",
       "<table border=\"1\" class=\"dataframe\">\n",
       "  <thead>\n",
       "    <tr style=\"text-align: right;\">\n",
       "      <th></th>\n",
       "      <th>index</th>\n",
       "      <th>AAPL</th>\n",
       "      <th>GE</th>\n",
       "      <th>AMD</th>\n",
       "      <th>WMT</th>\n",
       "      <th>BAC</th>\n",
       "      <th>T</th>\n",
       "      <th>XOM</th>\n",
       "      <th>RRC</th>\n",
       "      <th>BBY</th>\n",
       "      <th>PFE</th>\n",
       "      <th>JPM</th>\n",
       "    </tr>\n",
       "    <tr>\n",
       "      <th>date</th>\n",
       "      <th></th>\n",
       "      <th></th>\n",
       "      <th></th>\n",
       "      <th></th>\n",
       "      <th></th>\n",
       "      <th></th>\n",
       "      <th></th>\n",
       "      <th></th>\n",
       "      <th></th>\n",
       "      <th></th>\n",
       "      <th></th>\n",
       "      <th></th>\n",
       "    </tr>\n",
       "  </thead>\n",
       "  <tbody>\n",
       "    <tr>\n",
       "      <th>29/12/1989</th>\n",
       "      <td>0.0</td>\n",
       "      <td>0.117203</td>\n",
       "      <td>10.0</td>\n",
       "      <td>3.9375</td>\n",
       "      <td>3.486070</td>\n",
       "      <td>1.752478</td>\n",
       "      <td>2.365775</td>\n",
       "      <td>1.766756</td>\n",
       "      <td>NaN</td>\n",
       "      <td>0.166287</td>\n",
       "      <td>0.110818</td>\n",
       "      <td>1.827968</td>\n",
       "    </tr>\n",
       "    <tr>\n",
       "      <th>02/01/1990</th>\n",
       "      <td>1.0</td>\n",
       "      <td>0.123853</td>\n",
       "      <td>10.0</td>\n",
       "      <td>4.1250</td>\n",
       "      <td>3.660858</td>\n",
       "      <td>1.766686</td>\n",
       "      <td>2.398184</td>\n",
       "      <td>1.766756</td>\n",
       "      <td>NaN</td>\n",
       "      <td>0.173216</td>\n",
       "      <td>0.113209</td>\n",
       "      <td>1.835617</td>\n",
       "    </tr>\n",
       "    <tr>\n",
       "      <th>03/01/1990</th>\n",
       "      <td>2.0</td>\n",
       "      <td>0.124684</td>\n",
       "      <td>10.0</td>\n",
       "      <td>4.0000</td>\n",
       "      <td>3.660858</td>\n",
       "      <td>1.780897</td>\n",
       "      <td>2.356516</td>\n",
       "      <td>1.749088</td>\n",
       "      <td>NaN</td>\n",
       "      <td>0.194001</td>\n",
       "      <td>0.113608</td>\n",
       "      <td>1.896803</td>\n",
       "    </tr>\n",
       "    <tr>\n",
       "      <th>04/01/1990</th>\n",
       "      <td>3.0</td>\n",
       "      <td>0.125100</td>\n",
       "      <td>10.0</td>\n",
       "      <td>3.9375</td>\n",
       "      <td>3.641439</td>\n",
       "      <td>1.743005</td>\n",
       "      <td>2.403821</td>\n",
       "      <td>1.731422</td>\n",
       "      <td>NaN</td>\n",
       "      <td>0.190537</td>\n",
       "      <td>0.115402</td>\n",
       "      <td>1.904452</td>\n",
       "    </tr>\n",
       "    <tr>\n",
       "      <th>05/01/1990</th>\n",
       "      <td>4.0</td>\n",
       "      <td>0.125516</td>\n",
       "      <td>10.0</td>\n",
       "      <td>3.8125</td>\n",
       "      <td>3.602595</td>\n",
       "      <td>1.705114</td>\n",
       "      <td>2.287973</td>\n",
       "      <td>1.722587</td>\n",
       "      <td>NaN</td>\n",
       "      <td>0.190537</td>\n",
       "      <td>0.114405</td>\n",
       "      <td>1.912100</td>\n",
       "    </tr>\n",
       "    <tr>\n",
       "      <th>...</th>\n",
       "      <td>...</td>\n",
       "      <td>...</td>\n",
       "      <td>...</td>\n",
       "      <td>...</td>\n",
       "      <td>...</td>\n",
       "      <td>...</td>\n",
       "      <td>...</td>\n",
       "      <td>...</td>\n",
       "      <td>...</td>\n",
       "      <td>...</td>\n",
       "      <td>...</td>\n",
       "      <td>...</td>\n",
       "    </tr>\n",
       "    <tr>\n",
       "      <th>06/04/2018</th>\n",
       "      <td>7122.0</td>\n",
       "      <td>168.380005</td>\n",
       "      <td>10.0</td>\n",
       "      <td>9.6100</td>\n",
       "      <td>86.690002</td>\n",
       "      <td>29.629999</td>\n",
       "      <td>35.130001</td>\n",
       "      <td>74.870003</td>\n",
       "      <td>13.97</td>\n",
       "      <td>70.489998</td>\n",
       "      <td>35.169998</td>\n",
       "      <td>109.089996</td>\n",
       "    </tr>\n",
       "    <tr>\n",
       "      <th>09/04/2018</th>\n",
       "      <td>7123.0</td>\n",
       "      <td>170.050003</td>\n",
       "      <td>10.0</td>\n",
       "      <td>9.5300</td>\n",
       "      <td>86.279999</td>\n",
       "      <td>29.870001</td>\n",
       "      <td>35.169998</td>\n",
       "      <td>74.870003</td>\n",
       "      <td>13.93</td>\n",
       "      <td>69.820000</td>\n",
       "      <td>35.459999</td>\n",
       "      <td>110.400002</td>\n",
       "    </tr>\n",
       "    <tr>\n",
       "      <th>10/04/2018</th>\n",
       "      <td>7124.0</td>\n",
       "      <td>173.250000</td>\n",
       "      <td>10.0</td>\n",
       "      <td>9.9800</td>\n",
       "      <td>86.449997</td>\n",
       "      <td>30.480000</td>\n",
       "      <td>35.810001</td>\n",
       "      <td>77.070000</td>\n",
       "      <td>14.78</td>\n",
       "      <td>71.720001</td>\n",
       "      <td>35.950001</td>\n",
       "      <td>112.510002</td>\n",
       "    </tr>\n",
       "    <tr>\n",
       "      <th>11/04/2018</th>\n",
       "      <td>7125.0</td>\n",
       "      <td>172.440002</td>\n",
       "      <td>10.0</td>\n",
       "      <td>9.8200</td>\n",
       "      <td>85.910004</td>\n",
       "      <td>29.900000</td>\n",
       "      <td>35.250000</td>\n",
       "      <td>77.430000</td>\n",
       "      <td>14.99</td>\n",
       "      <td>70.910004</td>\n",
       "      <td>35.790001</td>\n",
       "      <td>110.620003</td>\n",
       "    </tr>\n",
       "    <tr>\n",
       "      <th>29/12/1989</th>\n",
       "      <td>0.0</td>\n",
       "      <td>0.117203</td>\n",
       "      <td>10.0</td>\n",
       "      <td>3.9375</td>\n",
       "      <td>3.486070</td>\n",
       "      <td>1.752478</td>\n",
       "      <td>2.365775</td>\n",
       "      <td>1.766756</td>\n",
       "      <td>NaN</td>\n",
       "      <td>0.166287</td>\n",
       "      <td>0.110818</td>\n",
       "      <td>1.827968</td>\n",
       "    </tr>\n",
       "  </tbody>\n",
       "</table>\n",
       "<p>7127 rows × 12 columns</p>\n",
       "</div>"
      ],
      "text/plain": [
       "             index        AAPL    GE     AMD        WMT        BAC          T  \\\n",
       "date                                                                            \n",
       "29/12/1989     0.0    0.117203  10.0  3.9375   3.486070   1.752478   2.365775   \n",
       "02/01/1990     1.0    0.123853  10.0  4.1250   3.660858   1.766686   2.398184   \n",
       "03/01/1990     2.0    0.124684  10.0  4.0000   3.660858   1.780897   2.356516   \n",
       "04/01/1990     3.0    0.125100  10.0  3.9375   3.641439   1.743005   2.403821   \n",
       "05/01/1990     4.0    0.125516  10.0  3.8125   3.602595   1.705114   2.287973   \n",
       "...            ...         ...   ...     ...        ...        ...        ...   \n",
       "06/04/2018  7122.0  168.380005  10.0  9.6100  86.690002  29.629999  35.130001   \n",
       "09/04/2018  7123.0  170.050003  10.0  9.5300  86.279999  29.870001  35.169998   \n",
       "10/04/2018  7124.0  173.250000  10.0  9.9800  86.449997  30.480000  35.810001   \n",
       "11/04/2018  7125.0  172.440002  10.0  9.8200  85.910004  29.900000  35.250000   \n",
       "29/12/1989     0.0    0.117203  10.0  3.9375   3.486070   1.752478   2.365775   \n",
       "\n",
       "                  XOM    RRC        BBY        PFE         JPM  \n",
       "date                                                            \n",
       "29/12/1989   1.766756    NaN   0.166287   0.110818    1.827968  \n",
       "02/01/1990   1.766756    NaN   0.173216   0.113209    1.835617  \n",
       "03/01/1990   1.749088    NaN   0.194001   0.113608    1.896803  \n",
       "04/01/1990   1.731422    NaN   0.190537   0.115402    1.904452  \n",
       "05/01/1990   1.722587    NaN   0.190537   0.114405    1.912100  \n",
       "...               ...    ...        ...        ...         ...  \n",
       "06/04/2018  74.870003  13.97  70.489998  35.169998  109.089996  \n",
       "09/04/2018  74.870003  13.93  69.820000  35.459999  110.400002  \n",
       "10/04/2018  77.070000  14.78  71.720001  35.950001  112.510002  \n",
       "11/04/2018  77.430000  14.99  70.910004  35.790001  110.620003  \n",
       "29/12/1989   1.766756    NaN   0.166287   0.110818    1.827968  \n",
       "\n",
       "[7127 rows x 12 columns]"
      ]
     },
     "execution_count": 89,
     "metadata": {},
     "output_type": "execute_result"
    }
   ],
   "source": [
    "price_df.append(new_row)"
   ]
  },
  {
   "cell_type": "code",
   "execution_count": 90,
   "id": "176aea32",
   "metadata": {},
   "outputs": [
    {
     "data": {
      "text/html": [
       "<div>\n",
       "<style scoped>\n",
       "    .dataframe tbody tr th:only-of-type {\n",
       "        vertical-align: middle;\n",
       "    }\n",
       "\n",
       "    .dataframe tbody tr th {\n",
       "        vertical-align: top;\n",
       "    }\n",
       "\n",
       "    .dataframe thead th {\n",
       "        text-align: right;\n",
       "    }\n",
       "</style>\n",
       "<table border=\"1\" class=\"dataframe\">\n",
       "  <thead>\n",
       "    <tr style=\"text-align: right;\">\n",
       "      <th></th>\n",
       "      <th>index</th>\n",
       "      <th>AAPL</th>\n",
       "      <th>GE</th>\n",
       "      <th>AMD</th>\n",
       "      <th>WMT</th>\n",
       "      <th>BAC</th>\n",
       "      <th>T</th>\n",
       "      <th>XOM</th>\n",
       "      <th>RRC</th>\n",
       "      <th>BBY</th>\n",
       "      <th>PFE</th>\n",
       "      <th>JPM</th>\n",
       "      <th>new_column</th>\n",
       "    </tr>\n",
       "    <tr>\n",
       "      <th>date</th>\n",
       "      <th></th>\n",
       "      <th></th>\n",
       "      <th></th>\n",
       "      <th></th>\n",
       "      <th></th>\n",
       "      <th></th>\n",
       "      <th></th>\n",
       "      <th></th>\n",
       "      <th></th>\n",
       "      <th></th>\n",
       "      <th></th>\n",
       "      <th></th>\n",
       "      <th></th>\n",
       "    </tr>\n",
       "  </thead>\n",
       "  <tbody>\n",
       "    <tr>\n",
       "      <th>29/12/1989</th>\n",
       "      <td>0</td>\n",
       "      <td>0.117203</td>\n",
       "      <td>10</td>\n",
       "      <td>3.9375</td>\n",
       "      <td>3.486070</td>\n",
       "      <td>1.752478</td>\n",
       "      <td>2.365775</td>\n",
       "      <td>1.766756</td>\n",
       "      <td>NaN</td>\n",
       "      <td>0.166287</td>\n",
       "      <td>0.110818</td>\n",
       "      <td>1.827968</td>\n",
       "      <td>0.117203</td>\n",
       "    </tr>\n",
       "    <tr>\n",
       "      <th>02/01/1990</th>\n",
       "      <td>1</td>\n",
       "      <td>0.123853</td>\n",
       "      <td>10</td>\n",
       "      <td>4.1250</td>\n",
       "      <td>3.660858</td>\n",
       "      <td>1.766686</td>\n",
       "      <td>2.398184</td>\n",
       "      <td>1.766756</td>\n",
       "      <td>NaN</td>\n",
       "      <td>0.173216</td>\n",
       "      <td>0.113209</td>\n",
       "      <td>1.835617</td>\n",
       "      <td>0.123853</td>\n",
       "    </tr>\n",
       "    <tr>\n",
       "      <th>03/01/1990</th>\n",
       "      <td>2</td>\n",
       "      <td>0.124684</td>\n",
       "      <td>10</td>\n",
       "      <td>4.0000</td>\n",
       "      <td>3.660858</td>\n",
       "      <td>1.780897</td>\n",
       "      <td>2.356516</td>\n",
       "      <td>1.749088</td>\n",
       "      <td>NaN</td>\n",
       "      <td>0.194001</td>\n",
       "      <td>0.113608</td>\n",
       "      <td>1.896803</td>\n",
       "      <td>0.124684</td>\n",
       "    </tr>\n",
       "    <tr>\n",
       "      <th>04/01/1990</th>\n",
       "      <td>3</td>\n",
       "      <td>0.125100</td>\n",
       "      <td>10</td>\n",
       "      <td>3.9375</td>\n",
       "      <td>3.641439</td>\n",
       "      <td>1.743005</td>\n",
       "      <td>2.403821</td>\n",
       "      <td>1.731422</td>\n",
       "      <td>NaN</td>\n",
       "      <td>0.190537</td>\n",
       "      <td>0.115402</td>\n",
       "      <td>1.904452</td>\n",
       "      <td>0.125100</td>\n",
       "    </tr>\n",
       "    <tr>\n",
       "      <th>05/01/1990</th>\n",
       "      <td>4</td>\n",
       "      <td>0.125516</td>\n",
       "      <td>10</td>\n",
       "      <td>3.8125</td>\n",
       "      <td>3.602595</td>\n",
       "      <td>1.705114</td>\n",
       "      <td>2.287973</td>\n",
       "      <td>1.722587</td>\n",
       "      <td>NaN</td>\n",
       "      <td>0.190537</td>\n",
       "      <td>0.114405</td>\n",
       "      <td>1.912100</td>\n",
       "      <td>0.125516</td>\n",
       "    </tr>\n",
       "    <tr>\n",
       "      <th>...</th>\n",
       "      <td>...</td>\n",
       "      <td>...</td>\n",
       "      <td>...</td>\n",
       "      <td>...</td>\n",
       "      <td>...</td>\n",
       "      <td>...</td>\n",
       "      <td>...</td>\n",
       "      <td>...</td>\n",
       "      <td>...</td>\n",
       "      <td>...</td>\n",
       "      <td>...</td>\n",
       "      <td>...</td>\n",
       "      <td>...</td>\n",
       "    </tr>\n",
       "    <tr>\n",
       "      <th>05/04/2018</th>\n",
       "      <td>7121</td>\n",
       "      <td>172.800003</td>\n",
       "      <td>10</td>\n",
       "      <td>10.0200</td>\n",
       "      <td>87.809998</td>\n",
       "      <td>30.320000</td>\n",
       "      <td>35.632843</td>\n",
       "      <td>76.019997</td>\n",
       "      <td>14.52</td>\n",
       "      <td>72.120003</td>\n",
       "      <td>35.730000</td>\n",
       "      <td>111.879997</td>\n",
       "      <td>172.800003</td>\n",
       "    </tr>\n",
       "    <tr>\n",
       "      <th>06/04/2018</th>\n",
       "      <td>7122</td>\n",
       "      <td>168.380005</td>\n",
       "      <td>10</td>\n",
       "      <td>9.6100</td>\n",
       "      <td>86.690002</td>\n",
       "      <td>29.629999</td>\n",
       "      <td>35.130001</td>\n",
       "      <td>74.870003</td>\n",
       "      <td>13.97</td>\n",
       "      <td>70.489998</td>\n",
       "      <td>35.169998</td>\n",
       "      <td>109.089996</td>\n",
       "      <td>168.380005</td>\n",
       "    </tr>\n",
       "    <tr>\n",
       "      <th>09/04/2018</th>\n",
       "      <td>7123</td>\n",
       "      <td>170.050003</td>\n",
       "      <td>10</td>\n",
       "      <td>9.5300</td>\n",
       "      <td>86.279999</td>\n",
       "      <td>29.870001</td>\n",
       "      <td>35.169998</td>\n",
       "      <td>74.870003</td>\n",
       "      <td>13.93</td>\n",
       "      <td>69.820000</td>\n",
       "      <td>35.459999</td>\n",
       "      <td>110.400002</td>\n",
       "      <td>170.050003</td>\n",
       "    </tr>\n",
       "    <tr>\n",
       "      <th>10/04/2018</th>\n",
       "      <td>7124</td>\n",
       "      <td>173.250000</td>\n",
       "      <td>10</td>\n",
       "      <td>9.9800</td>\n",
       "      <td>86.449997</td>\n",
       "      <td>30.480000</td>\n",
       "      <td>35.810001</td>\n",
       "      <td>77.070000</td>\n",
       "      <td>14.78</td>\n",
       "      <td>71.720001</td>\n",
       "      <td>35.950001</td>\n",
       "      <td>112.510002</td>\n",
       "      <td>173.250000</td>\n",
       "    </tr>\n",
       "    <tr>\n",
       "      <th>11/04/2018</th>\n",
       "      <td>7125</td>\n",
       "      <td>172.440002</td>\n",
       "      <td>10</td>\n",
       "      <td>9.8200</td>\n",
       "      <td>85.910004</td>\n",
       "      <td>29.900000</td>\n",
       "      <td>35.250000</td>\n",
       "      <td>77.430000</td>\n",
       "      <td>14.99</td>\n",
       "      <td>70.910004</td>\n",
       "      <td>35.790001</td>\n",
       "      <td>110.620003</td>\n",
       "      <td>172.440002</td>\n",
       "    </tr>\n",
       "  </tbody>\n",
       "</table>\n",
       "<p>7126 rows × 13 columns</p>\n",
       "</div>"
      ],
      "text/plain": [
       "            index        AAPL  GE      AMD        WMT        BAC          T  \\\n",
       "date                                                                          \n",
       "29/12/1989      0    0.117203  10   3.9375   3.486070   1.752478   2.365775   \n",
       "02/01/1990      1    0.123853  10   4.1250   3.660858   1.766686   2.398184   \n",
       "03/01/1990      2    0.124684  10   4.0000   3.660858   1.780897   2.356516   \n",
       "04/01/1990      3    0.125100  10   3.9375   3.641439   1.743005   2.403821   \n",
       "05/01/1990      4    0.125516  10   3.8125   3.602595   1.705114   2.287973   \n",
       "...           ...         ...  ..      ...        ...        ...        ...   \n",
       "05/04/2018   7121  172.800003  10  10.0200  87.809998  30.320000  35.632843   \n",
       "06/04/2018   7122  168.380005  10   9.6100  86.690002  29.629999  35.130001   \n",
       "09/04/2018   7123  170.050003  10   9.5300  86.279999  29.870001  35.169998   \n",
       "10/04/2018   7124  173.250000  10   9.9800  86.449997  30.480000  35.810001   \n",
       "11/04/2018   7125  172.440002  10   9.8200  85.910004  29.900000  35.250000   \n",
       "\n",
       "                  XOM    RRC        BBY        PFE         JPM  new_column  \n",
       "date                                                                        \n",
       "29/12/1989   1.766756    NaN   0.166287   0.110818    1.827968    0.117203  \n",
       "02/01/1990   1.766756    NaN   0.173216   0.113209    1.835617    0.123853  \n",
       "03/01/1990   1.749088    NaN   0.194001   0.113608    1.896803    0.124684  \n",
       "04/01/1990   1.731422    NaN   0.190537   0.115402    1.904452    0.125100  \n",
       "05/01/1990   1.722587    NaN   0.190537   0.114405    1.912100    0.125516  \n",
       "...               ...    ...        ...        ...         ...         ...  \n",
       "05/04/2018  76.019997  14.52  72.120003  35.730000  111.879997  172.800003  \n",
       "06/04/2018  74.870003  13.97  70.489998  35.169998  109.089996  168.380005  \n",
       "09/04/2018  74.870003  13.93  69.820000  35.459999  110.400002  170.050003  \n",
       "10/04/2018  77.070000  14.78  71.720001  35.950001  112.510002  173.250000  \n",
       "11/04/2018  77.430000  14.99  70.910004  35.790001  110.620003  172.440002  \n",
       "\n",
       "[7126 rows x 13 columns]"
      ]
     },
     "execution_count": 90,
     "metadata": {},
     "output_type": "execute_result"
    }
   ],
   "source": [
    "# append a column\n",
    "new_column = price_df[\"AAPL\"]\n",
    "\n",
    "price_df[\"new_column\"] = new_column\n",
    "\n",
    "price_df"
   ]
  },
  {
   "cell_type": "code",
   "execution_count": 91,
   "id": "1bb39fd2",
   "metadata": {},
   "outputs": [],
   "source": [
    "# drop a column / row\n",
    "price_df.drop(\"new_column\", axis=1, inplace=True)\n"
   ]
  },
  {
   "cell_type": "code",
   "execution_count": 92,
   "id": "10ad1bc7",
   "metadata": {},
   "outputs": [
    {
     "data": {
      "text/html": [
       "<div>\n",
       "<style scoped>\n",
       "    .dataframe tbody tr th:only-of-type {\n",
       "        vertical-align: middle;\n",
       "    }\n",
       "\n",
       "    .dataframe tbody tr th {\n",
       "        vertical-align: top;\n",
       "    }\n",
       "\n",
       "    .dataframe thead th {\n",
       "        text-align: right;\n",
       "    }\n",
       "</style>\n",
       "<table border=\"1\" class=\"dataframe\">\n",
       "  <thead>\n",
       "    <tr style=\"text-align: right;\">\n",
       "      <th></th>\n",
       "      <th>index</th>\n",
       "      <th>AAPL</th>\n",
       "      <th>GE</th>\n",
       "      <th>AMD</th>\n",
       "      <th>WMT</th>\n",
       "      <th>BAC</th>\n",
       "      <th>T</th>\n",
       "      <th>XOM</th>\n",
       "      <th>RRC</th>\n",
       "      <th>BBY</th>\n",
       "      <th>PFE</th>\n",
       "      <th>JPM</th>\n",
       "    </tr>\n",
       "    <tr>\n",
       "      <th>date</th>\n",
       "      <th></th>\n",
       "      <th></th>\n",
       "      <th></th>\n",
       "      <th></th>\n",
       "      <th></th>\n",
       "      <th></th>\n",
       "      <th></th>\n",
       "      <th></th>\n",
       "      <th></th>\n",
       "      <th></th>\n",
       "      <th></th>\n",
       "      <th></th>\n",
       "    </tr>\n",
       "  </thead>\n",
       "  <tbody>\n",
       "    <tr>\n",
       "      <th>29/12/1989</th>\n",
       "      <td>0</td>\n",
       "      <td>0.117203</td>\n",
       "      <td>10</td>\n",
       "      <td>3.9375</td>\n",
       "      <td>3.486070</td>\n",
       "      <td>1.752478</td>\n",
       "      <td>2.365775</td>\n",
       "      <td>1.766756</td>\n",
       "      <td>NaN</td>\n",
       "      <td>0.166287</td>\n",
       "      <td>0.110818</td>\n",
       "      <td>1.827968</td>\n",
       "    </tr>\n",
       "    <tr>\n",
       "      <th>02/01/1990</th>\n",
       "      <td>1</td>\n",
       "      <td>0.123853</td>\n",
       "      <td>10</td>\n",
       "      <td>4.1250</td>\n",
       "      <td>3.660858</td>\n",
       "      <td>1.766686</td>\n",
       "      <td>2.398184</td>\n",
       "      <td>1.766756</td>\n",
       "      <td>NaN</td>\n",
       "      <td>0.173216</td>\n",
       "      <td>0.113209</td>\n",
       "      <td>1.835617</td>\n",
       "    </tr>\n",
       "    <tr>\n",
       "      <th>03/01/1990</th>\n",
       "      <td>2</td>\n",
       "      <td>0.124684</td>\n",
       "      <td>10</td>\n",
       "      <td>4.0000</td>\n",
       "      <td>3.660858</td>\n",
       "      <td>1.780897</td>\n",
       "      <td>2.356516</td>\n",
       "      <td>1.749088</td>\n",
       "      <td>NaN</td>\n",
       "      <td>0.194001</td>\n",
       "      <td>0.113608</td>\n",
       "      <td>1.896803</td>\n",
       "    </tr>\n",
       "    <tr>\n",
       "      <th>04/01/1990</th>\n",
       "      <td>3</td>\n",
       "      <td>0.125100</td>\n",
       "      <td>10</td>\n",
       "      <td>3.9375</td>\n",
       "      <td>3.641439</td>\n",
       "      <td>1.743005</td>\n",
       "      <td>2.403821</td>\n",
       "      <td>1.731422</td>\n",
       "      <td>NaN</td>\n",
       "      <td>0.190537</td>\n",
       "      <td>0.115402</td>\n",
       "      <td>1.904452</td>\n",
       "    </tr>\n",
       "    <tr>\n",
       "      <th>05/01/1990</th>\n",
       "      <td>4</td>\n",
       "      <td>0.125516</td>\n",
       "      <td>10</td>\n",
       "      <td>3.8125</td>\n",
       "      <td>3.602595</td>\n",
       "      <td>1.705114</td>\n",
       "      <td>2.287973</td>\n",
       "      <td>1.722587</td>\n",
       "      <td>NaN</td>\n",
       "      <td>0.190537</td>\n",
       "      <td>0.114405</td>\n",
       "      <td>1.912100</td>\n",
       "    </tr>\n",
       "    <tr>\n",
       "      <th>...</th>\n",
       "      <td>...</td>\n",
       "      <td>...</td>\n",
       "      <td>...</td>\n",
       "      <td>...</td>\n",
       "      <td>...</td>\n",
       "      <td>...</td>\n",
       "      <td>...</td>\n",
       "      <td>...</td>\n",
       "      <td>...</td>\n",
       "      <td>...</td>\n",
       "      <td>...</td>\n",
       "      <td>...</td>\n",
       "    </tr>\n",
       "    <tr>\n",
       "      <th>05/04/2018</th>\n",
       "      <td>7121</td>\n",
       "      <td>172.800003</td>\n",
       "      <td>10</td>\n",
       "      <td>10.0200</td>\n",
       "      <td>87.809998</td>\n",
       "      <td>30.320000</td>\n",
       "      <td>35.632843</td>\n",
       "      <td>76.019997</td>\n",
       "      <td>14.52</td>\n",
       "      <td>72.120003</td>\n",
       "      <td>35.730000</td>\n",
       "      <td>111.879997</td>\n",
       "    </tr>\n",
       "    <tr>\n",
       "      <th>06/04/2018</th>\n",
       "      <td>7122</td>\n",
       "      <td>168.380005</td>\n",
       "      <td>10</td>\n",
       "      <td>9.6100</td>\n",
       "      <td>86.690002</td>\n",
       "      <td>29.629999</td>\n",
       "      <td>35.130001</td>\n",
       "      <td>74.870003</td>\n",
       "      <td>13.97</td>\n",
       "      <td>70.489998</td>\n",
       "      <td>35.169998</td>\n",
       "      <td>109.089996</td>\n",
       "    </tr>\n",
       "    <tr>\n",
       "      <th>09/04/2018</th>\n",
       "      <td>7123</td>\n",
       "      <td>170.050003</td>\n",
       "      <td>10</td>\n",
       "      <td>9.5300</td>\n",
       "      <td>86.279999</td>\n",
       "      <td>29.870001</td>\n",
       "      <td>35.169998</td>\n",
       "      <td>74.870003</td>\n",
       "      <td>13.93</td>\n",
       "      <td>69.820000</td>\n",
       "      <td>35.459999</td>\n",
       "      <td>110.400002</td>\n",
       "    </tr>\n",
       "    <tr>\n",
       "      <th>10/04/2018</th>\n",
       "      <td>7124</td>\n",
       "      <td>173.250000</td>\n",
       "      <td>10</td>\n",
       "      <td>9.9800</td>\n",
       "      <td>86.449997</td>\n",
       "      <td>30.480000</td>\n",
       "      <td>35.810001</td>\n",
       "      <td>77.070000</td>\n",
       "      <td>14.78</td>\n",
       "      <td>71.720001</td>\n",
       "      <td>35.950001</td>\n",
       "      <td>112.510002</td>\n",
       "    </tr>\n",
       "    <tr>\n",
       "      <th>11/04/2018</th>\n",
       "      <td>7125</td>\n",
       "      <td>172.440002</td>\n",
       "      <td>10</td>\n",
       "      <td>9.8200</td>\n",
       "      <td>85.910004</td>\n",
       "      <td>29.900000</td>\n",
       "      <td>35.250000</td>\n",
       "      <td>77.430000</td>\n",
       "      <td>14.99</td>\n",
       "      <td>70.910004</td>\n",
       "      <td>35.790001</td>\n",
       "      <td>110.620003</td>\n",
       "    </tr>\n",
       "  </tbody>\n",
       "</table>\n",
       "<p>7126 rows × 12 columns</p>\n",
       "</div>"
      ],
      "text/plain": [
       "            index        AAPL  GE      AMD        WMT        BAC          T  \\\n",
       "date                                                                          \n",
       "29/12/1989      0    0.117203  10   3.9375   3.486070   1.752478   2.365775   \n",
       "02/01/1990      1    0.123853  10   4.1250   3.660858   1.766686   2.398184   \n",
       "03/01/1990      2    0.124684  10   4.0000   3.660858   1.780897   2.356516   \n",
       "04/01/1990      3    0.125100  10   3.9375   3.641439   1.743005   2.403821   \n",
       "05/01/1990      4    0.125516  10   3.8125   3.602595   1.705114   2.287973   \n",
       "...           ...         ...  ..      ...        ...        ...        ...   \n",
       "05/04/2018   7121  172.800003  10  10.0200  87.809998  30.320000  35.632843   \n",
       "06/04/2018   7122  168.380005  10   9.6100  86.690002  29.629999  35.130001   \n",
       "09/04/2018   7123  170.050003  10   9.5300  86.279999  29.870001  35.169998   \n",
       "10/04/2018   7124  173.250000  10   9.9800  86.449997  30.480000  35.810001   \n",
       "11/04/2018   7125  172.440002  10   9.8200  85.910004  29.900000  35.250000   \n",
       "\n",
       "                  XOM    RRC        BBY        PFE         JPM  \n",
       "date                                                            \n",
       "29/12/1989   1.766756    NaN   0.166287   0.110818    1.827968  \n",
       "02/01/1990   1.766756    NaN   0.173216   0.113209    1.835617  \n",
       "03/01/1990   1.749088    NaN   0.194001   0.113608    1.896803  \n",
       "04/01/1990   1.731422    NaN   0.190537   0.115402    1.904452  \n",
       "05/01/1990   1.722587    NaN   0.190537   0.114405    1.912100  \n",
       "...               ...    ...        ...        ...         ...  \n",
       "05/04/2018  76.019997  14.52  72.120003  35.730000  111.879997  \n",
       "06/04/2018  74.870003  13.97  70.489998  35.169998  109.089996  \n",
       "09/04/2018  74.870003  13.93  69.820000  35.459999  110.400002  \n",
       "10/04/2018  77.070000  14.78  71.720001  35.950001  112.510002  \n",
       "11/04/2018  77.430000  14.99  70.910004  35.790001  110.620003  \n",
       "\n",
       "[7126 rows x 12 columns]"
      ]
     },
     "execution_count": 92,
     "metadata": {},
     "output_type": "execute_result"
    }
   ],
   "source": [
    "price_df"
   ]
  },
  {
   "cell_type": "code",
   "execution_count": 93,
   "id": "b5b69e16",
   "metadata": {},
   "outputs": [
    {
     "data": {
      "text/html": [
       "<div>\n",
       "<style scoped>\n",
       "    .dataframe tbody tr th:only-of-type {\n",
       "        vertical-align: middle;\n",
       "    }\n",
       "\n",
       "    .dataframe tbody tr th {\n",
       "        vertical-align: top;\n",
       "    }\n",
       "\n",
       "    .dataframe thead th {\n",
       "        text-align: right;\n",
       "    }\n",
       "</style>\n",
       "<table border=\"1\" class=\"dataframe\">\n",
       "  <thead>\n",
       "    <tr style=\"text-align: right;\">\n",
       "      <th></th>\n",
       "      <th>index</th>\n",
       "      <th>AAPL</th>\n",
       "      <th>GE</th>\n",
       "      <th>AMD</th>\n",
       "      <th>WMT</th>\n",
       "      <th>BAC</th>\n",
       "      <th>T</th>\n",
       "      <th>XOM</th>\n",
       "      <th>RRC</th>\n",
       "      <th>BBY</th>\n",
       "      <th>PFE</th>\n",
       "      <th>JPM</th>\n",
       "    </tr>\n",
       "    <tr>\n",
       "      <th>date</th>\n",
       "      <th></th>\n",
       "      <th></th>\n",
       "      <th></th>\n",
       "      <th></th>\n",
       "      <th></th>\n",
       "      <th></th>\n",
       "      <th></th>\n",
       "      <th></th>\n",
       "      <th></th>\n",
       "      <th></th>\n",
       "      <th></th>\n",
       "      <th></th>\n",
       "    </tr>\n",
       "  </thead>\n",
       "  <tbody>\n",
       "    <tr>\n",
       "      <th>02/01/1990</th>\n",
       "      <td>1</td>\n",
       "      <td>0.123853</td>\n",
       "      <td>10</td>\n",
       "      <td>4.1250</td>\n",
       "      <td>3.660858</td>\n",
       "      <td>1.766686</td>\n",
       "      <td>2.398184</td>\n",
       "      <td>1.766756</td>\n",
       "      <td>NaN</td>\n",
       "      <td>0.173216</td>\n",
       "      <td>0.113209</td>\n",
       "      <td>1.835617</td>\n",
       "    </tr>\n",
       "    <tr>\n",
       "      <th>03/01/1990</th>\n",
       "      <td>2</td>\n",
       "      <td>0.124684</td>\n",
       "      <td>10</td>\n",
       "      <td>4.0000</td>\n",
       "      <td>3.660858</td>\n",
       "      <td>1.780897</td>\n",
       "      <td>2.356516</td>\n",
       "      <td>1.749088</td>\n",
       "      <td>NaN</td>\n",
       "      <td>0.194001</td>\n",
       "      <td>0.113608</td>\n",
       "      <td>1.896803</td>\n",
       "    </tr>\n",
       "    <tr>\n",
       "      <th>04/01/1990</th>\n",
       "      <td>3</td>\n",
       "      <td>0.125100</td>\n",
       "      <td>10</td>\n",
       "      <td>3.9375</td>\n",
       "      <td>3.641439</td>\n",
       "      <td>1.743005</td>\n",
       "      <td>2.403821</td>\n",
       "      <td>1.731422</td>\n",
       "      <td>NaN</td>\n",
       "      <td>0.190537</td>\n",
       "      <td>0.115402</td>\n",
       "      <td>1.904452</td>\n",
       "    </tr>\n",
       "    <tr>\n",
       "      <th>05/01/1990</th>\n",
       "      <td>4</td>\n",
       "      <td>0.125516</td>\n",
       "      <td>10</td>\n",
       "      <td>3.8125</td>\n",
       "      <td>3.602595</td>\n",
       "      <td>1.705114</td>\n",
       "      <td>2.287973</td>\n",
       "      <td>1.722587</td>\n",
       "      <td>NaN</td>\n",
       "      <td>0.190537</td>\n",
       "      <td>0.114405</td>\n",
       "      <td>1.912100</td>\n",
       "    </tr>\n",
       "    <tr>\n",
       "      <th>08/01/1990</th>\n",
       "      <td>5</td>\n",
       "      <td>0.126347</td>\n",
       "      <td>10</td>\n",
       "      <td>3.8125</td>\n",
       "      <td>3.651146</td>\n",
       "      <td>1.714586</td>\n",
       "      <td>2.326588</td>\n",
       "      <td>1.749088</td>\n",
       "      <td>NaN</td>\n",
       "      <td>0.176680</td>\n",
       "      <td>0.113409</td>\n",
       "      <td>1.912100</td>\n",
       "    </tr>\n",
       "    <tr>\n",
       "      <th>...</th>\n",
       "      <td>...</td>\n",
       "      <td>...</td>\n",
       "      <td>...</td>\n",
       "      <td>...</td>\n",
       "      <td>...</td>\n",
       "      <td>...</td>\n",
       "      <td>...</td>\n",
       "      <td>...</td>\n",
       "      <td>...</td>\n",
       "      <td>...</td>\n",
       "      <td>...</td>\n",
       "      <td>...</td>\n",
       "    </tr>\n",
       "    <tr>\n",
       "      <th>05/04/2018</th>\n",
       "      <td>7121</td>\n",
       "      <td>172.800003</td>\n",
       "      <td>10</td>\n",
       "      <td>10.0200</td>\n",
       "      <td>87.809998</td>\n",
       "      <td>30.320000</td>\n",
       "      <td>35.632843</td>\n",
       "      <td>76.019997</td>\n",
       "      <td>14.52</td>\n",
       "      <td>72.120003</td>\n",
       "      <td>35.730000</td>\n",
       "      <td>111.879997</td>\n",
       "    </tr>\n",
       "    <tr>\n",
       "      <th>06/04/2018</th>\n",
       "      <td>7122</td>\n",
       "      <td>168.380005</td>\n",
       "      <td>10</td>\n",
       "      <td>9.6100</td>\n",
       "      <td>86.690002</td>\n",
       "      <td>29.629999</td>\n",
       "      <td>35.130001</td>\n",
       "      <td>74.870003</td>\n",
       "      <td>13.97</td>\n",
       "      <td>70.489998</td>\n",
       "      <td>35.169998</td>\n",
       "      <td>109.089996</td>\n",
       "    </tr>\n",
       "    <tr>\n",
       "      <th>09/04/2018</th>\n",
       "      <td>7123</td>\n",
       "      <td>170.050003</td>\n",
       "      <td>10</td>\n",
       "      <td>9.5300</td>\n",
       "      <td>86.279999</td>\n",
       "      <td>29.870001</td>\n",
       "      <td>35.169998</td>\n",
       "      <td>74.870003</td>\n",
       "      <td>13.93</td>\n",
       "      <td>69.820000</td>\n",
       "      <td>35.459999</td>\n",
       "      <td>110.400002</td>\n",
       "    </tr>\n",
       "    <tr>\n",
       "      <th>10/04/2018</th>\n",
       "      <td>7124</td>\n",
       "      <td>173.250000</td>\n",
       "      <td>10</td>\n",
       "      <td>9.9800</td>\n",
       "      <td>86.449997</td>\n",
       "      <td>30.480000</td>\n",
       "      <td>35.810001</td>\n",
       "      <td>77.070000</td>\n",
       "      <td>14.78</td>\n",
       "      <td>71.720001</td>\n",
       "      <td>35.950001</td>\n",
       "      <td>112.510002</td>\n",
       "    </tr>\n",
       "    <tr>\n",
       "      <th>11/04/2018</th>\n",
       "      <td>7125</td>\n",
       "      <td>172.440002</td>\n",
       "      <td>10</td>\n",
       "      <td>9.8200</td>\n",
       "      <td>85.910004</td>\n",
       "      <td>29.900000</td>\n",
       "      <td>35.250000</td>\n",
       "      <td>77.430000</td>\n",
       "      <td>14.99</td>\n",
       "      <td>70.910004</td>\n",
       "      <td>35.790001</td>\n",
       "      <td>110.620003</td>\n",
       "    </tr>\n",
       "  </tbody>\n",
       "</table>\n",
       "<p>7125 rows × 12 columns</p>\n",
       "</div>"
      ],
      "text/plain": [
       "            index        AAPL  GE      AMD        WMT        BAC          T  \\\n",
       "date                                                                          \n",
       "02/01/1990      1    0.123853  10   4.1250   3.660858   1.766686   2.398184   \n",
       "03/01/1990      2    0.124684  10   4.0000   3.660858   1.780897   2.356516   \n",
       "04/01/1990      3    0.125100  10   3.9375   3.641439   1.743005   2.403821   \n",
       "05/01/1990      4    0.125516  10   3.8125   3.602595   1.705114   2.287973   \n",
       "08/01/1990      5    0.126347  10   3.8125   3.651146   1.714586   2.326588   \n",
       "...           ...         ...  ..      ...        ...        ...        ...   \n",
       "05/04/2018   7121  172.800003  10  10.0200  87.809998  30.320000  35.632843   \n",
       "06/04/2018   7122  168.380005  10   9.6100  86.690002  29.629999  35.130001   \n",
       "09/04/2018   7123  170.050003  10   9.5300  86.279999  29.870001  35.169998   \n",
       "10/04/2018   7124  173.250000  10   9.9800  86.449997  30.480000  35.810001   \n",
       "11/04/2018   7125  172.440002  10   9.8200  85.910004  29.900000  35.250000   \n",
       "\n",
       "                  XOM    RRC        BBY        PFE         JPM  \n",
       "date                                                            \n",
       "02/01/1990   1.766756    NaN   0.173216   0.113209    1.835617  \n",
       "03/01/1990   1.749088    NaN   0.194001   0.113608    1.896803  \n",
       "04/01/1990   1.731422    NaN   0.190537   0.115402    1.904452  \n",
       "05/01/1990   1.722587    NaN   0.190537   0.114405    1.912100  \n",
       "08/01/1990   1.749088    NaN   0.176680   0.113409    1.912100  \n",
       "...               ...    ...        ...        ...         ...  \n",
       "05/04/2018  76.019997  14.52  72.120003  35.730000  111.879997  \n",
       "06/04/2018  74.870003  13.97  70.489998  35.169998  109.089996  \n",
       "09/04/2018  74.870003  13.93  69.820000  35.459999  110.400002  \n",
       "10/04/2018  77.070000  14.78  71.720001  35.950001  112.510002  \n",
       "11/04/2018  77.430000  14.99  70.910004  35.790001  110.620003  \n",
       "\n",
       "[7125 rows x 12 columns]"
      ]
     },
     "execution_count": 93,
     "metadata": {},
     "output_type": "execute_result"
    }
   ],
   "source": [
    "price_df.drop(\"29/12/1989\", axis=0, inplace=True)\n",
    "price_df"
   ]
  },
  {
   "cell_type": "markdown",
   "id": "9ad967a9",
   "metadata": {},
   "source": [
    "# Summary statitics"
   ]
  },
  {
   "cell_type": "code",
   "execution_count": 94,
   "id": "ae1270f8",
   "metadata": {},
   "outputs": [
    {
     "name": "stdout",
     "output_type": "stream",
     "text": [
      "<class 'pandas.core.frame.DataFrame'>\n",
      "Index: 7125 entries, 02/01/1990 to 11/04/2018\n",
      "Data columns (total 12 columns):\n",
      " #   Column  Non-Null Count  Dtype  \n",
      "---  ------  --------------  -----  \n",
      " 0   index   7125 non-null   int64  \n",
      " 1   AAPL    7125 non-null   float64\n",
      " 2   GE      7125 non-null   int64  \n",
      " 3   AMD     7125 non-null   float64\n",
      " 4   WMT     7125 non-null   float64\n",
      " 5   BAC     7125 non-null   float64\n",
      " 6   T       7125 non-null   float64\n",
      " 7   XOM     7125 non-null   float64\n",
      " 8   RRC     6369 non-null   float64\n",
      " 9   BBY     7125 non-null   float64\n",
      " 10  PFE     7125 non-null   float64\n",
      " 11  JPM     7125 non-null   float64\n",
      "dtypes: float64(10), int64(2)\n",
      "memory usage: 723.6+ KB\n"
     ]
    }
   ],
   "source": [
    "# basic information about this dataset\n",
    "price_df.info()"
   ]
  },
  {
   "cell_type": "code",
   "execution_count": 95,
   "id": "beaf0e7a",
   "metadata": {},
   "outputs": [
    {
     "data": {
      "text/html": [
       "<div>\n",
       "<style scoped>\n",
       "    .dataframe tbody tr th:only-of-type {\n",
       "        vertical-align: middle;\n",
       "    }\n",
       "\n",
       "    .dataframe tbody tr th {\n",
       "        vertical-align: top;\n",
       "    }\n",
       "\n",
       "    .dataframe thead th {\n",
       "        text-align: right;\n",
       "    }\n",
       "</style>\n",
       "<table border=\"1\" class=\"dataframe\">\n",
       "  <thead>\n",
       "    <tr style=\"text-align: right;\">\n",
       "      <th></th>\n",
       "      <th>index</th>\n",
       "      <th>AAPL</th>\n",
       "      <th>GE</th>\n",
       "      <th>AMD</th>\n",
       "      <th>WMT</th>\n",
       "      <th>BAC</th>\n",
       "      <th>T</th>\n",
       "      <th>XOM</th>\n",
       "      <th>RRC</th>\n",
       "      <th>BBY</th>\n",
       "      <th>PFE</th>\n",
       "      <th>JPM</th>\n",
       "    </tr>\n",
       "  </thead>\n",
       "  <tbody>\n",
       "    <tr>\n",
       "      <th>count</th>\n",
       "      <td>7125.000000</td>\n",
       "      <td>7125.000000</td>\n",
       "      <td>7125.0</td>\n",
       "      <td>7125.000000</td>\n",
       "      <td>7125.000000</td>\n",
       "      <td>7125.000000</td>\n",
       "      <td>7125.000000</td>\n",
       "      <td>7125.000000</td>\n",
       "      <td>6369.000000</td>\n",
       "      <td>7125.000000</td>\n",
       "      <td>7125.000000</td>\n",
       "      <td>7125.000000</td>\n",
       "    </tr>\n",
       "    <tr>\n",
       "      <th>mean</th>\n",
       "      <td>3563.000000</td>\n",
       "      <td>25.838923</td>\n",
       "      <td>10.0</td>\n",
       "      <td>10.909611</td>\n",
       "      <td>36.469251</td>\n",
       "      <td>16.169484</td>\n",
       "      <td>16.926006</td>\n",
       "      <td>39.009728</td>\n",
       "      <td>26.038311</td>\n",
       "      <td>20.213561</td>\n",
       "      <td>15.503454</td>\n",
       "      <td>29.163220</td>\n",
       "    </tr>\n",
       "    <tr>\n",
       "      <th>std</th>\n",
       "      <td>2056.954666</td>\n",
       "      <td>42.541936</td>\n",
       "      <td>0.0</td>\n",
       "      <td>7.631888</td>\n",
       "      <td>22.408508</td>\n",
       "      <td>11.167985</td>\n",
       "      <td>9.427666</td>\n",
       "      <td>28.162444</td>\n",
       "      <td>24.405236</td>\n",
       "      <td>15.610296</td>\n",
       "      <td>9.789697</td>\n",
       "      <td>21.856090</td>\n",
       "    </tr>\n",
       "    <tr>\n",
       "      <th>min</th>\n",
       "      <td>1.000000</td>\n",
       "      <td>0.107644</td>\n",
       "      <td>10.0</td>\n",
       "      <td>1.620000</td>\n",
       "      <td>3.155911</td>\n",
       "      <td>0.721589</td>\n",
       "      <td>2.008010</td>\n",
       "      <td>1.625416</td>\n",
       "      <td>0.913313</td>\n",
       "      <td>0.128179</td>\n",
       "      <td>0.108027</td>\n",
       "      <td>0.791709</td>\n",
       "    </tr>\n",
       "    <tr>\n",
       "      <th>25%</th>\n",
       "      <td>1782.000000</td>\n",
       "      <td>0.656648</td>\n",
       "      <td>10.0</td>\n",
       "      <td>5.410000</td>\n",
       "      <td>10.295706</td>\n",
       "      <td>7.292258</td>\n",
       "      <td>9.826900</td>\n",
       "      <td>13.167114</td>\n",
       "      <td>4.465834</td>\n",
       "      <td>2.385178</td>\n",
       "      <td>7.244440</td>\n",
       "      <td>14.123809</td>\n",
       "    </tr>\n",
       "    <tr>\n",
       "      <th>50%</th>\n",
       "      <td>3563.000000</td>\n",
       "      <td>2.336104</td>\n",
       "      <td>10.0</td>\n",
       "      <td>9.030000</td>\n",
       "      <td>38.257290</td>\n",
       "      <td>14.434036</td>\n",
       "      <td>16.397787</td>\n",
       "      <td>29.182777</td>\n",
       "      <td>15.909173</td>\n",
       "      <td>21.844555</td>\n",
       "      <td>16.114000</td>\n",
       "      <td>27.486666</td>\n",
       "    </tr>\n",
       "    <tr>\n",
       "      <th>75%</th>\n",
       "      <td>5344.000000</td>\n",
       "      <td>32.695065</td>\n",
       "      <td>10.0</td>\n",
       "      <td>14.375000</td>\n",
       "      <td>45.560230</td>\n",
       "      <td>22.449715</td>\n",
       "      <td>22.344540</td>\n",
       "      <td>66.503586</td>\n",
       "      <td>43.347126</td>\n",
       "      <td>31.353951</td>\n",
       "      <td>22.328646</td>\n",
       "      <td>35.967487</td>\n",
       "    </tr>\n",
       "    <tr>\n",
       "      <th>max</th>\n",
       "      <td>7125.000000</td>\n",
       "      <td>181.720001</td>\n",
       "      <td>10.0</td>\n",
       "      <td>47.500000</td>\n",
       "      <td>108.900742</td>\n",
       "      <td>44.578407</td>\n",
       "      <td>39.945129</td>\n",
       "      <td>91.645515</td>\n",
       "      <td>92.447586</td>\n",
       "      <td>77.558472</td>\n",
       "      <td>38.661823</td>\n",
       "      <td>118.170746</td>\n",
       "    </tr>\n",
       "  </tbody>\n",
       "</table>\n",
       "</div>"
      ],
      "text/plain": [
       "             index         AAPL      GE          AMD          WMT  \\\n",
       "count  7125.000000  7125.000000  7125.0  7125.000000  7125.000000   \n",
       "mean   3563.000000    25.838923    10.0    10.909611    36.469251   \n",
       "std    2056.954666    42.541936     0.0     7.631888    22.408508   \n",
       "min       1.000000     0.107644    10.0     1.620000     3.155911   \n",
       "25%    1782.000000     0.656648    10.0     5.410000    10.295706   \n",
       "50%    3563.000000     2.336104    10.0     9.030000    38.257290   \n",
       "75%    5344.000000    32.695065    10.0    14.375000    45.560230   \n",
       "max    7125.000000   181.720001    10.0    47.500000   108.900742   \n",
       "\n",
       "               BAC            T          XOM          RRC          BBY  \\\n",
       "count  7125.000000  7125.000000  7125.000000  6369.000000  7125.000000   \n",
       "mean     16.169484    16.926006    39.009728    26.038311    20.213561   \n",
       "std      11.167985     9.427666    28.162444    24.405236    15.610296   \n",
       "min       0.721589     2.008010     1.625416     0.913313     0.128179   \n",
       "25%       7.292258     9.826900    13.167114     4.465834     2.385178   \n",
       "50%      14.434036    16.397787    29.182777    15.909173    21.844555   \n",
       "75%      22.449715    22.344540    66.503586    43.347126    31.353951   \n",
       "max      44.578407    39.945129    91.645515    92.447586    77.558472   \n",
       "\n",
       "               PFE          JPM  \n",
       "count  7125.000000  7125.000000  \n",
       "mean     15.503454    29.163220  \n",
       "std       9.789697    21.856090  \n",
       "min       0.108027     0.791709  \n",
       "25%       7.244440    14.123809  \n",
       "50%      16.114000    27.486666  \n",
       "75%      22.328646    35.967487  \n",
       "max      38.661823   118.170746  "
      ]
     },
     "execution_count": 95,
     "metadata": {},
     "output_type": "execute_result"
    }
   ],
   "source": [
    "# summary statistics\n",
    "price_df.describe()"
   ]
  },
  {
   "cell_type": "code",
   "execution_count": 97,
   "id": "949b4841",
   "metadata": {},
   "outputs": [
    {
     "data": {
      "text/html": [
       "<div>\n",
       "<style scoped>\n",
       "    .dataframe tbody tr th:only-of-type {\n",
       "        vertical-align: middle;\n",
       "    }\n",
       "\n",
       "    .dataframe tbody tr th {\n",
       "        vertical-align: top;\n",
       "    }\n",
       "\n",
       "    .dataframe thead th {\n",
       "        text-align: right;\n",
       "    }\n",
       "</style>\n",
       "<table border=\"1\" class=\"dataframe\">\n",
       "  <thead>\n",
       "    <tr style=\"text-align: right;\">\n",
       "      <th></th>\n",
       "      <th>index</th>\n",
       "      <th>AAPL</th>\n",
       "      <th>GE</th>\n",
       "      <th>AMD</th>\n",
       "      <th>WMT</th>\n",
       "      <th>BAC</th>\n",
       "      <th>T</th>\n",
       "      <th>XOM</th>\n",
       "      <th>RRC</th>\n",
       "      <th>BBY</th>\n",
       "      <th>PFE</th>\n",
       "      <th>JPM</th>\n",
       "    </tr>\n",
       "  </thead>\n",
       "  <tbody>\n",
       "    <tr>\n",
       "      <th>count</th>\n",
       "      <td>7125.000</td>\n",
       "      <td>7125.000</td>\n",
       "      <td>7125.0</td>\n",
       "      <td>7125.000</td>\n",
       "      <td>7125.000</td>\n",
       "      <td>7125.000</td>\n",
       "      <td>7125.000</td>\n",
       "      <td>7125.000</td>\n",
       "      <td>6369.000</td>\n",
       "      <td>7125.000</td>\n",
       "      <td>7125.000</td>\n",
       "      <td>7125.000</td>\n",
       "    </tr>\n",
       "    <tr>\n",
       "      <th>mean</th>\n",
       "      <td>3563.000</td>\n",
       "      <td>25.839</td>\n",
       "      <td>10.0</td>\n",
       "      <td>10.910</td>\n",
       "      <td>36.469</td>\n",
       "      <td>16.169</td>\n",
       "      <td>16.926</td>\n",
       "      <td>39.010</td>\n",
       "      <td>26.038</td>\n",
       "      <td>20.214</td>\n",
       "      <td>15.503</td>\n",
       "      <td>29.163</td>\n",
       "    </tr>\n",
       "    <tr>\n",
       "      <th>std</th>\n",
       "      <td>2056.955</td>\n",
       "      <td>42.542</td>\n",
       "      <td>0.0</td>\n",
       "      <td>7.632</td>\n",
       "      <td>22.409</td>\n",
       "      <td>11.168</td>\n",
       "      <td>9.428</td>\n",
       "      <td>28.162</td>\n",
       "      <td>24.405</td>\n",
       "      <td>15.610</td>\n",
       "      <td>9.790</td>\n",
       "      <td>21.856</td>\n",
       "    </tr>\n",
       "    <tr>\n",
       "      <th>min</th>\n",
       "      <td>1.000</td>\n",
       "      <td>0.108</td>\n",
       "      <td>10.0</td>\n",
       "      <td>1.620</td>\n",
       "      <td>3.156</td>\n",
       "      <td>0.722</td>\n",
       "      <td>2.008</td>\n",
       "      <td>1.625</td>\n",
       "      <td>0.913</td>\n",
       "      <td>0.128</td>\n",
       "      <td>0.108</td>\n",
       "      <td>0.792</td>\n",
       "    </tr>\n",
       "    <tr>\n",
       "      <th>25%</th>\n",
       "      <td>1782.000</td>\n",
       "      <td>0.657</td>\n",
       "      <td>10.0</td>\n",
       "      <td>5.410</td>\n",
       "      <td>10.296</td>\n",
       "      <td>7.292</td>\n",
       "      <td>9.827</td>\n",
       "      <td>13.167</td>\n",
       "      <td>4.466</td>\n",
       "      <td>2.385</td>\n",
       "      <td>7.244</td>\n",
       "      <td>14.124</td>\n",
       "    </tr>\n",
       "    <tr>\n",
       "      <th>50%</th>\n",
       "      <td>3563.000</td>\n",
       "      <td>2.336</td>\n",
       "      <td>10.0</td>\n",
       "      <td>9.030</td>\n",
       "      <td>38.257</td>\n",
       "      <td>14.434</td>\n",
       "      <td>16.398</td>\n",
       "      <td>29.183</td>\n",
       "      <td>15.909</td>\n",
       "      <td>21.845</td>\n",
       "      <td>16.114</td>\n",
       "      <td>27.487</td>\n",
       "    </tr>\n",
       "    <tr>\n",
       "      <th>75%</th>\n",
       "      <td>5344.000</td>\n",
       "      <td>32.695</td>\n",
       "      <td>10.0</td>\n",
       "      <td>14.375</td>\n",
       "      <td>45.560</td>\n",
       "      <td>22.450</td>\n",
       "      <td>22.345</td>\n",
       "      <td>66.504</td>\n",
       "      <td>43.347</td>\n",
       "      <td>31.354</td>\n",
       "      <td>22.329</td>\n",
       "      <td>35.967</td>\n",
       "    </tr>\n",
       "    <tr>\n",
       "      <th>max</th>\n",
       "      <td>7125.000</td>\n",
       "      <td>181.720</td>\n",
       "      <td>10.0</td>\n",
       "      <td>47.500</td>\n",
       "      <td>108.901</td>\n",
       "      <td>44.578</td>\n",
       "      <td>39.945</td>\n",
       "      <td>91.646</td>\n",
       "      <td>92.448</td>\n",
       "      <td>77.558</td>\n",
       "      <td>38.662</td>\n",
       "      <td>118.171</td>\n",
       "    </tr>\n",
       "  </tbody>\n",
       "</table>\n",
       "</div>"
      ],
      "text/plain": [
       "          index      AAPL      GE       AMD       WMT       BAC         T  \\\n",
       "count  7125.000  7125.000  7125.0  7125.000  7125.000  7125.000  7125.000   \n",
       "mean   3563.000    25.839    10.0    10.910    36.469    16.169    16.926   \n",
       "std    2056.955    42.542     0.0     7.632    22.409    11.168     9.428   \n",
       "min       1.000     0.108    10.0     1.620     3.156     0.722     2.008   \n",
       "25%    1782.000     0.657    10.0     5.410    10.296     7.292     9.827   \n",
       "50%    3563.000     2.336    10.0     9.030    38.257    14.434    16.398   \n",
       "75%    5344.000    32.695    10.0    14.375    45.560    22.450    22.345   \n",
       "max    7125.000   181.720    10.0    47.500   108.901    44.578    39.945   \n",
       "\n",
       "            XOM       RRC       BBY       PFE       JPM  \n",
       "count  7125.000  6369.000  7125.000  7125.000  7125.000  \n",
       "mean     39.010    26.038    20.214    15.503    29.163  \n",
       "std      28.162    24.405    15.610     9.790    21.856  \n",
       "min       1.625     0.913     0.128     0.108     0.792  \n",
       "25%      13.167     4.466     2.385     7.244    14.124  \n",
       "50%      29.183    15.909    21.845    16.114    27.487  \n",
       "75%      66.504    43.347    31.354    22.329    35.967  \n",
       "max      91.646    92.448    77.558    38.662   118.171  "
      ]
     },
     "execution_count": 97,
     "metadata": {},
     "output_type": "execute_result"
    }
   ],
   "source": [
    "# keep 3 decimal places\n",
    "price_df.describe().round(3)"
   ]
  },
  {
   "cell_type": "code",
   "execution_count": 98,
   "id": "724c3f54",
   "metadata": {},
   "outputs": [
    {
     "data": {
      "text/plain": [
       "count    7125.000000\n",
       "mean       25.838923\n",
       "std        42.541936\n",
       "min         0.107644\n",
       "25%         0.656648\n",
       "50%         2.336104\n",
       "75%        32.695065\n",
       "max       181.720001\n",
       "Name: AAPL, dtype: float64"
      ]
     },
     "execution_count": 98,
     "metadata": {},
     "output_type": "execute_result"
    }
   ],
   "source": [
    "price_df[\"AAPL\"].describe()"
   ]
  },
  {
   "cell_type": "code",
   "execution_count": null,
   "id": "320b2479",
   "metadata": {
    "scrolled": true
   },
   "outputs": [],
   "source": [
    "price_df[\"AAPL\"].mean()"
   ]
  },
  {
   "cell_type": "code",
   "execution_count": null,
   "id": "003da506",
   "metadata": {},
   "outputs": [],
   "source": [
    "price_df[\"AAPL\"].std()"
   ]
  },
  {
   "cell_type": "code",
   "execution_count": 96,
   "id": "08abbc85",
   "metadata": {},
   "outputs": [
    {
     "data": {
      "text/plain": [
       "2.336104"
      ]
     },
     "execution_count": 96,
     "metadata": {},
     "output_type": "execute_result"
    }
   ],
   "source": [
    "price_df[\"AAPL\"].median()"
   ]
  },
  {
   "cell_type": "code",
   "execution_count": 99,
   "id": "28bc30d0",
   "metadata": {},
   "outputs": [
    {
     "data": {
      "text/plain": [
       "array([1.23853000e-01, 1.24684000e-01, 1.25100000e-01, ...,\n",
       "       1.70050003e+02, 1.73250000e+02, 1.72440002e+02])"
      ]
     },
     "execution_count": 99,
     "metadata": {},
     "output_type": "execute_result"
    }
   ],
   "source": [
    "# To see a list of unique values we can use the unique() function\n",
    "price_df[\"AAPL\"].unique()"
   ]
  },
  {
   "cell_type": "code",
   "execution_count": 100,
   "id": "23bf1037",
   "metadata": {},
   "outputs": [
    {
     "data": {
      "text/plain": [
       "5656"
      ]
     },
     "execution_count": 100,
     "metadata": {},
     "output_type": "execute_result"
    }
   ],
   "source": [
    "len(price_df[\"AAPL\"].unique())"
   ]
  },
  {
   "cell_type": "code",
   "execution_count": 101,
   "id": "22abd310",
   "metadata": {},
   "outputs": [
    {
     "data": {
      "text/plain": [
       "False"
      ]
     },
     "execution_count": 101,
     "metadata": {},
     "output_type": "execute_result"
    }
   ],
   "source": [
    "# to check if all values in this column are unique\n",
    "len(price_df[\"AAPL\"].unique()) == len(price_df[\"AAPL\"])"
   ]
  },
  {
   "cell_type": "code",
   "execution_count": 102,
   "id": "5e87e847",
   "metadata": {
    "scrolled": true
   },
   "outputs": [
    {
     "data": {
      "text/plain": [
       "0.401943     13\n",
       "0.411009     10\n",
       "0.423098      8\n",
       "0.604425      8\n",
       "0.398921      8\n",
       "             ..\n",
       "26.127619     1\n",
       "11.574990     1\n",
       "5.566516      1\n",
       "36.791618     1\n",
       "17.927746     1\n",
       "Name: AAPL, Length: 5656, dtype: int64"
      ]
     },
     "execution_count": 102,
     "metadata": {},
     "output_type": "execute_result"
    }
   ],
   "source": [
    "# to see a list of unique values and how often they occur in this column\n",
    "price_df[\"AAPL\"].value_counts()"
   ]
  },
  {
   "cell_type": "code",
   "execution_count": 103,
   "id": "a85ba3f7",
   "metadata": {},
   "outputs": [
    {
     "data": {
      "text/html": [
       "<div>\n",
       "<style scoped>\n",
       "    .dataframe tbody tr th:only-of-type {\n",
       "        vertical-align: middle;\n",
       "    }\n",
       "\n",
       "    .dataframe tbody tr th {\n",
       "        vertical-align: top;\n",
       "    }\n",
       "\n",
       "    .dataframe thead th {\n",
       "        text-align: right;\n",
       "    }\n",
       "</style>\n",
       "<table border=\"1\" class=\"dataframe\">\n",
       "  <thead>\n",
       "    <tr style=\"text-align: right;\">\n",
       "      <th></th>\n",
       "      <th>index</th>\n",
       "      <th>AAPL</th>\n",
       "      <th>GE</th>\n",
       "      <th>AMD</th>\n",
       "      <th>WMT</th>\n",
       "      <th>BAC</th>\n",
       "      <th>T</th>\n",
       "      <th>XOM</th>\n",
       "      <th>RRC</th>\n",
       "      <th>BBY</th>\n",
       "      <th>PFE</th>\n",
       "      <th>JPM</th>\n",
       "    </tr>\n",
       "    <tr>\n",
       "      <th>date</th>\n",
       "      <th></th>\n",
       "      <th></th>\n",
       "      <th></th>\n",
       "      <th></th>\n",
       "      <th></th>\n",
       "      <th></th>\n",
       "      <th></th>\n",
       "      <th></th>\n",
       "      <th></th>\n",
       "      <th></th>\n",
       "      <th></th>\n",
       "      <th></th>\n",
       "    </tr>\n",
       "  </thead>\n",
       "  <tbody>\n",
       "    <tr>\n",
       "      <th>02/01/1990</th>\n",
       "      <td>NaN</td>\n",
       "      <td>NaN</td>\n",
       "      <td>NaN</td>\n",
       "      <td>NaN</td>\n",
       "      <td>NaN</td>\n",
       "      <td>NaN</td>\n",
       "      <td>NaN</td>\n",
       "      <td>NaN</td>\n",
       "      <td>NaN</td>\n",
       "      <td>NaN</td>\n",
       "      <td>NaN</td>\n",
       "      <td>NaN</td>\n",
       "    </tr>\n",
       "    <tr>\n",
       "      <th>03/01/1990</th>\n",
       "      <td>1.000000</td>\n",
       "      <td>0.006710</td>\n",
       "      <td>0.0</td>\n",
       "      <td>-0.030303</td>\n",
       "      <td>0.000000</td>\n",
       "      <td>0.008044</td>\n",
       "      <td>-0.017375</td>\n",
       "      <td>-0.010000</td>\n",
       "      <td>NaN</td>\n",
       "      <td>0.119995</td>\n",
       "      <td>0.003524</td>\n",
       "      <td>0.033333</td>\n",
       "    </tr>\n",
       "    <tr>\n",
       "      <th>04/01/1990</th>\n",
       "      <td>0.500000</td>\n",
       "      <td>0.003336</td>\n",
       "      <td>0.0</td>\n",
       "      <td>-0.015625</td>\n",
       "      <td>-0.005304</td>\n",
       "      <td>-0.021277</td>\n",
       "      <td>0.020074</td>\n",
       "      <td>-0.010100</td>\n",
       "      <td>NaN</td>\n",
       "      <td>-0.017856</td>\n",
       "      <td>0.015791</td>\n",
       "      <td>0.004033</td>\n",
       "    </tr>\n",
       "    <tr>\n",
       "      <th>05/01/1990</th>\n",
       "      <td>0.333333</td>\n",
       "      <td>0.003325</td>\n",
       "      <td>0.0</td>\n",
       "      <td>-0.031746</td>\n",
       "      <td>-0.010667</td>\n",
       "      <td>-0.021739</td>\n",
       "      <td>-0.048193</td>\n",
       "      <td>-0.005103</td>\n",
       "      <td>NaN</td>\n",
       "      <td>0.000000</td>\n",
       "      <td>-0.008639</td>\n",
       "      <td>0.004016</td>\n",
       "    </tr>\n",
       "    <tr>\n",
       "      <th>08/01/1990</th>\n",
       "      <td>0.250000</td>\n",
       "      <td>0.006621</td>\n",
       "      <td>0.0</td>\n",
       "      <td>0.000000</td>\n",
       "      <td>0.013477</td>\n",
       "      <td>0.005555</td>\n",
       "      <td>0.016877</td>\n",
       "      <td>0.015384</td>\n",
       "      <td>NaN</td>\n",
       "      <td>-0.072726</td>\n",
       "      <td>-0.008706</td>\n",
       "      <td>0.000000</td>\n",
       "    </tr>\n",
       "    <tr>\n",
       "      <th>...</th>\n",
       "      <td>...</td>\n",
       "      <td>...</td>\n",
       "      <td>...</td>\n",
       "      <td>...</td>\n",
       "      <td>...</td>\n",
       "      <td>...</td>\n",
       "      <td>...</td>\n",
       "      <td>...</td>\n",
       "      <td>...</td>\n",
       "      <td>...</td>\n",
       "      <td>...</td>\n",
       "      <td>...</td>\n",
       "    </tr>\n",
       "    <tr>\n",
       "      <th>05/04/2018</th>\n",
       "      <td>0.000140</td>\n",
       "      <td>0.006934</td>\n",
       "      <td>0.0</td>\n",
       "      <td>0.025589</td>\n",
       "      <td>0.006764</td>\n",
       "      <td>0.014726</td>\n",
       "      <td>0.007246</td>\n",
       "      <td>0.015360</td>\n",
       "      <td>0.053701</td>\n",
       "      <td>-0.010156</td>\n",
       "      <td>-0.011071</td>\n",
       "      <td>0.013130</td>\n",
       "    </tr>\n",
       "    <tr>\n",
       "      <th>06/04/2018</th>\n",
       "      <td>0.000140</td>\n",
       "      <td>-0.025579</td>\n",
       "      <td>0.0</td>\n",
       "      <td>-0.040918</td>\n",
       "      <td>-0.012755</td>\n",
       "      <td>-0.022757</td>\n",
       "      <td>-0.014112</td>\n",
       "      <td>-0.015128</td>\n",
       "      <td>-0.037879</td>\n",
       "      <td>-0.022601</td>\n",
       "      <td>-0.015673</td>\n",
       "      <td>-0.024937</td>\n",
       "    </tr>\n",
       "    <tr>\n",
       "      <th>09/04/2018</th>\n",
       "      <td>0.000140</td>\n",
       "      <td>0.009918</td>\n",
       "      <td>0.0</td>\n",
       "      <td>-0.008325</td>\n",
       "      <td>-0.004730</td>\n",
       "      <td>0.008100</td>\n",
       "      <td>0.001139</td>\n",
       "      <td>0.000000</td>\n",
       "      <td>-0.002863</td>\n",
       "      <td>-0.009505</td>\n",
       "      <td>0.008246</td>\n",
       "      <td>0.012008</td>\n",
       "    </tr>\n",
       "    <tr>\n",
       "      <th>10/04/2018</th>\n",
       "      <td>0.000140</td>\n",
       "      <td>0.018818</td>\n",
       "      <td>0.0</td>\n",
       "      <td>0.047219</td>\n",
       "      <td>0.001970</td>\n",
       "      <td>0.020422</td>\n",
       "      <td>0.018197</td>\n",
       "      <td>0.029384</td>\n",
       "      <td>0.061019</td>\n",
       "      <td>0.027213</td>\n",
       "      <td>0.013818</td>\n",
       "      <td>0.019112</td>\n",
       "    </tr>\n",
       "    <tr>\n",
       "      <th>11/04/2018</th>\n",
       "      <td>0.000140</td>\n",
       "      <td>-0.004675</td>\n",
       "      <td>0.0</td>\n",
       "      <td>-0.016032</td>\n",
       "      <td>-0.006246</td>\n",
       "      <td>-0.019029</td>\n",
       "      <td>-0.015638</td>\n",
       "      <td>0.004671</td>\n",
       "      <td>0.014208</td>\n",
       "      <td>-0.011294</td>\n",
       "      <td>-0.004451</td>\n",
       "      <td>-0.016798</td>\n",
       "    </tr>\n",
       "  </tbody>\n",
       "</table>\n",
       "<p>7125 rows × 12 columns</p>\n",
       "</div>"
      ],
      "text/plain": [
       "               index      AAPL   GE       AMD       WMT       BAC         T  \\\n",
       "date                                                                          \n",
       "02/01/1990       NaN       NaN  NaN       NaN       NaN       NaN       NaN   \n",
       "03/01/1990  1.000000  0.006710  0.0 -0.030303  0.000000  0.008044 -0.017375   \n",
       "04/01/1990  0.500000  0.003336  0.0 -0.015625 -0.005304 -0.021277  0.020074   \n",
       "05/01/1990  0.333333  0.003325  0.0 -0.031746 -0.010667 -0.021739 -0.048193   \n",
       "08/01/1990  0.250000  0.006621  0.0  0.000000  0.013477  0.005555  0.016877   \n",
       "...              ...       ...  ...       ...       ...       ...       ...   \n",
       "05/04/2018  0.000140  0.006934  0.0  0.025589  0.006764  0.014726  0.007246   \n",
       "06/04/2018  0.000140 -0.025579  0.0 -0.040918 -0.012755 -0.022757 -0.014112   \n",
       "09/04/2018  0.000140  0.009918  0.0 -0.008325 -0.004730  0.008100  0.001139   \n",
       "10/04/2018  0.000140  0.018818  0.0  0.047219  0.001970  0.020422  0.018197   \n",
       "11/04/2018  0.000140 -0.004675  0.0 -0.016032 -0.006246 -0.019029 -0.015638   \n",
       "\n",
       "                 XOM       RRC       BBY       PFE       JPM  \n",
       "date                                                          \n",
       "02/01/1990       NaN       NaN       NaN       NaN       NaN  \n",
       "03/01/1990 -0.010000       NaN  0.119995  0.003524  0.033333  \n",
       "04/01/1990 -0.010100       NaN -0.017856  0.015791  0.004033  \n",
       "05/01/1990 -0.005103       NaN  0.000000 -0.008639  0.004016  \n",
       "08/01/1990  0.015384       NaN -0.072726 -0.008706  0.000000  \n",
       "...              ...       ...       ...       ...       ...  \n",
       "05/04/2018  0.015360  0.053701 -0.010156 -0.011071  0.013130  \n",
       "06/04/2018 -0.015128 -0.037879 -0.022601 -0.015673 -0.024937  \n",
       "09/04/2018  0.000000 -0.002863 -0.009505  0.008246  0.012008  \n",
       "10/04/2018  0.029384  0.061019  0.027213  0.013818  0.019112  \n",
       "11/04/2018  0.004671  0.014208 -0.011294 -0.004451 -0.016798  \n",
       "\n",
       "[7125 rows x 12 columns]"
      ]
     },
     "execution_count": 103,
     "metadata": {},
     "output_type": "execute_result"
    }
   ],
   "source": [
    "# to see the asset returns\n",
    "return_df = price_df.pct_change()\n",
    "return_df"
   ]
  },
  {
   "cell_type": "code",
   "execution_count": 104,
   "id": "7570c2a8",
   "metadata": {},
   "outputs": [
    {
     "data": {
      "text/plain": [
       "index    3563.000000\n",
       "AAPL       25.838923\n",
       "GE         10.000000\n",
       "AMD        10.909611\n",
       "WMT        36.469251\n",
       "BAC        16.169484\n",
       "T          16.926006\n",
       "XOM        39.009728\n",
       "RRC        26.038311\n",
       "BBY        20.213561\n",
       "PFE        15.503454\n",
       "JPM        29.163220\n",
       "dtype: float64"
      ]
     },
     "execution_count": 104,
     "metadata": {},
     "output_type": "execute_result"
    }
   ],
   "source": [
    "# You can also use NumPy for df objects\n",
    "np.mean(price_df)"
   ]
  },
  {
   "cell_type": "code",
   "execution_count": 105,
   "id": "86767301",
   "metadata": {},
   "outputs": [
    {
     "data": {
      "text/html": [
       "<div>\n",
       "<style scoped>\n",
       "    .dataframe tbody tr th:only-of-type {\n",
       "        vertical-align: middle;\n",
       "    }\n",
       "\n",
       "    .dataframe tbody tr th {\n",
       "        vertical-align: top;\n",
       "    }\n",
       "\n",
       "    .dataframe thead th {\n",
       "        text-align: right;\n",
       "    }\n",
       "</style>\n",
       "<table border=\"1\" class=\"dataframe\">\n",
       "  <thead>\n",
       "    <tr style=\"text-align: right;\">\n",
       "      <th></th>\n",
       "      <th>index</th>\n",
       "      <th>AAPL</th>\n",
       "      <th>GE</th>\n",
       "      <th>AMD</th>\n",
       "      <th>WMT</th>\n",
       "      <th>BAC</th>\n",
       "      <th>T</th>\n",
       "      <th>XOM</th>\n",
       "      <th>RRC</th>\n",
       "      <th>BBY</th>\n",
       "      <th>PFE</th>\n",
       "      <th>JPM</th>\n",
       "    </tr>\n",
       "    <tr>\n",
       "      <th>date</th>\n",
       "      <th></th>\n",
       "      <th></th>\n",
       "      <th></th>\n",
       "      <th></th>\n",
       "      <th></th>\n",
       "      <th></th>\n",
       "      <th></th>\n",
       "      <th></th>\n",
       "      <th></th>\n",
       "      <th></th>\n",
       "      <th></th>\n",
       "      <th></th>\n",
       "    </tr>\n",
       "  </thead>\n",
       "  <tbody>\n",
       "    <tr>\n",
       "      <th>02/01/1990</th>\n",
       "      <td>0.000000</td>\n",
       "      <td>-2.088660</td>\n",
       "      <td>2.302585</td>\n",
       "      <td>1.417066</td>\n",
       "      <td>1.297698</td>\n",
       "      <td>0.569105</td>\n",
       "      <td>0.874712</td>\n",
       "      <td>0.569145</td>\n",
       "      <td>NaN</td>\n",
       "      <td>-1.753216</td>\n",
       "      <td>-2.178520</td>\n",
       "      <td>0.607381</td>\n",
       "    </tr>\n",
       "    <tr>\n",
       "      <th>03/01/1990</th>\n",
       "      <td>0.693147</td>\n",
       "      <td>-2.081973</td>\n",
       "      <td>2.302585</td>\n",
       "      <td>1.386294</td>\n",
       "      <td>1.297698</td>\n",
       "      <td>0.577117</td>\n",
       "      <td>0.857184</td>\n",
       "      <td>0.559095</td>\n",
       "      <td>NaN</td>\n",
       "      <td>-1.639892</td>\n",
       "      <td>-2.175001</td>\n",
       "      <td>0.640170</td>\n",
       "    </tr>\n",
       "    <tr>\n",
       "      <th>04/01/1990</th>\n",
       "      <td>1.098612</td>\n",
       "      <td>-2.078642</td>\n",
       "      <td>2.302585</td>\n",
       "      <td>1.370546</td>\n",
       "      <td>1.292379</td>\n",
       "      <td>0.555611</td>\n",
       "      <td>0.877060</td>\n",
       "      <td>0.548943</td>\n",
       "      <td>NaN</td>\n",
       "      <td>-1.657909</td>\n",
       "      <td>-2.159334</td>\n",
       "      <td>0.644194</td>\n",
       "    </tr>\n",
       "    <tr>\n",
       "      <th>05/01/1990</th>\n",
       "      <td>1.386294</td>\n",
       "      <td>-2.075322</td>\n",
       "      <td>2.302585</td>\n",
       "      <td>1.338285</td>\n",
       "      <td>1.281654</td>\n",
       "      <td>0.533632</td>\n",
       "      <td>0.827666</td>\n",
       "      <td>0.543827</td>\n",
       "      <td>NaN</td>\n",
       "      <td>-1.657909</td>\n",
       "      <td>-2.168010</td>\n",
       "      <td>0.648202</td>\n",
       "    </tr>\n",
       "    <tr>\n",
       "      <th>08/01/1990</th>\n",
       "      <td>1.609438</td>\n",
       "      <td>-2.068723</td>\n",
       "      <td>2.302585</td>\n",
       "      <td>1.338285</td>\n",
       "      <td>1.295041</td>\n",
       "      <td>0.539172</td>\n",
       "      <td>0.844403</td>\n",
       "      <td>0.559095</td>\n",
       "      <td>NaN</td>\n",
       "      <td>-1.733415</td>\n",
       "      <td>-2.176755</td>\n",
       "      <td>0.648202</td>\n",
       "    </tr>\n",
       "    <tr>\n",
       "      <th>...</th>\n",
       "      <td>...</td>\n",
       "      <td>...</td>\n",
       "      <td>...</td>\n",
       "      <td>...</td>\n",
       "      <td>...</td>\n",
       "      <td>...</td>\n",
       "      <td>...</td>\n",
       "      <td>...</td>\n",
       "      <td>...</td>\n",
       "      <td>...</td>\n",
       "      <td>...</td>\n",
       "      <td>...</td>\n",
       "    </tr>\n",
       "    <tr>\n",
       "      <th>05/04/2018</th>\n",
       "      <td>8.870803</td>\n",
       "      <td>5.152135</td>\n",
       "      <td>2.302585</td>\n",
       "      <td>2.304583</td>\n",
       "      <td>4.475175</td>\n",
       "      <td>3.411808</td>\n",
       "      <td>3.573268</td>\n",
       "      <td>4.330996</td>\n",
       "      <td>2.675527</td>\n",
       "      <td>4.278331</td>\n",
       "      <td>3.575991</td>\n",
       "      <td>4.717427</td>\n",
       "    </tr>\n",
       "    <tr>\n",
       "      <th>06/04/2018</th>\n",
       "      <td>8.870944</td>\n",
       "      <td>5.126223</td>\n",
       "      <td>2.302585</td>\n",
       "      <td>2.262804</td>\n",
       "      <td>4.462339</td>\n",
       "      <td>3.388787</td>\n",
       "      <td>3.559055</td>\n",
       "      <td>4.315753</td>\n",
       "      <td>2.636912</td>\n",
       "      <td>4.255471</td>\n",
       "      <td>3.560193</td>\n",
       "      <td>4.692173</td>\n",
       "    </tr>\n",
       "    <tr>\n",
       "      <th>09/04/2018</th>\n",
       "      <td>8.871084</td>\n",
       "      <td>5.136093</td>\n",
       "      <td>2.302585</td>\n",
       "      <td>2.254445</td>\n",
       "      <td>4.457598</td>\n",
       "      <td>3.396855</td>\n",
       "      <td>3.560193</td>\n",
       "      <td>4.315753</td>\n",
       "      <td>2.634045</td>\n",
       "      <td>4.245921</td>\n",
       "      <td>3.568405</td>\n",
       "      <td>4.704110</td>\n",
       "    </tr>\n",
       "    <tr>\n",
       "      <th>10/04/2018</th>\n",
       "      <td>8.871225</td>\n",
       "      <td>5.154736</td>\n",
       "      <td>2.302585</td>\n",
       "      <td>2.300583</td>\n",
       "      <td>4.459566</td>\n",
       "      <td>3.417071</td>\n",
       "      <td>3.578227</td>\n",
       "      <td>4.344714</td>\n",
       "      <td>2.693275</td>\n",
       "      <td>4.272770</td>\n",
       "      <td>3.582129</td>\n",
       "      <td>4.723042</td>\n",
       "    </tr>\n",
       "    <tr>\n",
       "      <th>11/04/2018</th>\n",
       "      <td>8.871365</td>\n",
       "      <td>5.150049</td>\n",
       "      <td>2.302585</td>\n",
       "      <td>2.284421</td>\n",
       "      <td>4.453300</td>\n",
       "      <td>3.397858</td>\n",
       "      <td>3.562466</td>\n",
       "      <td>4.349374</td>\n",
       "      <td>2.707383</td>\n",
       "      <td>4.261412</td>\n",
       "      <td>3.577669</td>\n",
       "      <td>4.706101</td>\n",
       "    </tr>\n",
       "  </tbody>\n",
       "</table>\n",
       "<p>7125 rows × 12 columns</p>\n",
       "</div>"
      ],
      "text/plain": [
       "               index      AAPL        GE       AMD       WMT       BAC  \\\n",
       "date                                                                     \n",
       "02/01/1990  0.000000 -2.088660  2.302585  1.417066  1.297698  0.569105   \n",
       "03/01/1990  0.693147 -2.081973  2.302585  1.386294  1.297698  0.577117   \n",
       "04/01/1990  1.098612 -2.078642  2.302585  1.370546  1.292379  0.555611   \n",
       "05/01/1990  1.386294 -2.075322  2.302585  1.338285  1.281654  0.533632   \n",
       "08/01/1990  1.609438 -2.068723  2.302585  1.338285  1.295041  0.539172   \n",
       "...              ...       ...       ...       ...       ...       ...   \n",
       "05/04/2018  8.870803  5.152135  2.302585  2.304583  4.475175  3.411808   \n",
       "06/04/2018  8.870944  5.126223  2.302585  2.262804  4.462339  3.388787   \n",
       "09/04/2018  8.871084  5.136093  2.302585  2.254445  4.457598  3.396855   \n",
       "10/04/2018  8.871225  5.154736  2.302585  2.300583  4.459566  3.417071   \n",
       "11/04/2018  8.871365  5.150049  2.302585  2.284421  4.453300  3.397858   \n",
       "\n",
       "                   T       XOM       RRC       BBY       PFE       JPM  \n",
       "date                                                                    \n",
       "02/01/1990  0.874712  0.569145       NaN -1.753216 -2.178520  0.607381  \n",
       "03/01/1990  0.857184  0.559095       NaN -1.639892 -2.175001  0.640170  \n",
       "04/01/1990  0.877060  0.548943       NaN -1.657909 -2.159334  0.644194  \n",
       "05/01/1990  0.827666  0.543827       NaN -1.657909 -2.168010  0.648202  \n",
       "08/01/1990  0.844403  0.559095       NaN -1.733415 -2.176755  0.648202  \n",
       "...              ...       ...       ...       ...       ...       ...  \n",
       "05/04/2018  3.573268  4.330996  2.675527  4.278331  3.575991  4.717427  \n",
       "06/04/2018  3.559055  4.315753  2.636912  4.255471  3.560193  4.692173  \n",
       "09/04/2018  3.560193  4.315753  2.634045  4.245921  3.568405  4.704110  \n",
       "10/04/2018  3.578227  4.344714  2.693275  4.272770  3.582129  4.723042  \n",
       "11/04/2018  3.562466  4.349374  2.707383  4.261412  3.577669  4.706101  \n",
       "\n",
       "[7125 rows x 12 columns]"
      ]
     },
     "execution_count": 105,
     "metadata": {},
     "output_type": "execute_result"
    }
   ],
   "source": [
    "np.log(price_df)"
   ]
  },
  {
   "cell_type": "code",
   "execution_count": 106,
   "id": "1067f7ef",
   "metadata": {},
   "outputs": [
    {
     "data": {
      "text/html": [
       "<div>\n",
       "<style scoped>\n",
       "    .dataframe tbody tr th:only-of-type {\n",
       "        vertical-align: middle;\n",
       "    }\n",
       "\n",
       "    .dataframe tbody tr th {\n",
       "        vertical-align: top;\n",
       "    }\n",
       "\n",
       "    .dataframe thead th {\n",
       "        text-align: right;\n",
       "    }\n",
       "</style>\n",
       "<table border=\"1\" class=\"dataframe\">\n",
       "  <thead>\n",
       "    <tr style=\"text-align: right;\">\n",
       "      <th></th>\n",
       "      <th>index</th>\n",
       "      <th>AAPL</th>\n",
       "      <th>GE</th>\n",
       "      <th>AMD</th>\n",
       "      <th>WMT</th>\n",
       "      <th>BAC</th>\n",
       "      <th>T</th>\n",
       "      <th>XOM</th>\n",
       "      <th>RRC</th>\n",
       "      <th>BBY</th>\n",
       "      <th>PFE</th>\n",
       "      <th>JPM</th>\n",
       "    </tr>\n",
       "    <tr>\n",
       "      <th>date</th>\n",
       "      <th></th>\n",
       "      <th></th>\n",
       "      <th></th>\n",
       "      <th></th>\n",
       "      <th></th>\n",
       "      <th></th>\n",
       "      <th></th>\n",
       "      <th></th>\n",
       "      <th></th>\n",
       "      <th></th>\n",
       "      <th></th>\n",
       "      <th></th>\n",
       "    </tr>\n",
       "  </thead>\n",
       "  <tbody>\n",
       "    <tr>\n",
       "      <th>02/01/1990</th>\n",
       "      <td>1.000000</td>\n",
       "      <td>0.351928</td>\n",
       "      <td>3.162278</td>\n",
       "      <td>2.031010</td>\n",
       "      <td>1.913337</td>\n",
       "      <td>1.329167</td>\n",
       "      <td>1.548607</td>\n",
       "      <td>1.329194</td>\n",
       "      <td>NaN</td>\n",
       "      <td>0.416192</td>\n",
       "      <td>0.336465</td>\n",
       "      <td>1.354849</td>\n",
       "    </tr>\n",
       "    <tr>\n",
       "      <th>03/01/1990</th>\n",
       "      <td>1.414214</td>\n",
       "      <td>0.353106</td>\n",
       "      <td>3.162278</td>\n",
       "      <td>2.000000</td>\n",
       "      <td>1.913337</td>\n",
       "      <td>1.334503</td>\n",
       "      <td>1.535095</td>\n",
       "      <td>1.322531</td>\n",
       "      <td>NaN</td>\n",
       "      <td>0.440455</td>\n",
       "      <td>0.337058</td>\n",
       "      <td>1.377245</td>\n",
       "    </tr>\n",
       "    <tr>\n",
       "      <th>04/01/1990</th>\n",
       "      <td>1.732051</td>\n",
       "      <td>0.353695</td>\n",
       "      <td>3.162278</td>\n",
       "      <td>1.984313</td>\n",
       "      <td>1.908255</td>\n",
       "      <td>1.320229</td>\n",
       "      <td>1.550426</td>\n",
       "      <td>1.315835</td>\n",
       "      <td>NaN</td>\n",
       "      <td>0.436505</td>\n",
       "      <td>0.339709</td>\n",
       "      <td>1.380019</td>\n",
       "    </tr>\n",
       "    <tr>\n",
       "      <th>05/01/1990</th>\n",
       "      <td>2.000000</td>\n",
       "      <td>0.354282</td>\n",
       "      <td>3.162278</td>\n",
       "      <td>1.952562</td>\n",
       "      <td>1.898050</td>\n",
       "      <td>1.305800</td>\n",
       "      <td>1.512605</td>\n",
       "      <td>1.312474</td>\n",
       "      <td>NaN</td>\n",
       "      <td>0.436505</td>\n",
       "      <td>0.338238</td>\n",
       "      <td>1.382787</td>\n",
       "    </tr>\n",
       "    <tr>\n",
       "      <th>08/01/1990</th>\n",
       "      <td>2.236068</td>\n",
       "      <td>0.355453</td>\n",
       "      <td>3.162278</td>\n",
       "      <td>1.952562</td>\n",
       "      <td>1.910797</td>\n",
       "      <td>1.309422</td>\n",
       "      <td>1.525316</td>\n",
       "      <td>1.322531</td>\n",
       "      <td>NaN</td>\n",
       "      <td>0.420333</td>\n",
       "      <td>0.336763</td>\n",
       "      <td>1.382787</td>\n",
       "    </tr>\n",
       "    <tr>\n",
       "      <th>...</th>\n",
       "      <td>...</td>\n",
       "      <td>...</td>\n",
       "      <td>...</td>\n",
       "      <td>...</td>\n",
       "      <td>...</td>\n",
       "      <td>...</td>\n",
       "      <td>...</td>\n",
       "      <td>...</td>\n",
       "      <td>...</td>\n",
       "      <td>...</td>\n",
       "      <td>...</td>\n",
       "      <td>...</td>\n",
       "    </tr>\n",
       "    <tr>\n",
       "      <th>05/04/2018</th>\n",
       "      <td>84.386018</td>\n",
       "      <td>13.145341</td>\n",
       "      <td>3.162278</td>\n",
       "      <td>3.165438</td>\n",
       "      <td>9.370699</td>\n",
       "      <td>5.506360</td>\n",
       "      <td>5.969325</td>\n",
       "      <td>8.718945</td>\n",
       "      <td>3.810512</td>\n",
       "      <td>8.492350</td>\n",
       "      <td>5.977458</td>\n",
       "      <td>10.577334</td>\n",
       "    </tr>\n",
       "    <tr>\n",
       "      <th>06/04/2018</th>\n",
       "      <td>84.391943</td>\n",
       "      <td>12.976132</td>\n",
       "      <td>3.162278</td>\n",
       "      <td>3.100000</td>\n",
       "      <td>9.310747</td>\n",
       "      <td>5.443344</td>\n",
       "      <td>5.927057</td>\n",
       "      <td>8.652745</td>\n",
       "      <td>3.737646</td>\n",
       "      <td>8.395832</td>\n",
       "      <td>5.930430</td>\n",
       "      <td>10.444616</td>\n",
       "    </tr>\n",
       "    <tr>\n",
       "      <th>09/04/2018</th>\n",
       "      <td>84.397867</td>\n",
       "      <td>13.040322</td>\n",
       "      <td>3.162278</td>\n",
       "      <td>3.087070</td>\n",
       "      <td>9.288703</td>\n",
       "      <td>5.465345</td>\n",
       "      <td>5.930430</td>\n",
       "      <td>8.652745</td>\n",
       "      <td>3.732292</td>\n",
       "      <td>8.355836</td>\n",
       "      <td>5.954830</td>\n",
       "      <td>10.507141</td>\n",
       "    </tr>\n",
       "    <tr>\n",
       "      <th>10/04/2018</th>\n",
       "      <td>84.403791</td>\n",
       "      <td>13.162447</td>\n",
       "      <td>3.162278</td>\n",
       "      <td>3.159114</td>\n",
       "      <td>9.297849</td>\n",
       "      <td>5.520869</td>\n",
       "      <td>5.984146</td>\n",
       "      <td>8.778952</td>\n",
       "      <td>3.844477</td>\n",
       "      <td>8.468766</td>\n",
       "      <td>5.995832</td>\n",
       "      <td>10.607073</td>\n",
       "    </tr>\n",
       "    <tr>\n",
       "      <th>11/04/2018</th>\n",
       "      <td>84.409715</td>\n",
       "      <td>13.131641</td>\n",
       "      <td>3.162278</td>\n",
       "      <td>3.133688</td>\n",
       "      <td>9.268765</td>\n",
       "      <td>5.468089</td>\n",
       "      <td>5.937171</td>\n",
       "      <td>8.799432</td>\n",
       "      <td>3.871692</td>\n",
       "      <td>8.420808</td>\n",
       "      <td>5.982474</td>\n",
       "      <td>10.517604</td>\n",
       "    </tr>\n",
       "  </tbody>\n",
       "</table>\n",
       "<p>7125 rows × 12 columns</p>\n",
       "</div>"
      ],
      "text/plain": [
       "                index       AAPL        GE       AMD       WMT       BAC  \\\n",
       "date                                                                       \n",
       "02/01/1990   1.000000   0.351928  3.162278  2.031010  1.913337  1.329167   \n",
       "03/01/1990   1.414214   0.353106  3.162278  2.000000  1.913337  1.334503   \n",
       "04/01/1990   1.732051   0.353695  3.162278  1.984313  1.908255  1.320229   \n",
       "05/01/1990   2.000000   0.354282  3.162278  1.952562  1.898050  1.305800   \n",
       "08/01/1990   2.236068   0.355453  3.162278  1.952562  1.910797  1.309422   \n",
       "...               ...        ...       ...       ...       ...       ...   \n",
       "05/04/2018  84.386018  13.145341  3.162278  3.165438  9.370699  5.506360   \n",
       "06/04/2018  84.391943  12.976132  3.162278  3.100000  9.310747  5.443344   \n",
       "09/04/2018  84.397867  13.040322  3.162278  3.087070  9.288703  5.465345   \n",
       "10/04/2018  84.403791  13.162447  3.162278  3.159114  9.297849  5.520869   \n",
       "11/04/2018  84.409715  13.131641  3.162278  3.133688  9.268765  5.468089   \n",
       "\n",
       "                   T       XOM       RRC       BBY       PFE        JPM  \n",
       "date                                                                     \n",
       "02/01/1990  1.548607  1.329194       NaN  0.416192  0.336465   1.354849  \n",
       "03/01/1990  1.535095  1.322531       NaN  0.440455  0.337058   1.377245  \n",
       "04/01/1990  1.550426  1.315835       NaN  0.436505  0.339709   1.380019  \n",
       "05/01/1990  1.512605  1.312474       NaN  0.436505  0.338238   1.382787  \n",
       "08/01/1990  1.525316  1.322531       NaN  0.420333  0.336763   1.382787  \n",
       "...              ...       ...       ...       ...       ...        ...  \n",
       "05/04/2018  5.969325  8.718945  3.810512  8.492350  5.977458  10.577334  \n",
       "06/04/2018  5.927057  8.652745  3.737646  8.395832  5.930430  10.444616  \n",
       "09/04/2018  5.930430  8.652745  3.732292  8.355836  5.954830  10.507141  \n",
       "10/04/2018  5.984146  8.778952  3.844477  8.468766  5.995832  10.607073  \n",
       "11/04/2018  5.937171  8.799432  3.871692  8.420808  5.982474  10.517604  \n",
       "\n",
       "[7125 rows x 12 columns]"
      ]
     },
     "execution_count": 106,
     "metadata": {},
     "output_type": "execute_result"
    }
   ],
   "source": [
    "np.sqrt(abs(price_df))"
   ]
  },
  {
   "cell_type": "code",
   "execution_count": 107,
   "id": "901e8c1b",
   "metadata": {},
   "outputs": [
    {
     "data": {
      "text/plain": [
       "index    400988.144098\n",
       "AAPL      25152.281419\n",
       "GE        22531.228329\n",
       "AMD       22246.206671\n",
       "WMT       40508.631583\n",
       "BAC       26725.515405\n",
       "T         28002.262477\n",
       "XOM       40645.367580\n",
       "RRC       28517.162657\n",
       "BBY       28378.948824\n",
       "PFE       25818.256234\n",
       "JPM       35490.132355\n",
       "dtype: float64"
      ]
     },
     "execution_count": 107,
     "metadata": {},
     "output_type": "execute_result"
    }
   ],
   "source": [
    "np.sqrt(abs(price_df)).sum()"
   ]
  },
  {
   "cell_type": "code",
   "execution_count": 110,
   "id": "a7dc0e22",
   "metadata": {},
   "outputs": [],
   "source": [
    "price_df.drop(\"index\", axis=1, inplace=True)"
   ]
  },
  {
   "cell_type": "code",
   "execution_count": 111,
   "id": "fcdc3dd4",
   "metadata": {},
   "outputs": [
    {
     "data": {
      "text/html": [
       "<div>\n",
       "<style scoped>\n",
       "    .dataframe tbody tr th:only-of-type {\n",
       "        vertical-align: middle;\n",
       "    }\n",
       "\n",
       "    .dataframe tbody tr th {\n",
       "        vertical-align: top;\n",
       "    }\n",
       "\n",
       "    .dataframe thead th {\n",
       "        text-align: right;\n",
       "    }\n",
       "</style>\n",
       "<table border=\"1\" class=\"dataframe\">\n",
       "  <thead>\n",
       "    <tr style=\"text-align: right;\">\n",
       "      <th></th>\n",
       "      <th>AAPL</th>\n",
       "      <th>GE</th>\n",
       "      <th>AMD</th>\n",
       "      <th>WMT</th>\n",
       "      <th>BAC</th>\n",
       "      <th>T</th>\n",
       "      <th>XOM</th>\n",
       "      <th>RRC</th>\n",
       "      <th>BBY</th>\n",
       "      <th>PFE</th>\n",
       "      <th>JPM</th>\n",
       "    </tr>\n",
       "    <tr>\n",
       "      <th>date</th>\n",
       "      <th></th>\n",
       "      <th></th>\n",
       "      <th></th>\n",
       "      <th></th>\n",
       "      <th></th>\n",
       "      <th></th>\n",
       "      <th></th>\n",
       "      <th></th>\n",
       "      <th></th>\n",
       "      <th></th>\n",
       "      <th></th>\n",
       "    </tr>\n",
       "  </thead>\n",
       "  <tbody>\n",
       "    <tr>\n",
       "      <th>02/01/1990</th>\n",
       "      <td>0.123853</td>\n",
       "      <td>10</td>\n",
       "      <td>4.1250</td>\n",
       "      <td>3.660858</td>\n",
       "      <td>1.766686</td>\n",
       "      <td>2.398184</td>\n",
       "      <td>1.766756</td>\n",
       "      <td>NaN</td>\n",
       "      <td>0.173216</td>\n",
       "      <td>0.113209</td>\n",
       "      <td>1.835617</td>\n",
       "    </tr>\n",
       "    <tr>\n",
       "      <th>03/01/1990</th>\n",
       "      <td>0.124684</td>\n",
       "      <td>10</td>\n",
       "      <td>4.0000</td>\n",
       "      <td>3.660858</td>\n",
       "      <td>1.780897</td>\n",
       "      <td>2.356516</td>\n",
       "      <td>1.749088</td>\n",
       "      <td>NaN</td>\n",
       "      <td>0.194001</td>\n",
       "      <td>0.113608</td>\n",
       "      <td>1.896803</td>\n",
       "    </tr>\n",
       "    <tr>\n",
       "      <th>04/01/1990</th>\n",
       "      <td>0.125100</td>\n",
       "      <td>10</td>\n",
       "      <td>3.9375</td>\n",
       "      <td>3.641439</td>\n",
       "      <td>1.743005</td>\n",
       "      <td>2.403821</td>\n",
       "      <td>1.731422</td>\n",
       "      <td>NaN</td>\n",
       "      <td>0.190537</td>\n",
       "      <td>0.115402</td>\n",
       "      <td>1.904452</td>\n",
       "    </tr>\n",
       "    <tr>\n",
       "      <th>05/01/1990</th>\n",
       "      <td>0.125516</td>\n",
       "      <td>10</td>\n",
       "      <td>3.8125</td>\n",
       "      <td>3.602595</td>\n",
       "      <td>1.705114</td>\n",
       "      <td>2.287973</td>\n",
       "      <td>1.722587</td>\n",
       "      <td>NaN</td>\n",
       "      <td>0.190537</td>\n",
       "      <td>0.114405</td>\n",
       "      <td>1.912100</td>\n",
       "    </tr>\n",
       "    <tr>\n",
       "      <th>08/01/1990</th>\n",
       "      <td>0.126347</td>\n",
       "      <td>10</td>\n",
       "      <td>3.8125</td>\n",
       "      <td>3.651146</td>\n",
       "      <td>1.714586</td>\n",
       "      <td>2.326588</td>\n",
       "      <td>1.749088</td>\n",
       "      <td>NaN</td>\n",
       "      <td>0.176680</td>\n",
       "      <td>0.113409</td>\n",
       "      <td>1.912100</td>\n",
       "    </tr>\n",
       "    <tr>\n",
       "      <th>...</th>\n",
       "      <td>...</td>\n",
       "      <td>...</td>\n",
       "      <td>...</td>\n",
       "      <td>...</td>\n",
       "      <td>...</td>\n",
       "      <td>...</td>\n",
       "      <td>...</td>\n",
       "      <td>...</td>\n",
       "      <td>...</td>\n",
       "      <td>...</td>\n",
       "      <td>...</td>\n",
       "    </tr>\n",
       "    <tr>\n",
       "      <th>05/04/2018</th>\n",
       "      <td>172.800003</td>\n",
       "      <td>10</td>\n",
       "      <td>10.0200</td>\n",
       "      <td>87.809998</td>\n",
       "      <td>30.320000</td>\n",
       "      <td>35.632843</td>\n",
       "      <td>76.019997</td>\n",
       "      <td>14.52</td>\n",
       "      <td>72.120003</td>\n",
       "      <td>35.730000</td>\n",
       "      <td>111.879997</td>\n",
       "    </tr>\n",
       "    <tr>\n",
       "      <th>06/04/2018</th>\n",
       "      <td>168.380005</td>\n",
       "      <td>10</td>\n",
       "      <td>9.6100</td>\n",
       "      <td>86.690002</td>\n",
       "      <td>29.629999</td>\n",
       "      <td>35.130001</td>\n",
       "      <td>74.870003</td>\n",
       "      <td>13.97</td>\n",
       "      <td>70.489998</td>\n",
       "      <td>35.169998</td>\n",
       "      <td>109.089996</td>\n",
       "    </tr>\n",
       "    <tr>\n",
       "      <th>09/04/2018</th>\n",
       "      <td>170.050003</td>\n",
       "      <td>10</td>\n",
       "      <td>9.5300</td>\n",
       "      <td>86.279999</td>\n",
       "      <td>29.870001</td>\n",
       "      <td>35.169998</td>\n",
       "      <td>74.870003</td>\n",
       "      <td>13.93</td>\n",
       "      <td>69.820000</td>\n",
       "      <td>35.459999</td>\n",
       "      <td>110.400002</td>\n",
       "    </tr>\n",
       "    <tr>\n",
       "      <th>10/04/2018</th>\n",
       "      <td>173.250000</td>\n",
       "      <td>10</td>\n",
       "      <td>9.9800</td>\n",
       "      <td>86.449997</td>\n",
       "      <td>30.480000</td>\n",
       "      <td>35.810001</td>\n",
       "      <td>77.070000</td>\n",
       "      <td>14.78</td>\n",
       "      <td>71.720001</td>\n",
       "      <td>35.950001</td>\n",
       "      <td>112.510002</td>\n",
       "    </tr>\n",
       "    <tr>\n",
       "      <th>11/04/2018</th>\n",
       "      <td>172.440002</td>\n",
       "      <td>10</td>\n",
       "      <td>9.8200</td>\n",
       "      <td>85.910004</td>\n",
       "      <td>29.900000</td>\n",
       "      <td>35.250000</td>\n",
       "      <td>77.430000</td>\n",
       "      <td>14.99</td>\n",
       "      <td>70.910004</td>\n",
       "      <td>35.790001</td>\n",
       "      <td>110.620003</td>\n",
       "    </tr>\n",
       "  </tbody>\n",
       "</table>\n",
       "<p>7125 rows × 11 columns</p>\n",
       "</div>"
      ],
      "text/plain": [
       "                  AAPL  GE      AMD        WMT        BAC          T  \\\n",
       "date                                                                   \n",
       "02/01/1990    0.123853  10   4.1250   3.660858   1.766686   2.398184   \n",
       "03/01/1990    0.124684  10   4.0000   3.660858   1.780897   2.356516   \n",
       "04/01/1990    0.125100  10   3.9375   3.641439   1.743005   2.403821   \n",
       "05/01/1990    0.125516  10   3.8125   3.602595   1.705114   2.287973   \n",
       "08/01/1990    0.126347  10   3.8125   3.651146   1.714586   2.326588   \n",
       "...                ...  ..      ...        ...        ...        ...   \n",
       "05/04/2018  172.800003  10  10.0200  87.809998  30.320000  35.632843   \n",
       "06/04/2018  168.380005  10   9.6100  86.690002  29.629999  35.130001   \n",
       "09/04/2018  170.050003  10   9.5300  86.279999  29.870001  35.169998   \n",
       "10/04/2018  173.250000  10   9.9800  86.449997  30.480000  35.810001   \n",
       "11/04/2018  172.440002  10   9.8200  85.910004  29.900000  35.250000   \n",
       "\n",
       "                  XOM    RRC        BBY        PFE         JPM  \n",
       "date                                                            \n",
       "02/01/1990   1.766756    NaN   0.173216   0.113209    1.835617  \n",
       "03/01/1990   1.749088    NaN   0.194001   0.113608    1.896803  \n",
       "04/01/1990   1.731422    NaN   0.190537   0.115402    1.904452  \n",
       "05/01/1990   1.722587    NaN   0.190537   0.114405    1.912100  \n",
       "08/01/1990   1.749088    NaN   0.176680   0.113409    1.912100  \n",
       "...               ...    ...        ...        ...         ...  \n",
       "05/04/2018  76.019997  14.52  72.120003  35.730000  111.879997  \n",
       "06/04/2018  74.870003  13.97  70.489998  35.169998  109.089996  \n",
       "09/04/2018  74.870003  13.93  69.820000  35.459999  110.400002  \n",
       "10/04/2018  77.070000  14.78  71.720001  35.950001  112.510002  \n",
       "11/04/2018  77.430000  14.99  70.910004  35.790001  110.620003  \n",
       "\n",
       "[7125 rows x 11 columns]"
      ]
     },
     "execution_count": 111,
     "metadata": {},
     "output_type": "execute_result"
    }
   ],
   "source": [
    "price_df"
   ]
  },
  {
   "cell_type": "code",
   "execution_count": 112,
   "id": "b2a1dc9f",
   "metadata": {},
   "outputs": [
    {
     "data": {
      "image/png": "[encoded data removed]",
      "text/plain": [
       "<Figure size 432x288 with 1 Axes>"
      ]
     },
     "metadata": {
      "needs_background": "light"
     },
     "output_type": "display_data"
    }
   ],
   "source": [
    "# basic visualization\n",
    "import matplotlib.pyplot as plt\n",
    "price_df.plot()\n",
    "plt.show()"
   ]
  },
  {
   "cell_type": "code",
   "execution_count": 113,
   "id": "c9749141",
   "metadata": {},
   "outputs": [
    {
     "data": {
      "image/png": "[encoded data removed]",
      "text/plain": [
       "<Figure size 432x288 with 1 Axes>"
      ]
     },
     "metadata": {
      "needs_background": "light"
     },
     "output_type": "display_data"
    }
   ],
   "source": [
    "return_df.plot()\n",
    "plt.show()"
   ]
  },
  {
   "cell_type": "markdown",
   "id": "ecc1b251",
   "metadata": {},
   "source": [
    "# Exercise for Pandas:\n",
    "\n",
    "1. Use this dataset called \"spy_prices.csv\" in the data folder. Then, import it as a Pandas dataframe called \"stocks_df\" and take the mean, median and standard deviation of the spy prices.\n",
    "\n",
    "2. Print each on a new line with the word: 'Mean', 'Median' and 'Std. Dev.' right about each."
   ]
  },
  {
   "cell_type": "code",
   "execution_count": 122,
   "id": "e5090386",
   "metadata": {},
   "outputs": [
    {
     "data": {
      "text/html": [
       "<div>\n",
       "<style scoped>\n",
       "    .dataframe tbody tr th:only-of-type {\n",
       "        vertical-align: middle;\n",
       "    }\n",
       "\n",
       "    .dataframe tbody tr th {\n",
       "        vertical-align: top;\n",
       "    }\n",
       "\n",
       "    .dataframe thead th {\n",
       "        text-align: right;\n",
       "    }\n",
       "</style>\n",
       "<table border=\"1\" class=\"dataframe\">\n",
       "  <thead>\n",
       "    <tr style=\"text-align: right;\">\n",
       "      <th></th>\n",
       "      <th>date</th>\n",
       "      <th>SPY</th>\n",
       "    </tr>\n",
       "  </thead>\n",
       "  <tbody>\n",
       "    <tr>\n",
       "      <th>0</th>\n",
       "      <td>1993-01-29</td>\n",
       "      <td>26.583992</td>\n",
       "    </tr>\n",
       "    <tr>\n",
       "      <th>1</th>\n",
       "      <td>1993-02-01</td>\n",
       "      <td>26.773048</td>\n",
       "    </tr>\n",
       "    <tr>\n",
       "      <th>2</th>\n",
       "      <td>1993-02-02</td>\n",
       "      <td>26.829773</td>\n",
       "    </tr>\n",
       "    <tr>\n",
       "      <th>3</th>\n",
       "      <td>1993-02-03</td>\n",
       "      <td>27.113388</td>\n",
       "    </tr>\n",
       "    <tr>\n",
       "      <th>4</th>\n",
       "      <td>1993-02-04</td>\n",
       "      <td>27.226835</td>\n",
       "    </tr>\n",
       "    <tr>\n",
       "      <th>...</th>\n",
       "      <td>...</td>\n",
       "      <td>...</td>\n",
       "    </tr>\n",
       "    <tr>\n",
       "      <th>6760</th>\n",
       "      <td>2019-12-03</td>\n",
       "      <td>309.549988</td>\n",
       "    </tr>\n",
       "    <tr>\n",
       "      <th>6761</th>\n",
       "      <td>2019-12-04</td>\n",
       "      <td>311.459991</td>\n",
       "    </tr>\n",
       "    <tr>\n",
       "      <th>6762</th>\n",
       "      <td>2019-12-05</td>\n",
       "      <td>312.019989</td>\n",
       "    </tr>\n",
       "    <tr>\n",
       "      <th>6763</th>\n",
       "      <td>2019-12-06</td>\n",
       "      <td>314.869995</td>\n",
       "    </tr>\n",
       "    <tr>\n",
       "      <th>6764</th>\n",
       "      <td>2019-12-09</td>\n",
       "      <td>313.880005</td>\n",
       "    </tr>\n",
       "  </tbody>\n",
       "</table>\n",
       "<p>6765 rows × 2 columns</p>\n",
       "</div>"
      ],
      "text/plain": [
       "            date         SPY\n",
       "0     1993-01-29   26.583992\n",
       "1     1993-02-01   26.773048\n",
       "2     1993-02-02   26.829773\n",
       "3     1993-02-03   27.113388\n",
       "4     1993-02-04   27.226835\n",
       "...          ...         ...\n",
       "6760  2019-12-03  309.549988\n",
       "6761  2019-12-04  311.459991\n",
       "6762  2019-12-05  312.019989\n",
       "6763  2019-12-06  314.869995\n",
       "6764  2019-12-09  313.880005\n",
       "\n",
       "[6765 rows x 2 columns]"
      ]
     },
     "execution_count": 122,
     "metadata": {},
     "output_type": "execute_result"
    }
   ],
   "source": [
    "#solutions:\n",
    "stocks_df = pd.read_csv(\"spy_prices.csv\")\n",
    "stocks_df"
   ]
  },
  {
   "cell_type": "code",
   "execution_count": 123,
   "id": "1d167afb",
   "metadata": {},
   "outputs": [
    {
     "name": "stdout",
     "output_type": "stream",
     "text": [
      "113.15118225631963\n",
      "94.037285\n",
      "67.87631218403725\n"
     ]
    }
   ],
   "source": [
    "print(stocks_df.SPY.mean())\n",
    "print(stocks_df.SPY.median())\n",
    "print(stocks_df.SPY.std())"
   ]
  }
 ],
 "metadata": {
  "kernelspec": {
   "display_name": "Python 3",
   "language": "python",
   "name": "python3"
  },
  "language_info": {
   "codemirror_mode": {
    "name": "ipython",
    "version": 3
   },
   "file_extension": ".py",
   "mimetype": "text/x-python",
   "name": "python",
   "nbconvert_exporter": "python",
   "pygments_lexer": "ipython3",
   "version": "3.8.8"
  }
 },
 "nbformat": 4,
 "nbformat_minor": 5
}
