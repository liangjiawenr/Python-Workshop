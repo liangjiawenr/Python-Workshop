{
 "cells": [
  {
   "cell_type": "markdown",
   "id": "219fe781",
   "metadata": {},
   "source": [
    "### This notebook is written by Jiawen Liang for the AccFin PhD workshop: Python for Data Analysis in Nov 2022. Please do not circulate without permission."
   ]
  },
  {
   "cell_type": "markdown",
   "id": "dee29a2b",
   "metadata": {},
   "source": [
    "# Session 3: Data analysis\n",
    "\n",
    "## NumPy\n",
    "- NumPy basics\n",
    "- Numerical computing\n",
    "\n",
    "## Pandas\n",
    "- Pandas basics\n",
    "- Data analysis\n",
    "\n",
    "Note: NumPy and Pandas is included in the Anaconda Python"
   ]
  },
  {
   "cell_type": "markdown",
   "id": "fb661f47",
   "metadata": {},
   "source": [
    "# Numpy\n",
    "- a package library for Python\n",
    "- support large, multi-dimensional arrays and matrices\n",
    "- mathematical functions"
   ]
  },
  {
   "cell_type": "markdown",
   "id": "cc581379",
   "metadata": {},
   "source": [
    "## Array\n",
    "- array: a very important data structures\n",
    "- one-dimensional array: a vector of real numbers. single row\n",
    "- N-dimensional array (N>1): matrix of elements"
   ]
  },
  {
   "cell_type": "code",
   "execution_count": 1,
   "id": "c944c3a8",
   "metadata": {},
   "outputs": [],
   "source": [
    "# one-dimentsion array\n",
    "v = [1,2,3,4,5,2.4,2.4,34.2]"
   ]
  },
  {
   "cell_type": "code",
   "execution_count": 2,
   "id": "8a5cf2ef",
   "metadata": {},
   "outputs": [
    {
     "data": {
      "text/plain": [
       "[[1, 2, 3, 4, 5, 2.4, 2.4, 34.2],\n",
       " [1, 2, 3, 4, 5, 2.4, 2.4, 34.2],\n",
       " [1, 2, 3, 4, 5, 2.4, 2.4, 34.2]]"
      ]
     },
     "execution_count": 2,
     "metadata": {},
     "output_type": "execute_result"
    }
   ],
   "source": [
    "# N-dimensional array\n",
    "m = [v, v, v]\n",
    "m"
   ]
  },
  {
   "cell_type": "code",
   "execution_count": 3,
   "id": "cfb4fc50",
   "metadata": {},
   "outputs": [
    {
     "data": {
      "text/plain": [
       "[1, 2, 3, 4, 5, 2.4, 2.4, 34.2]"
      ]
     },
     "execution_count": 3,
     "metadata": {},
     "output_type": "execute_result"
    }
   ],
   "source": [
    "# select rows via simple indexing\n",
    "m[2] #the third rows"
   ]
  },
  {
   "cell_type": "code",
   "execution_count": 4,
   "id": "25e53eee",
   "metadata": {},
   "outputs": [
    {
     "data": {
      "text/plain": [
       "1"
      ]
     },
     "execution_count": 4,
     "metadata": {},
     "output_type": "execute_result"
    }
   ],
   "source": [
    "# select rows via double indexing\n",
    "m[2][0] #third row, first number"
   ]
  },
  {
   "cell_type": "code",
   "execution_count": 5,
   "id": "7d862c52",
   "metadata": {},
   "outputs": [
    {
     "data": {
      "text/plain": [
       "[[[1, 2, 3, 4, 5, 2.4, 2.4, 34.2],\n",
       "  [1, 2, 3, 4, 5, 2.4, 2.4, 34.2],\n",
       "  [1, 2, 3, 4, 5, 2.4, 2.4, 34.2]],\n",
       " [[1, 2, 3, 4, 5, 2.4, 2.4, 34.2],\n",
       "  [1, 2, 3, 4, 5, 2.4, 2.4, 34.2],\n",
       "  [1, 2, 3, 4, 5, 2.4, 2.4, 34.2]]]"
      ]
     },
     "execution_count": 5,
     "metadata": {},
     "output_type": "execute_result"
    }
   ],
   "source": [
    "# N-dimensional array can be combined together too.\n",
    "c =[m,m]\n",
    "c"
   ]
  },
  {
   "cell_type": "code",
   "execution_count": 6,
   "id": "926481d4",
   "metadata": {},
   "outputs": [
    {
     "data": {
      "text/plain": [
       "[[1, 2, 3, 4, 5, 2.4, 2.4, 34.2], [1, 2, 3, 4, 5, 2.4, 2.4, 34.2]]"
      ]
     },
     "execution_count": 6,
     "metadata": {},
     "output_type": "execute_result"
    }
   ],
   "source": [
    "# if we combine arrays in this way, the combined object will change when the original objects change.\n",
    "v = [1,2,3,4,5,2.4,2.4,34.2]\n",
    "m = [v, v]\n",
    "m"
   ]
  },
  {
   "cell_type": "code",
   "execution_count": 7,
   "id": "9b943f87",
   "metadata": {},
   "outputs": [
    {
     "data": {
      "text/plain": [
       "[['A', 2, 3, 4, 5, 2.4, 2.4, 34.2], ['A', 2, 3, 4, 5, 2.4, 2.4, 34.2]]"
      ]
     },
     "execution_count": 7,
     "metadata": {},
     "output_type": "execute_result"
    }
   ],
   "source": [
    "v[0] = \"A\"\n",
    "m"
   ]
  },
  {
   "cell_type": "code",
   "execution_count": 8,
   "id": "93a88fbc",
   "metadata": {},
   "outputs": [
    {
     "data": {
      "text/plain": [
       "[[1, 2, 3, 4, 5, 2.4, 2.4, 34.2], [1, 2, 3, 4, 5, 2.4, 2.4, 34.2]]"
      ]
     },
     "execution_count": 8,
     "metadata": {},
     "output_type": "execute_result"
    }
   ],
   "source": [
    "# This can be avoided by using the deepcopy() function of the copy module\n",
    "from copy import deepcopy\n",
    "v = [1,2,3,4,5,2.4,2.4,34.2]\n",
    "m = 2 * [deepcopy(v)]\n",
    "m"
   ]
  },
  {
   "cell_type": "code",
   "execution_count": 9,
   "id": "1d6174aa",
   "metadata": {},
   "outputs": [
    {
     "data": {
      "text/plain": [
       "[[1, 2, 3, 4, 5, 2.4, 2.4, 34.2], [1, 2, 3, 4, 5, 2.4, 2.4, 34.2]]"
      ]
     },
     "execution_count": 9,
     "metadata": {},
     "output_type": "execute_result"
    }
   ],
   "source": [
    "v[0] = \"A\"\n",
    "m"
   ]
  },
  {
   "cell_type": "code",
   "execution_count": 10,
   "id": "ec0c9a84",
   "metadata": {},
   "outputs": [],
   "source": [
    "# you can create array with the lsit objects, but it is not really convenient.\n",
    "# NumPy: numpy.ndarray is just such a class, built with the specific goal of handling n-dimensional arrays both conveniently and efficiently.\n",
    "import numpy as np"
   ]
  },
  {
   "cell_type": "code",
   "execution_count": 11,
   "id": "8022c40d",
   "metadata": {},
   "outputs": [
    {
     "data": {
      "text/plain": [
       "array([ 1. ,  2. ,  3. ,  4. ,  5. ,  2.4,  2.4, 34.2])"
      ]
     },
     "execution_count": 11,
     "metadata": {},
     "output_type": "execute_result"
    }
   ],
   "source": [
    "a = np.array([1,2,3,4,5,2.4,2.4,34.2])\n",
    "a"
   ]
  },
  {
   "cell_type": "code",
   "execution_count": 12,
   "id": "96f22223",
   "metadata": {},
   "outputs": [
    {
     "data": {
      "text/plain": [
       "numpy.ndarray"
      ]
     },
     "execution_count": 12,
     "metadata": {},
     "output_type": "execute_result"
    }
   ],
   "source": [
    "type(a)"
   ]
  },
  {
   "cell_type": "code",
   "execution_count": 13,
   "id": "1bdfbd8b",
   "metadata": {},
   "outputs": [
    {
     "data": {
      "text/plain": [
       "array(['a', 'b', 'c'], dtype='<U1')"
      ]
     },
     "execution_count": 13,
     "metadata": {},
     "output_type": "execute_result"
    }
   ],
   "source": [
    "a = np.array(['a','b','c'])\n",
    "a"
   ]
  },
  {
   "cell_type": "code",
   "execution_count": 14,
   "id": "13031bb8",
   "metadata": {},
   "outputs": [
    {
     "data": {
      "text/plain": [
       "numpy.ndarray"
      ]
     },
     "execution_count": 14,
     "metadata": {},
     "output_type": "execute_result"
    }
   ],
   "source": [
    "type(a)"
   ]
  },
  {
   "cell_type": "code",
   "execution_count": 15,
   "id": "872fc66c",
   "metadata": {},
   "outputs": [
    {
     "data": {
      "text/plain": [
       "array([[0., 0.],\n",
       "       [0., 0.],\n",
       "       [0., 0.]])"
      ]
     },
     "execution_count": 15,
     "metadata": {},
     "output_type": "execute_result"
    }
   ],
   "source": [
    "# Create 3X2 double precision array initialized to all zeroes\n",
    "a = np.zeros((3,2))\n",
    "a"
   ]
  },
  {
   "cell_type": "code",
   "execution_count": 16,
   "id": "1ac2ba76",
   "metadata": {},
   "outputs": [
    {
     "data": {
      "text/plain": [
       "array([['0', '1', '2'],\n",
       "       ['a', 'b', 'c']], dtype='<U21')"
      ]
     },
     "execution_count": 16,
     "metadata": {},
     "output_type": "execute_result"
    }
   ],
   "source": [
    "# Create array initialized by list of lists\n",
    "a = np.array([[0,1,2],['a','b','c']])\n",
    "a"
   ]
  },
  {
   "cell_type": "code",
   "execution_count": 17,
   "id": "e2c18a9a",
   "metadata": {},
   "outputs": [],
   "source": [
    "# a = np.array([0,1,2],['a','b','c']) # lack a square brackets"
   ]
  },
  {
   "cell_type": "code",
   "execution_count": 18,
   "id": "ec50beaf",
   "metadata": {},
   "outputs": [
    {
     "data": {
      "text/plain": [
       "array([0, 1, 2, 3, 4, 5, 6, 7, 8, 9])"
      ]
     },
     "execution_count": 18,
     "metadata": {},
     "output_type": "execute_result"
    }
   ],
   "source": [
    "# create array using \"arrange\" function\n",
    "a = np.arange(10)\n",
    "a"
   ]
  },
  {
   "cell_type": "code",
   "execution_count": 19,
   "id": "c2a27c8f",
   "metadata": {},
   "outputs": [
    {
     "data": {
      "text/plain": [
       "array([1, 3, 5, 7, 9])"
      ]
     },
     "execution_count": 19,
     "metadata": {},
     "output_type": "execute_result"
    }
   ],
   "source": [
    "a = np.arange(1,10,2)\n",
    "a"
   ]
  },
  {
   "cell_type": "code",
   "execution_count": 20,
   "id": "f4feca63",
   "metadata": {},
   "outputs": [
    {
     "data": {
      "text/plain": [
       "array([10, 13, 16, 19])"
      ]
     },
     "execution_count": 20,
     "metadata": {},
     "output_type": "execute_result"
    }
   ],
   "source": [
    "a = np.arange(10,20,3)\n",
    "a"
   ]
  },
  {
   "cell_type": "code",
   "execution_count": 21,
   "id": "b45dec86",
   "metadata": {},
   "outputs": [
    {
     "data": {
      "text/plain": [
       "array([2, 3, 4, 5])"
      ]
     },
     "execution_count": 21,
     "metadata": {},
     "output_type": "execute_result"
    }
   ],
   "source": [
    "# select object by index\n",
    "a = np.arange(10)\n",
    "a[2:6]"
   ]
  },
  {
   "cell_type": "code",
   "execution_count": 22,
   "id": "6751317c",
   "metadata": {},
   "outputs": [
    {
     "data": {
      "text/plain": [
       "array([0, 1])"
      ]
     },
     "execution_count": 22,
     "metadata": {},
     "output_type": "execute_result"
    }
   ],
   "source": [
    "a[:2]"
   ]
  },
  {
   "cell_type": "code",
   "execution_count": 23,
   "id": "cdc1768d",
   "metadata": {},
   "outputs": [
    {
     "name": "stdout",
     "output_type": "stream",
     "text": [
      "[[0 1 2]\n",
      " [3 4 5]]\n"
     ]
    }
   ],
   "source": [
    "# get value from N-dimensinal array\n",
    "m = np.array([[0,1,2],[3,4,5]])\n",
    "print(m)\n"
   ]
  },
  {
   "cell_type": "code",
   "execution_count": 24,
   "id": "0ff744af",
   "metadata": {},
   "outputs": [
    {
     "data": {
      "text/plain": [
       "0"
      ]
     },
     "execution_count": 24,
     "metadata": {},
     "output_type": "execute_result"
    }
   ],
   "source": [
    "m[0,0]"
   ]
  },
  {
   "cell_type": "code",
   "execution_count": 25,
   "id": "4368c6ba",
   "metadata": {},
   "outputs": [
    {
     "data": {
      "text/plain": [
       "array([0, 1, 2])"
      ]
     },
     "execution_count": 25,
     "metadata": {},
     "output_type": "execute_result"
    }
   ],
   "source": [
    "m[0,:]"
   ]
  },
  {
   "cell_type": "code",
   "execution_count": 26,
   "id": "f2f22cae",
   "metadata": {},
   "outputs": [
    {
     "data": {
      "text/plain": [
       "array([2, 5])"
      ]
     },
     "execution_count": 26,
     "metadata": {},
     "output_type": "execute_result"
    }
   ],
   "source": [
    "m[:,-1]"
   ]
  },
  {
   "cell_type": "code",
   "execution_count": 27,
   "id": "356d8d6a",
   "metadata": {},
   "outputs": [
    {
     "data": {
      "text/plain": [
       "array([[1, 2],\n",
       "       [4, 5]])"
      ]
     },
     "execution_count": 27,
     "metadata": {},
     "output_type": "execute_result"
    }
   ],
   "source": [
    "m[0:2,1:3]"
   ]
  },
  {
   "cell_type": "code",
   "execution_count": 28,
   "id": "05e050a0",
   "metadata": {},
   "outputs": [
    {
     "data": {
      "text/plain": [
       "array([[8, 8, 8],\n",
       "       [3, 4, 5]])"
      ]
     },
     "execution_count": 28,
     "metadata": {},
     "output_type": "execute_result"
    }
   ],
   "source": [
    "# Modifying N-dimensional arrays\n",
    "m[0,:] = 8\n",
    "m"
   ]
  },
  {
   "cell_type": "code",
   "execution_count": 29,
   "id": "58f18456",
   "metadata": {},
   "outputs": [
    {
     "data": {
      "text/plain": [
       "array([[3, 6, 9],\n",
       "       [3, 6, 9]])"
      ]
     },
     "execution_count": 29,
     "metadata": {},
     "output_type": "execute_result"
    }
   ],
   "source": [
    "# Assign 1D array to all rows of 2D array\n",
    "m[:,:] = np.array([3,6,9])\n",
    "m"
   ]
  },
  {
   "cell_type": "code",
   "execution_count": 30,
   "id": "f4093958",
   "metadata": {},
   "outputs": [
    {
     "data": {
      "text/plain": [
       "array([[3, 6],\n",
       "       [9, 3],\n",
       "       [6, 9]])"
      ]
     },
     "execution_count": 30,
     "metadata": {},
     "output_type": "execute_result"
    }
   ],
   "source": [
    "# reshape from 2X3 to 3X2\n",
    "m.reshape(3,2)"
   ]
  },
  {
   "cell_type": "code",
   "execution_count": 31,
   "id": "9c1da770",
   "metadata": {},
   "outputs": [
    {
     "data": {
      "text/plain": [
       "array([0, 1, 2, 3, 4, 5, 6, 7])"
      ]
     },
     "execution_count": 31,
     "metadata": {},
     "output_type": "execute_result"
    }
   ],
   "source": [
    "# NumPy basic calculations\n",
    "# Create 1D array\n",
    "a = np.arange(8)\n",
    "a"
   ]
  },
  {
   "cell_type": "code",
   "execution_count": 32,
   "id": "4e55302d",
   "metadata": {},
   "outputs": [
    {
     "data": {
      "text/plain": [
       "28"
      ]
     },
     "execution_count": 32,
     "metadata": {},
     "output_type": "execute_result"
    }
   ],
   "source": [
    "# Add 1D arrays elementwise a+a\n",
    "a.sum()"
   ]
  },
  {
   "cell_type": "code",
   "execution_count": 33,
   "id": "b5095597",
   "metadata": {},
   "outputs": [
    {
     "data": {
      "text/plain": [
       "140"
      ]
     },
     "execution_count": 33,
     "metadata": {},
     "output_type": "execute_result"
    }
   ],
   "source": [
    "# Compute dot product: a * a vector multipulation\n",
    "np.dot(a, a)   # same as: (a * a).sum()"
   ]
  },
  {
   "cell_type": "code",
   "execution_count": 34,
   "id": "35cfdb40",
   "metadata": {},
   "outputs": [
    {
     "data": {
      "text/plain": [
       "array([[ 4,  5,  6,  7],\n",
       "       [12, 17, 22, 27],\n",
       "       [20, 29, 38, 47],\n",
       "       [28, 41, 54, 67]])"
      ]
     },
     "execution_count": 34,
     "metadata": {},
     "output_type": "execute_result"
    }
   ],
   "source": [
    "# Compute cross product\n",
    "np.dot(a.reshape(4,2), a.reshape(2,4))"
   ]
  },
  {
   "cell_type": "code",
   "execution_count": 35,
   "id": "cbc14191",
   "metadata": {},
   "outputs": [
    {
     "data": {
      "text/plain": [
       "2.29128784747792"
      ]
     },
     "execution_count": 35,
     "metadata": {},
     "output_type": "execute_result"
    }
   ],
   "source": [
    "a.std()"
   ]
  },
  {
   "cell_type": "code",
   "execution_count": 36,
   "id": "30df8638",
   "metadata": {},
   "outputs": [
    {
     "data": {
      "text/plain": [
       "array([ 0,  1,  3,  6, 10, 15, 21, 28])"
      ]
     },
     "execution_count": 36,
     "metadata": {},
     "output_type": "execute_result"
    }
   ],
   "source": [
    "# Return the cumulative sum of the elements along a given axis.\n",
    "a.cumsum()"
   ]
  },
  {
   "cell_type": "code",
   "execution_count": 37,
   "id": "97495f36",
   "metadata": {},
   "outputs": [
    {
     "name": "stdout",
     "output_type": "stream",
     "text": [
      "[1, 2, 3, 4, 5, 1, 2, 3, 4, 5]\n"
     ]
    }
   ],
   "source": [
    "# operation differences between array and list\n",
    "a_list = [1,2,3,4,5]\n",
    "print(a_list*2) # 2 a_list"
   ]
  },
  {
   "cell_type": "code",
   "execution_count": 38,
   "id": "0bd37248",
   "metadata": {},
   "outputs": [
    {
     "data": {
      "text/plain": [
       "array([1, 2, 3, 4, 5])"
      ]
     },
     "execution_count": 38,
     "metadata": {},
     "output_type": "execute_result"
    }
   ],
   "source": [
    "a_array = np.array([1,2,3,4,5])\n",
    "a_array"
   ]
  },
  {
   "cell_type": "code",
   "execution_count": 39,
   "id": "3b6118a5",
   "metadata": {},
   "outputs": [
    {
     "data": {
      "text/plain": [
       "array([ 2,  4,  6,  8, 10])"
      ]
     },
     "execution_count": 39,
     "metadata": {},
     "output_type": "execute_result"
    }
   ],
   "source": [
    "a_array * 2 # multiple 2"
   ]
  },
  {
   "cell_type": "code",
   "execution_count": 40,
   "id": "8c5849a3",
   "metadata": {},
   "outputs": [
    {
     "data": {
      "text/plain": [
       "array([ 1,  4,  9, 16, 25])"
      ]
     },
     "execution_count": 40,
     "metadata": {},
     "output_type": "execute_result"
    }
   ],
   "source": [
    "a_array ** 2"
   ]
  },
  {
   "cell_type": "code",
   "execution_count": 41,
   "id": "579d9eb3",
   "metadata": {},
   "outputs": [
    {
     "data": {
      "text/plain": [
       "array([[ 0,  1,  2,  3,  4,  5,  6,  7],\n",
       "       [ 0,  2,  4,  6,  8, 10, 12, 14]])"
      ]
     },
     "execution_count": 41,
     "metadata": {},
     "output_type": "execute_result"
    }
   ],
   "source": [
    "# n-dimensional array mutiple\n",
    "b = np.array([a, a * 2])\n",
    "b"
   ]
  },
  {
   "cell_type": "code",
   "execution_count": 42,
   "id": "7c4f116f",
   "metadata": {},
   "outputs": [
    {
     "data": {
      "text/plain": [
       "array([0, 1, 2, 3, 4, 5, 6, 7])"
      ]
     },
     "execution_count": 42,
     "metadata": {},
     "output_type": "execute_result"
    }
   ],
   "source": [
    "b[0]"
   ]
  },
  {
   "cell_type": "code",
   "execution_count": 43,
   "id": "dde5aed5",
   "metadata": {},
   "outputs": [
    {
     "data": {
      "text/plain": [
       "1"
      ]
     },
     "execution_count": 43,
     "metadata": {},
     "output_type": "execute_result"
    }
   ],
   "source": [
    "b[0,1]"
   ]
  },
  {
   "cell_type": "code",
   "execution_count": 44,
   "id": "73210523",
   "metadata": {},
   "outputs": [
    {
     "data": {
      "text/plain": [
       "84"
      ]
     },
     "execution_count": 44,
     "metadata": {},
     "output_type": "execute_result"
    }
   ],
   "source": [
    "b.sum()"
   ]
  },
  {
   "cell_type": "code",
   "execution_count": 45,
   "id": "8fc0a39c",
   "metadata": {},
   "outputs": [
    {
     "data": {
      "text/plain": [
       "array([ 0,  3,  6,  9, 12, 15, 18, 21])"
      ]
     },
     "execution_count": 45,
     "metadata": {},
     "output_type": "execute_result"
    }
   ],
   "source": [
    "b.sum(axis=0) # sum row values in the same columns"
   ]
  },
  {
   "cell_type": "code",
   "execution_count": 46,
   "id": "785ff4d2",
   "metadata": {},
   "outputs": [
    {
     "data": {
      "text/plain": [
       "array([28, 56])"
      ]
     },
     "execution_count": 46,
     "metadata": {},
     "output_type": "execute_result"
    }
   ],
   "source": [
    "b.sum(axis=1) # sum all columns values in the same row"
   ]
  },
  {
   "cell_type": "markdown",
   "id": "d6c9aff4",
   "metadata": {},
   "source": [
    "# NumPy attributes"
   ]
  },
  {
   "cell_type": "code",
   "execution_count": 47,
   "id": "087ca690",
   "metadata": {},
   "outputs": [
    {
     "data": {
      "text/plain": [
       "16"
      ]
     },
     "execution_count": 47,
     "metadata": {},
     "output_type": "execute_result"
    }
   ],
   "source": [
    "b.size"
   ]
  },
  {
   "cell_type": "code",
   "execution_count": 48,
   "id": "c3e392eb",
   "metadata": {},
   "outputs": [
    {
     "data": {
      "text/plain": [
       "8"
      ]
     },
     "execution_count": 48,
     "metadata": {},
     "output_type": "execute_result"
    }
   ],
   "source": [
    " b.itemsize"
   ]
  },
  {
   "cell_type": "code",
   "execution_count": 49,
   "id": "188cef89",
   "metadata": {},
   "outputs": [
    {
     "data": {
      "text/plain": [
       "2"
      ]
     },
     "execution_count": 49,
     "metadata": {},
     "output_type": "execute_result"
    }
   ],
   "source": [
    "b.ndim"
   ]
  },
  {
   "cell_type": "code",
   "execution_count": 50,
   "id": "1783eb3c",
   "metadata": {},
   "outputs": [
    {
     "data": {
      "text/plain": [
       "(2, 8)"
      ]
     },
     "execution_count": 50,
     "metadata": {},
     "output_type": "execute_result"
    }
   ],
   "source": [
    "b.shape # 2X8 matrix"
   ]
  },
  {
   "cell_type": "code",
   "execution_count": 51,
   "id": "8dcfbbe0",
   "metadata": {},
   "outputs": [
    {
     "data": {
      "text/plain": [
       "(10,)"
      ]
     },
     "execution_count": 51,
     "metadata": {},
     "output_type": "execute_result"
    }
   ],
   "source": [
    "# reshaping in general just provides another view on the same data. \n",
    "c = np.arange(10)\n",
    "c.shape"
   ]
  },
  {
   "cell_type": "code",
   "execution_count": 52,
   "id": "18d8038e",
   "metadata": {},
   "outputs": [
    {
     "data": {
      "text/plain": [
       "array([[0, 1],\n",
       "       [2, 3],\n",
       "       [4, 5],\n",
       "       [6, 7],\n",
       "       [8, 9]])"
      ]
     },
     "execution_count": 52,
     "metadata": {},
     "output_type": "execute_result"
    }
   ],
   "source": [
    "c = c.reshape((5,2))\n",
    "c"
   ]
  },
  {
   "cell_type": "code",
   "execution_count": 53,
   "id": "336a6e3f",
   "metadata": {},
   "outputs": [
    {
     "data": {
      "text/plain": [
       "array([[0, 1, 2, 3, 4],\n",
       "       [5, 6, 7, 8, 9]])"
      ]
     },
     "execution_count": 53,
     "metadata": {},
     "output_type": "execute_result"
    }
   ],
   "source": [
    "c = c.reshape((2,5))\n",
    "c"
   ]
  },
  {
   "cell_type": "code",
   "execution_count": 54,
   "id": "c36ea73b",
   "metadata": {},
   "outputs": [
    {
     "data": {
      "text/plain": [
       "array([[0, 5],\n",
       "       [1, 6],\n",
       "       [2, 7],\n",
       "       [3, 8],\n",
       "       [4, 9]])"
      ]
     },
     "execution_count": 54,
     "metadata": {},
     "output_type": "execute_result"
    }
   ],
   "source": [
    "#  transpose creates a new (temporary) object.\n",
    "c.T "
   ]
  },
  {
   "cell_type": "code",
   "execution_count": 55,
   "id": "ad734a38",
   "metadata": {},
   "outputs": [
    {
     "data": {
      "text/plain": [
       "array([[0, 5],\n",
       "       [1, 6],\n",
       "       [2, 7],\n",
       "       [3, 8],\n",
       "       [4, 9]])"
      ]
     },
     "execution_count": 55,
     "metadata": {},
     "output_type": "execute_result"
    }
   ],
   "source": [
    "c.transpose()"
   ]
  },
  {
   "cell_type": "code",
   "execution_count": 56,
   "id": "a69b7e4f",
   "metadata": {},
   "outputs": [
    {
     "data": {
      "text/plain": [
       "array([[0, 1, 2, 3, 4],\n",
       "       [5, 6, 7, 8, 9]])"
      ]
     },
     "execution_count": 56,
     "metadata": {},
     "output_type": "execute_result"
    }
   ],
   "source": [
    "c"
   ]
  },
  {
   "cell_type": "code",
   "execution_count": 57,
   "id": "5185f124",
   "metadata": {},
   "outputs": [
    {
     "data": {
      "text/plain": [
       "array([[False, False, False, False, False],\n",
       "       [False,  True,  True,  True,  True]])"
      ]
     },
     "execution_count": 57,
     "metadata": {},
     "output_type": "execute_result"
    }
   ],
   "source": [
    "# boolean ndarray object\n",
    "c>5 "
   ]
  },
  {
   "cell_type": "code",
   "execution_count": 58,
   "id": "86ae3fed",
   "metadata": {},
   "outputs": [
    {
     "data": {
      "text/plain": [
       "array([[ True,  True,  True,  True,  True],\n",
       "       [ True,  True,  True, False, False]])"
      ]
     },
     "execution_count": 58,
     "metadata": {},
     "output_type": "execute_result"
    }
   ],
   "source": [
    "c <8"
   ]
  },
  {
   "cell_type": "code",
   "execution_count": 59,
   "id": "1b4e454e",
   "metadata": {},
   "outputs": [
    {
     "data": {
      "text/plain": [
       "array([[False, False, False,  True, False],\n",
       "       [False, False, False, False, False]])"
      ]
     },
     "execution_count": 59,
     "metadata": {},
     "output_type": "execute_result"
    }
   ],
   "source": [
    "c == 3"
   ]
  },
  {
   "cell_type": "code",
   "execution_count": 60,
   "id": "7886808e",
   "metadata": {},
   "outputs": [
    {
     "data": {
      "text/plain": [
       "array([[0, 0, 0, 1, 0],\n",
       "       [0, 0, 0, 0, 0]])"
      ]
     },
     "execution_count": 60,
     "metadata": {},
     "output_type": "execute_result"
    }
   ],
   "source": [
    "# numpy.ndarray.astype\n",
    "# Copy of the array, cast to a specified type.\n",
    "(c == 3).astype(int)"
   ]
  },
  {
   "cell_type": "code",
   "execution_count": 61,
   "id": "147b2f87",
   "metadata": {},
   "outputs": [
    {
     "data": {
      "text/plain": [
       "array([[False, False, False,  True,  True],\n",
       "       [ True,  True,  True, False, False]])"
      ]
     },
     "execution_count": 61,
     "metadata": {},
     "output_type": "execute_result"
    }
   ],
   "source": [
    "(c > 2) & (c < 8) "
   ]
  },
  {
   "cell_type": "markdown",
   "id": "c26aa3e6",
   "metadata": {},
   "source": [
    "# Exercise for Numpy:\n",
    "1. create an array [2,4,6,8,10,12]\n",
    "2. reshape this array to 2X3\n",
    "3. select the value on first row & second column after reshaping\n",
    "3. transpose"
   ]
  },
  {
   "cell_type": "markdown",
   "id": "857e6136",
   "metadata": {},
   "source": [
    "## Pandas\n",
    "\n",
    "- pandas is a library for data analysis \n",
    "- focus on tabular data (dataframe)\n",
    "- pandas has many functions and data structures which are similar to **R**. Particularly related to:\n",
    "   - Data frames.\n",
    "   - Indexing.\n"
   ]
  },
  {
   "cell_type": "markdown",
   "id": "0ff29d6a",
   "metadata": {},
   "source": [
    "## Pandas basics"
   ]
  },
  {
   "cell_type": "code",
   "execution_count": 63,
   "id": "23709b40",
   "metadata": {},
   "outputs": [],
   "source": [
    "import pandas as pd"
   ]
  },
  {
   "cell_type": "code",
   "execution_count": 64,
   "id": "6f450fe1",
   "metadata": {},
   "outputs": [
    {
     "data": {
      "text/html": [
       "<div>\n",
       "<style scoped>\n",
       "    .dataframe tbody tr th:only-of-type {\n",
       "        vertical-align: middle;\n",
       "    }\n",
       "\n",
       "    .dataframe tbody tr th {\n",
       "        vertical-align: top;\n",
       "    }\n",
       "\n",
       "    .dataframe thead th {\n",
       "        text-align: right;\n",
       "    }\n",
       "</style>\n",
       "<table border=\"1\" class=\"dataframe\">\n",
       "  <thead>\n",
       "    <tr style=\"text-align: right;\">\n",
       "      <th></th>\n",
       "      <th>numbers</th>\n",
       "    </tr>\n",
       "  </thead>\n",
       "  <tbody>\n",
       "    <tr>\n",
       "      <th>a</th>\n",
       "      <td>1</td>\n",
       "    </tr>\n",
       "    <tr>\n",
       "      <th>b</th>\n",
       "      <td>2</td>\n",
       "    </tr>\n",
       "    <tr>\n",
       "      <th>c</th>\n",
       "      <td>3</td>\n",
       "    </tr>\n",
       "    <tr>\n",
       "      <th>d</th>\n",
       "      <td>4</td>\n",
       "    </tr>\n",
       "    <tr>\n",
       "      <th>e</th>\n",
       "      <td>5</td>\n",
       "    </tr>\n",
       "  </tbody>\n",
       "</table>\n",
       "</div>"
      ],
      "text/plain": [
       "   numbers\n",
       "a        1\n",
       "b        2\n",
       "c        3\n",
       "d        4\n",
       "e        5"
      ]
     },
     "execution_count": 64,
     "metadata": {},
     "output_type": "execute_result"
    }
   ],
   "source": [
    "# several ways to create df\n",
    "df1 = pd.DataFrame([1,2,3,4,5], columns=[\"numbers\"], index = ['a','b','c','d','e'])\n",
    "df1"
   ]
  },
  {
   "cell_type": "code",
   "execution_count": 65,
   "id": "4a5df3f3",
   "metadata": {},
   "outputs": [
    {
     "data": {
      "text/html": [
       "<div>\n",
       "<style scoped>\n",
       "    .dataframe tbody tr th:only-of-type {\n",
       "        vertical-align: middle;\n",
       "    }\n",
       "\n",
       "    .dataframe tbody tr th {\n",
       "        vertical-align: top;\n",
       "    }\n",
       "\n",
       "    .dataframe thead th {\n",
       "        text-align: right;\n",
       "    }\n",
       "</style>\n",
       "<table border=\"1\" class=\"dataframe\">\n",
       "  <thead>\n",
       "    <tr style=\"text-align: right;\">\n",
       "      <th></th>\n",
       "      <th>numbers</th>\n",
       "    </tr>\n",
       "  </thead>\n",
       "  <tbody>\n",
       "    <tr>\n",
       "      <th>a</th>\n",
       "      <td>1</td>\n",
       "    </tr>\n",
       "    <tr>\n",
       "      <th>b</th>\n",
       "      <td>2</td>\n",
       "    </tr>\n",
       "    <tr>\n",
       "      <th>c</th>\n",
       "      <td>3</td>\n",
       "    </tr>\n",
       "    <tr>\n",
       "      <th>d</th>\n",
       "      <td>4</td>\n",
       "    </tr>\n",
       "    <tr>\n",
       "      <th>e</th>\n",
       "      <td>5</td>\n",
       "    </tr>\n",
       "  </tbody>\n",
       "</table>\n",
       "</div>"
      ],
      "text/plain": [
       "   numbers\n",
       "a        1\n",
       "b        2\n",
       "c        3\n",
       "d        4\n",
       "e        5"
      ]
     },
     "execution_count": 65,
     "metadata": {},
     "output_type": "execute_result"
    }
   ],
   "source": [
    "df2 = pd.DataFrame({'numbers': [1, 2,3,4,5]}, index=['a','b','c','d','e'])\n",
    "df2"
   ]
  },
  {
   "cell_type": "code",
   "execution_count": 66,
   "id": "cf4cba3c",
   "metadata": {},
   "outputs": [
    {
     "data": {
      "text/html": [
       "<div>\n",
       "<style scoped>\n",
       "    .dataframe tbody tr th:only-of-type {\n",
       "        vertical-align: middle;\n",
       "    }\n",
       "\n",
       "    .dataframe tbody tr th {\n",
       "        vertical-align: top;\n",
       "    }\n",
       "\n",
       "    .dataframe thead th {\n",
       "        text-align: right;\n",
       "    }\n",
       "</style>\n",
       "<table border=\"1\" class=\"dataframe\">\n",
       "  <thead>\n",
       "    <tr style=\"text-align: right;\">\n",
       "      <th></th>\n",
       "      <th>numbers</th>\n",
       "    </tr>\n",
       "  </thead>\n",
       "  <tbody>\n",
       "    <tr>\n",
       "      <th>a</th>\n",
       "      <td>1</td>\n",
       "    </tr>\n",
       "    <tr>\n",
       "      <th>b</th>\n",
       "      <td>2</td>\n",
       "    </tr>\n",
       "    <tr>\n",
       "      <th>c</th>\n",
       "      <td>3</td>\n",
       "    </tr>\n",
       "    <tr>\n",
       "      <th>d</th>\n",
       "      <td>4</td>\n",
       "    </tr>\n",
       "    <tr>\n",
       "      <th>e</th>\n",
       "      <td>5</td>\n",
       "    </tr>\n",
       "  </tbody>\n",
       "</table>\n",
       "</div>"
      ],
      "text/plain": [
       "   numbers\n",
       "a        1\n",
       "b        2\n",
       "c        3\n",
       "d        4\n",
       "e        5"
      ]
     },
     "execution_count": 66,
     "metadata": {},
     "output_type": "execute_result"
    }
   ],
   "source": [
    "df3 = pd.DataFrame({'numbers': [1, 2,3,4,5]}, index=['a','b','c','d','e'])\n",
    "df3"
   ]
  },
  {
   "cell_type": "code",
   "execution_count": 67,
   "id": "c36845d8",
   "metadata": {},
   "outputs": [
    {
     "data": {
      "text/html": [
       "<div>\n",
       "<style scoped>\n",
       "    .dataframe tbody tr th:only-of-type {\n",
       "        vertical-align: middle;\n",
       "    }\n",
       "\n",
       "    .dataframe tbody tr th {\n",
       "        vertical-align: top;\n",
       "    }\n",
       "\n",
       "    .dataframe thead th {\n",
       "        text-align: right;\n",
       "    }\n",
       "</style>\n",
       "<table border=\"1\" class=\"dataframe\">\n",
       "  <thead>\n",
       "    <tr style=\"text-align: right;\">\n",
       "      <th></th>\n",
       "      <th>Binary_variable</th>\n",
       "      <th>age</th>\n",
       "    </tr>\n",
       "  </thead>\n",
       "  <tbody>\n",
       "    <tr>\n",
       "      <th>0</th>\n",
       "      <td>0</td>\n",
       "      <td>18</td>\n",
       "    </tr>\n",
       "    <tr>\n",
       "      <th>1</th>\n",
       "      <td>1</td>\n",
       "      <td>20</td>\n",
       "    </tr>\n",
       "    <tr>\n",
       "      <th>2</th>\n",
       "      <td>1</td>\n",
       "      <td>25</td>\n",
       "    </tr>\n",
       "  </tbody>\n",
       "</table>\n",
       "</div>"
      ],
      "text/plain": [
       "   Binary_variable  age\n",
       "0                0   18\n",
       "1                1   20\n",
       "2                1   25"
      ]
     },
     "execution_count": 67,
     "metadata": {},
     "output_type": "execute_result"
    }
   ],
   "source": [
    "df4 = pd.DataFrame({'Binary_variable': [0,1,1], 'age': [18,20,25]})\n",
    "df4"
   ]
  },
  {
   "cell_type": "code",
   "execution_count": 68,
   "id": "cfd0e9b7",
   "metadata": {},
   "outputs": [],
   "source": [
    "# reading data file\n",
    "\n",
    "import os #This package allows us to change our working directory\n",
    "\n",
    "# Set our working directory\n",
    "path = '/Users/liangjiawen/PycharmProjects/Python workshop/data'\n",
    "os.chdir(path)\n",
    "\n",
    "filename = 'stock_prices.csv'\n",
    "price_df = pd.read_csv(filename)"
   ]
  },
  {
   "cell_type": "code",
   "execution_count": 69,
   "id": "6e51dc8f",
   "metadata": {},
   "outputs": [
    {
     "data": {
      "text/html": [
       "<div>\n",
       "<style scoped>\n",
       "    .dataframe tbody tr th:only-of-type {\n",
       "        vertical-align: middle;\n",
       "    }\n",
       "\n",
       "    .dataframe tbody tr th {\n",
       "        vertical-align: top;\n",
       "    }\n",
       "\n",
       "    .dataframe thead th {\n",
       "        text-align: right;\n",
       "    }\n",
       "</style>\n",
       "<table border=\"1\" class=\"dataframe\">\n",
       "  <thead>\n",
       "    <tr style=\"text-align: right;\">\n",
       "      <th></th>\n",
       "      <th>date</th>\n",
       "      <th>AAPL</th>\n",
       "      <th>GE</th>\n",
       "      <th>AMD</th>\n",
       "      <th>WMT</th>\n",
       "      <th>BAC</th>\n",
       "      <th>T</th>\n",
       "      <th>XOM</th>\n",
       "      <th>RRC</th>\n",
       "      <th>BBY</th>\n",
       "      <th>PFE</th>\n",
       "      <th>JPM</th>\n",
       "    </tr>\n",
       "  </thead>\n",
       "  <tbody>\n",
       "    <tr>\n",
       "      <th>0</th>\n",
       "      <td>29/12/1989</td>\n",
       "      <td>0.117203</td>\n",
       "      <td>0.352438</td>\n",
       "      <td>3.9375</td>\n",
       "      <td>3.486070</td>\n",
       "      <td>1.752478</td>\n",
       "      <td>2.365775</td>\n",
       "      <td>1.766756</td>\n",
       "      <td>NaN</td>\n",
       "      <td>0.166287</td>\n",
       "      <td>0.110818</td>\n",
       "      <td>1.827968</td>\n",
       "    </tr>\n",
       "    <tr>\n",
       "      <th>1</th>\n",
       "      <td>02/01/1990</td>\n",
       "      <td>0.123853</td>\n",
       "      <td>0.364733</td>\n",
       "      <td>4.1250</td>\n",
       "      <td>3.660858</td>\n",
       "      <td>1.766686</td>\n",
       "      <td>2.398184</td>\n",
       "      <td>1.766756</td>\n",
       "      <td>NaN</td>\n",
       "      <td>0.173216</td>\n",
       "      <td>0.113209</td>\n",
       "      <td>1.835617</td>\n",
       "    </tr>\n",
       "    <tr>\n",
       "      <th>2</th>\n",
       "      <td>03/01/1990</td>\n",
       "      <td>0.124684</td>\n",
       "      <td>0.364050</td>\n",
       "      <td>4.0000</td>\n",
       "      <td>3.660858</td>\n",
       "      <td>1.780897</td>\n",
       "      <td>2.356516</td>\n",
       "      <td>1.749088</td>\n",
       "      <td>NaN</td>\n",
       "      <td>0.194001</td>\n",
       "      <td>0.113608</td>\n",
       "      <td>1.896803</td>\n",
       "    </tr>\n",
       "    <tr>\n",
       "      <th>3</th>\n",
       "      <td>04/01/1990</td>\n",
       "      <td>0.125100</td>\n",
       "      <td>0.362001</td>\n",
       "      <td>3.9375</td>\n",
       "      <td>3.641439</td>\n",
       "      <td>1.743005</td>\n",
       "      <td>2.403821</td>\n",
       "      <td>1.731422</td>\n",
       "      <td>NaN</td>\n",
       "      <td>0.190537</td>\n",
       "      <td>0.115402</td>\n",
       "      <td>1.904452</td>\n",
       "    </tr>\n",
       "    <tr>\n",
       "      <th>4</th>\n",
       "      <td>05/01/1990</td>\n",
       "      <td>0.125516</td>\n",
       "      <td>0.358586</td>\n",
       "      <td>3.8125</td>\n",
       "      <td>3.602595</td>\n",
       "      <td>1.705114</td>\n",
       "      <td>2.287973</td>\n",
       "      <td>1.722587</td>\n",
       "      <td>NaN</td>\n",
       "      <td>0.190537</td>\n",
       "      <td>0.114405</td>\n",
       "      <td>1.912100</td>\n",
       "    </tr>\n",
       "    <tr>\n",
       "      <th>...</th>\n",
       "      <td>...</td>\n",
       "      <td>...</td>\n",
       "      <td>...</td>\n",
       "      <td>...</td>\n",
       "      <td>...</td>\n",
       "      <td>...</td>\n",
       "      <td>...</td>\n",
       "      <td>...</td>\n",
       "      <td>...</td>\n",
       "      <td>...</td>\n",
       "      <td>...</td>\n",
       "      <td>...</td>\n",
       "    </tr>\n",
       "    <tr>\n",
       "      <th>7121</th>\n",
       "      <td>05/04/2018</td>\n",
       "      <td>172.800003</td>\n",
       "      <td>13.430000</td>\n",
       "      <td>10.0200</td>\n",
       "      <td>87.809998</td>\n",
       "      <td>30.320000</td>\n",
       "      <td>35.632843</td>\n",
       "      <td>76.019997</td>\n",
       "      <td>14.52</td>\n",
       "      <td>72.120003</td>\n",
       "      <td>35.730000</td>\n",
       "      <td>111.879997</td>\n",
       "    </tr>\n",
       "    <tr>\n",
       "      <th>7122</th>\n",
       "      <td>06/04/2018</td>\n",
       "      <td>168.380005</td>\n",
       "      <td>13.060000</td>\n",
       "      <td>9.6100</td>\n",
       "      <td>86.690002</td>\n",
       "      <td>29.629999</td>\n",
       "      <td>35.130001</td>\n",
       "      <td>74.870003</td>\n",
       "      <td>13.97</td>\n",
       "      <td>70.489998</td>\n",
       "      <td>35.169998</td>\n",
       "      <td>109.089996</td>\n",
       "    </tr>\n",
       "    <tr>\n",
       "      <th>7123</th>\n",
       "      <td>09/04/2018</td>\n",
       "      <td>170.050003</td>\n",
       "      <td>12.830000</td>\n",
       "      <td>9.5300</td>\n",
       "      <td>86.279999</td>\n",
       "      <td>29.870001</td>\n",
       "      <td>35.169998</td>\n",
       "      <td>74.870003</td>\n",
       "      <td>13.93</td>\n",
       "      <td>69.820000</td>\n",
       "      <td>35.459999</td>\n",
       "      <td>110.400002</td>\n",
       "    </tr>\n",
       "    <tr>\n",
       "      <th>7124</th>\n",
       "      <td>10/04/2018</td>\n",
       "      <td>173.250000</td>\n",
       "      <td>13.050000</td>\n",
       "      <td>9.9800</td>\n",
       "      <td>86.449997</td>\n",
       "      <td>30.480000</td>\n",
       "      <td>35.810001</td>\n",
       "      <td>77.070000</td>\n",
       "      <td>14.78</td>\n",
       "      <td>71.720001</td>\n",
       "      <td>35.950001</td>\n",
       "      <td>112.510002</td>\n",
       "    </tr>\n",
       "    <tr>\n",
       "      <th>7125</th>\n",
       "      <td>11/04/2018</td>\n",
       "      <td>172.440002</td>\n",
       "      <td>12.970000</td>\n",
       "      <td>9.8200</td>\n",
       "      <td>85.910004</td>\n",
       "      <td>29.900000</td>\n",
       "      <td>35.250000</td>\n",
       "      <td>77.430000</td>\n",
       "      <td>14.99</td>\n",
       "      <td>70.910004</td>\n",
       "      <td>35.790001</td>\n",
       "      <td>110.620003</td>\n",
       "    </tr>\n",
       "  </tbody>\n",
       "</table>\n",
       "<p>7126 rows × 12 columns</p>\n",
       "</div>"
      ],
      "text/plain": [
       "            date        AAPL         GE      AMD        WMT        BAC  \\\n",
       "0     29/12/1989    0.117203   0.352438   3.9375   3.486070   1.752478   \n",
       "1     02/01/1990    0.123853   0.364733   4.1250   3.660858   1.766686   \n",
       "2     03/01/1990    0.124684   0.364050   4.0000   3.660858   1.780897   \n",
       "3     04/01/1990    0.125100   0.362001   3.9375   3.641439   1.743005   \n",
       "4     05/01/1990    0.125516   0.358586   3.8125   3.602595   1.705114   \n",
       "...          ...         ...        ...      ...        ...        ...   \n",
       "7121  05/04/2018  172.800003  13.430000  10.0200  87.809998  30.320000   \n",
       "7122  06/04/2018  168.380005  13.060000   9.6100  86.690002  29.629999   \n",
       "7123  09/04/2018  170.050003  12.830000   9.5300  86.279999  29.870001   \n",
       "7124  10/04/2018  173.250000  13.050000   9.9800  86.449997  30.480000   \n",
       "7125  11/04/2018  172.440002  12.970000   9.8200  85.910004  29.900000   \n",
       "\n",
       "              T        XOM    RRC        BBY        PFE         JPM  \n",
       "0      2.365775   1.766756    NaN   0.166287   0.110818    1.827968  \n",
       "1      2.398184   1.766756    NaN   0.173216   0.113209    1.835617  \n",
       "2      2.356516   1.749088    NaN   0.194001   0.113608    1.896803  \n",
       "3      2.403821   1.731422    NaN   0.190537   0.115402    1.904452  \n",
       "4      2.287973   1.722587    NaN   0.190537   0.114405    1.912100  \n",
       "...         ...        ...    ...        ...        ...         ...  \n",
       "7121  35.632843  76.019997  14.52  72.120003  35.730000  111.879997  \n",
       "7122  35.130001  74.870003  13.97  70.489998  35.169998  109.089996  \n",
       "7123  35.169998  74.870003  13.93  69.820000  35.459999  110.400002  \n",
       "7124  35.810001  77.070000  14.78  71.720001  35.950001  112.510002  \n",
       "7125  35.250000  77.430000  14.99  70.910004  35.790001  110.620003  \n",
       "\n",
       "[7126 rows x 12 columns]"
      ]
     },
     "execution_count": 69,
     "metadata": {},
     "output_type": "execute_result"
    }
   ],
   "source": [
    "price_df"
   ]
  },
  {
   "cell_type": "code",
   "execution_count": 70,
   "id": "21a86612",
   "metadata": {
    "scrolled": true
   },
   "outputs": [
    {
     "ename": "FileNotFoundError",
     "evalue": "[Errno 2] No such file or directory: 'data/stock_prices.csv'",
     "output_type": "error",
     "traceback": [
      "\u001b[0;31m---------------------------------------------------------------------------\u001b[0m",
      "\u001b[0;31mFileNotFoundError\u001b[0m                         Traceback (most recent call last)",
      "\u001b[0;32m/var/folders/tt/n_pvhf8x2fq4h87yjf0gz3bm0000gn/T/ipykernel_18691/2826106291.py\u001b[0m in \u001b[0;36m<module>\u001b[0;34m\u001b[0m\n\u001b[1;32m      1\u001b[0m \u001b[0;31m# you can read csv with the path from content root (under the same main fold of your coding file)\u001b[0m\u001b[0;34m\u001b[0m\u001b[0;34m\u001b[0m\u001b[0;34m\u001b[0m\u001b[0m\n\u001b[0;32m----> 2\u001b[0;31m \u001b[0mprice2_df\u001b[0m \u001b[0;34m=\u001b[0m \u001b[0mpd\u001b[0m\u001b[0;34m.\u001b[0m\u001b[0mread_csv\u001b[0m\u001b[0;34m(\u001b[0m\u001b[0;34m'data/stock_prices.csv'\u001b[0m\u001b[0;34m)\u001b[0m\u001b[0;34m\u001b[0m\u001b[0;34m\u001b[0m\u001b[0m\n\u001b[0m\u001b[1;32m      3\u001b[0m \u001b[0mprice2_df\u001b[0m\u001b[0;34m\u001b[0m\u001b[0;34m\u001b[0m\u001b[0m\n",
      "\u001b[0;32m~/.conda/envs/FinTech/lib/python3.9/site-packages/pandas/util/_decorators.py\u001b[0m in \u001b[0;36mwrapper\u001b[0;34m(*args, **kwargs)\u001b[0m\n\u001b[1;32m    309\u001b[0m                     \u001b[0mstacklevel\u001b[0m\u001b[0;34m=\u001b[0m\u001b[0mstacklevel\u001b[0m\u001b[0;34m,\u001b[0m\u001b[0;34m\u001b[0m\u001b[0;34m\u001b[0m\u001b[0m\n\u001b[1;32m    310\u001b[0m                 )\n\u001b[0;32m--> 311\u001b[0;31m             \u001b[0;32mreturn\u001b[0m \u001b[0mfunc\u001b[0m\u001b[0;34m(\u001b[0m\u001b[0;34m*\u001b[0m\u001b[0margs\u001b[0m\u001b[0;34m,\u001b[0m \u001b[0;34m**\u001b[0m\u001b[0mkwargs\u001b[0m\u001b[0;34m)\u001b[0m\u001b[0;34m\u001b[0m\u001b[0;34m\u001b[0m\u001b[0m\n\u001b[0m\u001b[1;32m    312\u001b[0m \u001b[0;34m\u001b[0m\u001b[0m\n\u001b[1;32m    313\u001b[0m         \u001b[0;32mreturn\u001b[0m \u001b[0mwrapper\u001b[0m\u001b[0;34m\u001b[0m\u001b[0;34m\u001b[0m\u001b[0m\n",
      "\u001b[0;32m~/.conda/envs/FinTech/lib/python3.9/site-packages/pandas/io/parsers/readers.py\u001b[0m in \u001b[0;36mread_csv\u001b[0;34m(filepath_or_buffer, sep, delimiter, header, names, index_col, usecols, squeeze, prefix, mangle_dupe_cols, dtype, engine, converters, true_values, false_values, skipinitialspace, skiprows, skipfooter, nrows, na_values, keep_default_na, na_filter, verbose, skip_blank_lines, parse_dates, infer_datetime_format, keep_date_col, date_parser, dayfirst, cache_dates, iterator, chunksize, compression, thousands, decimal, lineterminator, quotechar, quoting, doublequote, escapechar, comment, encoding, encoding_errors, dialect, error_bad_lines, warn_bad_lines, on_bad_lines, delim_whitespace, low_memory, memory_map, float_precision, storage_options)\u001b[0m\n\u001b[1;32m    584\u001b[0m     \u001b[0mkwds\u001b[0m\u001b[0;34m.\u001b[0m\u001b[0mupdate\u001b[0m\u001b[0;34m(\u001b[0m\u001b[0mkwds_defaults\u001b[0m\u001b[0;34m)\u001b[0m\u001b[0;34m\u001b[0m\u001b[0;34m\u001b[0m\u001b[0m\n\u001b[1;32m    585\u001b[0m \u001b[0;34m\u001b[0m\u001b[0m\n\u001b[0;32m--> 586\u001b[0;31m     \u001b[0;32mreturn\u001b[0m \u001b[0m_read\u001b[0m\u001b[0;34m(\u001b[0m\u001b[0mfilepath_or_buffer\u001b[0m\u001b[0;34m,\u001b[0m \u001b[0mkwds\u001b[0m\u001b[0;34m)\u001b[0m\u001b[0;34m\u001b[0m\u001b[0;34m\u001b[0m\u001b[0m\n\u001b[0m\u001b[1;32m    587\u001b[0m \u001b[0;34m\u001b[0m\u001b[0m\n\u001b[1;32m    588\u001b[0m \u001b[0;34m\u001b[0m\u001b[0m\n",
      "\u001b[0;32m~/.conda/envs/FinTech/lib/python3.9/site-packages/pandas/io/parsers/readers.py\u001b[0m in \u001b[0;36m_read\u001b[0;34m(filepath_or_buffer, kwds)\u001b[0m\n\u001b[1;32m    480\u001b[0m \u001b[0;34m\u001b[0m\u001b[0m\n\u001b[1;32m    481\u001b[0m     \u001b[0;31m# Create the parser.\u001b[0m\u001b[0;34m\u001b[0m\u001b[0;34m\u001b[0m\u001b[0;34m\u001b[0m\u001b[0m\n\u001b[0;32m--> 482\u001b[0;31m     \u001b[0mparser\u001b[0m \u001b[0;34m=\u001b[0m \u001b[0mTextFileReader\u001b[0m\u001b[0;34m(\u001b[0m\u001b[0mfilepath_or_buffer\u001b[0m\u001b[0;34m,\u001b[0m \u001b[0;34m**\u001b[0m\u001b[0mkwds\u001b[0m\u001b[0;34m)\u001b[0m\u001b[0;34m\u001b[0m\u001b[0;34m\u001b[0m\u001b[0m\n\u001b[0m\u001b[1;32m    483\u001b[0m \u001b[0;34m\u001b[0m\u001b[0m\n\u001b[1;32m    484\u001b[0m     \u001b[0;32mif\u001b[0m \u001b[0mchunksize\u001b[0m \u001b[0;32mor\u001b[0m \u001b[0miterator\u001b[0m\u001b[0;34m:\u001b[0m\u001b[0;34m\u001b[0m\u001b[0;34m\u001b[0m\u001b[0m\n",
      "\u001b[0;32m~/.conda/envs/FinTech/lib/python3.9/site-packages/pandas/io/parsers/readers.py\u001b[0m in \u001b[0;36m__init__\u001b[0;34m(self, f, engine, **kwds)\u001b[0m\n\u001b[1;32m    809\u001b[0m             \u001b[0mself\u001b[0m\u001b[0;34m.\u001b[0m\u001b[0moptions\u001b[0m\u001b[0;34m[\u001b[0m\u001b[0;34m\"has_index_names\"\u001b[0m\u001b[0;34m]\u001b[0m \u001b[0;34m=\u001b[0m \u001b[0mkwds\u001b[0m\u001b[0;34m[\u001b[0m\u001b[0;34m\"has_index_names\"\u001b[0m\u001b[0;34m]\u001b[0m\u001b[0;34m\u001b[0m\u001b[0;34m\u001b[0m\u001b[0m\n\u001b[1;32m    810\u001b[0m \u001b[0;34m\u001b[0m\u001b[0m\n\u001b[0;32m--> 811\u001b[0;31m         \u001b[0mself\u001b[0m\u001b[0;34m.\u001b[0m\u001b[0m_engine\u001b[0m \u001b[0;34m=\u001b[0m \u001b[0mself\u001b[0m\u001b[0;34m.\u001b[0m\u001b[0m_make_engine\u001b[0m\u001b[0;34m(\u001b[0m\u001b[0mself\u001b[0m\u001b[0;34m.\u001b[0m\u001b[0mengine\u001b[0m\u001b[0;34m)\u001b[0m\u001b[0;34m\u001b[0m\u001b[0;34m\u001b[0m\u001b[0m\n\u001b[0m\u001b[1;32m    812\u001b[0m \u001b[0;34m\u001b[0m\u001b[0m\n\u001b[1;32m    813\u001b[0m     \u001b[0;32mdef\u001b[0m \u001b[0mclose\u001b[0m\u001b[0;34m(\u001b[0m\u001b[0mself\u001b[0m\u001b[0;34m)\u001b[0m\u001b[0;34m:\u001b[0m\u001b[0;34m\u001b[0m\u001b[0;34m\u001b[0m\u001b[0m\n",
      "\u001b[0;32m~/.conda/envs/FinTech/lib/python3.9/site-packages/pandas/io/parsers/readers.py\u001b[0m in \u001b[0;36m_make_engine\u001b[0;34m(self, engine)\u001b[0m\n\u001b[1;32m   1038\u001b[0m             )\n\u001b[1;32m   1039\u001b[0m         \u001b[0;31m# error: Too many arguments for \"ParserBase\"\u001b[0m\u001b[0;34m\u001b[0m\u001b[0;34m\u001b[0m\u001b[0;34m\u001b[0m\u001b[0m\n\u001b[0;32m-> 1040\u001b[0;31m         \u001b[0;32mreturn\u001b[0m \u001b[0mmapping\u001b[0m\u001b[0;34m[\u001b[0m\u001b[0mengine\u001b[0m\u001b[0;34m]\u001b[0m\u001b[0;34m(\u001b[0m\u001b[0mself\u001b[0m\u001b[0;34m.\u001b[0m\u001b[0mf\u001b[0m\u001b[0;34m,\u001b[0m \u001b[0;34m**\u001b[0m\u001b[0mself\u001b[0m\u001b[0;34m.\u001b[0m\u001b[0moptions\u001b[0m\u001b[0;34m)\u001b[0m  \u001b[0;31m# type: ignore[call-arg]\u001b[0m\u001b[0;34m\u001b[0m\u001b[0;34m\u001b[0m\u001b[0m\n\u001b[0m\u001b[1;32m   1041\u001b[0m \u001b[0;34m\u001b[0m\u001b[0m\n\u001b[1;32m   1042\u001b[0m     \u001b[0;32mdef\u001b[0m \u001b[0m_failover_to_python\u001b[0m\u001b[0;34m(\u001b[0m\u001b[0mself\u001b[0m\u001b[0;34m)\u001b[0m\u001b[0;34m:\u001b[0m\u001b[0;34m\u001b[0m\u001b[0;34m\u001b[0m\u001b[0m\n",
      "\u001b[0;32m~/.conda/envs/FinTech/lib/python3.9/site-packages/pandas/io/parsers/c_parser_wrapper.py\u001b[0m in \u001b[0;36m__init__\u001b[0;34m(self, src, **kwds)\u001b[0m\n\u001b[1;32m     49\u001b[0m \u001b[0;34m\u001b[0m\u001b[0m\n\u001b[1;32m     50\u001b[0m         \u001b[0;31m# open handles\u001b[0m\u001b[0;34m\u001b[0m\u001b[0;34m\u001b[0m\u001b[0;34m\u001b[0m\u001b[0m\n\u001b[0;32m---> 51\u001b[0;31m         \u001b[0mself\u001b[0m\u001b[0;34m.\u001b[0m\u001b[0m_open_handles\u001b[0m\u001b[0;34m(\u001b[0m\u001b[0msrc\u001b[0m\u001b[0;34m,\u001b[0m \u001b[0mkwds\u001b[0m\u001b[0;34m)\u001b[0m\u001b[0;34m\u001b[0m\u001b[0;34m\u001b[0m\u001b[0m\n\u001b[0m\u001b[1;32m     52\u001b[0m         \u001b[0;32massert\u001b[0m \u001b[0mself\u001b[0m\u001b[0;34m.\u001b[0m\u001b[0mhandles\u001b[0m \u001b[0;32mis\u001b[0m \u001b[0;32mnot\u001b[0m \u001b[0;32mNone\u001b[0m\u001b[0;34m\u001b[0m\u001b[0;34m\u001b[0m\u001b[0m\n\u001b[1;32m     53\u001b[0m \u001b[0;34m\u001b[0m\u001b[0m\n",
      "\u001b[0;32m~/.conda/envs/FinTech/lib/python3.9/site-packages/pandas/io/parsers/base_parser.py\u001b[0m in \u001b[0;36m_open_handles\u001b[0;34m(self, src, kwds)\u001b[0m\n\u001b[1;32m    220\u001b[0m         \u001b[0mLet\u001b[0m \u001b[0mthe\u001b[0m \u001b[0mreaders\u001b[0m \u001b[0mopen\u001b[0m \u001b[0mIOHandles\u001b[0m \u001b[0mafter\u001b[0m \u001b[0mthey\u001b[0m \u001b[0mare\u001b[0m \u001b[0mdone\u001b[0m \u001b[0;32mwith\u001b[0m \u001b[0mtheir\u001b[0m \u001b[0mpotential\u001b[0m \u001b[0mraises\u001b[0m\u001b[0;34m.\u001b[0m\u001b[0;34m\u001b[0m\u001b[0;34m\u001b[0m\u001b[0m\n\u001b[1;32m    221\u001b[0m         \"\"\"\n\u001b[0;32m--> 222\u001b[0;31m         self.handles = get_handle(\n\u001b[0m\u001b[1;32m    223\u001b[0m             \u001b[0msrc\u001b[0m\u001b[0;34m,\u001b[0m\u001b[0;34m\u001b[0m\u001b[0;34m\u001b[0m\u001b[0m\n\u001b[1;32m    224\u001b[0m             \u001b[0;34m\"r\"\u001b[0m\u001b[0;34m,\u001b[0m\u001b[0;34m\u001b[0m\u001b[0;34m\u001b[0m\u001b[0m\n",
      "\u001b[0;32m~/.conda/envs/FinTech/lib/python3.9/site-packages/pandas/io/common.py\u001b[0m in \u001b[0;36mget_handle\u001b[0;34m(path_or_buf, mode, encoding, compression, memory_map, is_text, errors, storage_options)\u001b[0m\n\u001b[1;32m    699\u001b[0m         \u001b[0;32mif\u001b[0m \u001b[0mioargs\u001b[0m\u001b[0;34m.\u001b[0m\u001b[0mencoding\u001b[0m \u001b[0;32mand\u001b[0m \u001b[0;34m\"b\"\u001b[0m \u001b[0;32mnot\u001b[0m \u001b[0;32min\u001b[0m \u001b[0mioargs\u001b[0m\u001b[0;34m.\u001b[0m\u001b[0mmode\u001b[0m\u001b[0;34m:\u001b[0m\u001b[0;34m\u001b[0m\u001b[0;34m\u001b[0m\u001b[0m\n\u001b[1;32m    700\u001b[0m             \u001b[0;31m# Encoding\u001b[0m\u001b[0;34m\u001b[0m\u001b[0;34m\u001b[0m\u001b[0;34m\u001b[0m\u001b[0m\n\u001b[0;32m--> 701\u001b[0;31m             handle = open(\n\u001b[0m\u001b[1;32m    702\u001b[0m                 \u001b[0mhandle\u001b[0m\u001b[0;34m,\u001b[0m\u001b[0;34m\u001b[0m\u001b[0;34m\u001b[0m\u001b[0m\n\u001b[1;32m    703\u001b[0m                 \u001b[0mioargs\u001b[0m\u001b[0;34m.\u001b[0m\u001b[0mmode\u001b[0m\u001b[0;34m,\u001b[0m\u001b[0;34m\u001b[0m\u001b[0;34m\u001b[0m\u001b[0m\n",
      "\u001b[0;31mFileNotFoundError\u001b[0m: [Errno 2] No such file or directory: 'data/stock_prices.csv'"
     ]
    }
   ],
   "source": [
    "# you can read csv with the path from content root (under the same main fold of your coding file)\n",
    "price2_df = pd.read_csv('data/stock_prices.csv')\n",
    "price2_df"
   ]
  },
  {
   "cell_type": "markdown",
   "id": "37d8a826",
   "metadata": {},
   "source": [
    "# download data from a website"
   ]
  },
  {
   "cell_type": "code",
   "execution_count": null,
   "id": "536b9f77",
   "metadata": {},
   "outputs": [],
   "source": [
    "asset_df.columns"
   ]
  },
  {
   "cell_type": "code",
   "execution_count": null,
   "id": "0cb237ab",
   "metadata": {},
   "outputs": [],
   "source": [
    "# save this df\n",
    "asset_df.to_csv(\"data/spy_vix_data.csv\")"
   ]
  },
  {
   "cell_type": "markdown",
   "id": "dc2c1d4e",
   "metadata": {},
   "source": [
    "## typical operations on a DataFrame object"
   ]
  },
  {
   "cell_type": "code",
   "execution_count": null,
   "id": "e55a8248",
   "metadata": {},
   "outputs": [],
   "source": [
    "# check how large of your df\n",
    "price_df.shape"
   ]
  },
  {
   "cell_type": "code",
   "execution_count": null,
   "id": "57474f21",
   "metadata": {},
   "outputs": [],
   "source": [
    "# grabs the first five rows\n",
    "price_df.head()"
   ]
  },
  {
   "cell_type": "code",
   "execution_count": null,
   "id": "dc90ed7f",
   "metadata": {},
   "outputs": [],
   "source": [
    "# use the default index\n",
    "price_df.reset_index(inplace=True)"
   ]
  },
  {
   "cell_type": "code",
   "execution_count": null,
   "id": "110b9cd2",
   "metadata": {},
   "outputs": [],
   "source": [
    "price_df.columns"
   ]
  },
  {
   "cell_type": "code",
   "execution_count": null,
   "id": "5f9ed73d",
   "metadata": {},
   "outputs": [],
   "source": [
    "price_df.index"
   ]
  },
  {
   "cell_type": "markdown",
   "id": "160dbc50",
   "metadata": {},
   "source": [
    "## index, select and assign\n",
    "- iloc[ , ], select values on the rows/ columns or value with row and column index by their positions.\n",
    "\n",
    "- loc[ , ], Label-based selection. selec by values instead of positions."
   ]
  },
  {
   "cell_type": "code",
   "execution_count": null,
   "id": "3c44fb2d",
   "metadata": {},
   "outputs": [],
   "source": [
    "price_df[\"AAPL\"][0]"
   ]
  },
  {
   "cell_type": "code",
   "execution_count": null,
   "id": "686b4cd6",
   "metadata": {},
   "outputs": [],
   "source": [
    "# To select the first row of data in a DataFrame\n",
    "price_df.iloc[0]"
   ]
  },
  {
   "cell_type": "code",
   "execution_count": null,
   "id": "a4d00bf9",
   "metadata": {},
   "outputs": [],
   "source": [
    "# To select all the rows on first column of data in a DataFrame=\n",
    "price_df.iloc[:,0]"
   ]
  },
  {
   "cell_type": "code",
   "execution_count": null,
   "id": "b5fe6b18",
   "metadata": {},
   "outputs": [],
   "source": [
    "price_df.iloc[:5,0]"
   ]
  },
  {
   "cell_type": "code",
   "execution_count": null,
   "id": "47e7c756",
   "metadata": {},
   "outputs": [],
   "source": [
    "price_df.iloc[1:3,0]"
   ]
  },
  {
   "cell_type": "code",
   "execution_count": null,
   "id": "60cb7bfc",
   "metadata": {},
   "outputs": [],
   "source": [
    "price_df.iloc[[1,2],0]"
   ]
  },
  {
   "cell_type": "code",
   "execution_count": null,
   "id": "241eddb3",
   "metadata": {},
   "outputs": [],
   "source": [
    "price_df.iloc[[-5],0]"
   ]
  },
  {
   "cell_type": "code",
   "execution_count": null,
   "id": "b9dd798f",
   "metadata": {},
   "outputs": [],
   "source": [
    "# label based\n",
    "price_df.loc[0,\"AAPL\"]"
   ]
  },
  {
   "cell_type": "code",
   "execution_count": null,
   "id": "89179418",
   "metadata": {},
   "outputs": [],
   "source": [
    "price_df.loc[0,[\"AAPL\", \"GE\", \"AMD\"]]"
   ]
  },
  {
   "cell_type": "code",
   "execution_count": null,
   "id": "e775cd66",
   "metadata": {},
   "outputs": [],
   "source": [
    "# Manipulating the index\n",
    "# re-set index\n",
    "price_df.set_index('date', inplace=True)\n",
    "price_df"
   ]
  },
  {
   "cell_type": "code",
   "execution_count": null,
   "id": "aa59f5ca",
   "metadata": {},
   "outputs": [],
   "source": [
    "# codintional selection\n",
    "price_df.AAPL > 5"
   ]
  },
  {
   "cell_type": "code",
   "execution_count": null,
   "id": "c5f7a423",
   "metadata": {},
   "outputs": [],
   "source": [
    "price_df.index == \"29/12/1989\""
   ]
  },
  {
   "cell_type": "code",
   "execution_count": null,
   "id": "cbe5985b",
   "metadata": {},
   "outputs": [],
   "source": [
    "price_df.loc[price_df.AAPL > 5]"
   ]
  },
  {
   "cell_type": "code",
   "execution_count": null,
   "id": "37376e5d",
   "metadata": {},
   "outputs": [],
   "source": [
    "# select the rows without Nan values\n",
    "price_df.loc[price_df.AAPL.notnull()]"
   ]
  },
  {
   "cell_type": "code",
   "execution_count": null,
   "id": "c50f9880",
   "metadata": {},
   "outputs": [],
   "source": [
    "# assign data\n",
    "price_df[\"GE\"] = 10\n",
    "price_df[\"GE\"]"
   ]
  },
  {
   "cell_type": "code",
   "execution_count": null,
   "id": "e5f47825",
   "metadata": {},
   "outputs": [],
   "source": [
    "# append a row\n",
    "new_row = price_df.iloc[0]\n",
    "new_row"
   ]
  },
  {
   "cell_type": "code",
   "execution_count": null,
   "id": "16534e8e",
   "metadata": {},
   "outputs": [],
   "source": [
    "price_df.append(new_row)"
   ]
  },
  {
   "cell_type": "code",
   "execution_count": null,
   "id": "176aea32",
   "metadata": {},
   "outputs": [],
   "source": [
    "# append a column\n",
    "new_column = price_df[\"AAPL\"]\n",
    "price_df[\"new_column\"] = new_column\n",
    "price_df"
   ]
  },
  {
   "cell_type": "code",
   "execution_count": null,
   "id": "1bb39fd2",
   "metadata": {},
   "outputs": [],
   "source": [
    "# drop a column / row\n",
    "price_df.drop(\"new_column\", axis=1, inplace=True)\n"
   ]
  },
  {
   "cell_type": "code",
   "execution_count": null,
   "id": "10ad1bc7",
   "metadata": {},
   "outputs": [],
   "source": [
    "price_df"
   ]
  },
  {
   "cell_type": "code",
   "execution_count": null,
   "id": "b5b69e16",
   "metadata": {},
   "outputs": [],
   "source": [
    "price_df.drop(\"29/12/1989\", axis=0, inplace=True)\n",
    "price_df"
   ]
  },
  {
   "cell_type": "markdown",
   "id": "9ad967a9",
   "metadata": {},
   "source": [
    "# Summary statitics"
   ]
  },
  {
   "cell_type": "code",
   "execution_count": null,
   "id": "ae1270f8",
   "metadata": {},
   "outputs": [],
   "source": [
    "# basic information about this dataset\n",
    "price_df.info()"
   ]
  },
  {
   "cell_type": "code",
   "execution_count": null,
   "id": "beaf0e7a",
   "metadata": {},
   "outputs": [],
   "source": [
    "# summary statistics\n",
    "price_df.describe()"
   ]
  },
  {
   "cell_type": "code",
   "execution_count": null,
   "id": "949b4841",
   "metadata": {},
   "outputs": [],
   "source": [
    "# keep 3 decimal places\n",
    "price_df.describe().round(3)"
   ]
  },
  {
   "cell_type": "code",
   "execution_count": null,
   "id": "724c3f54",
   "metadata": {},
   "outputs": [],
   "source": [
    "price_df[\"AAPL\"].describe()"
   ]
  },
  {
   "cell_type": "code",
   "execution_count": null,
   "id": "320b2479",
   "metadata": {
    "scrolled": true
   },
   "outputs": [],
   "source": [
    "price_df[\"AAPL\"].mean()"
   ]
  },
  {
   "cell_type": "code",
   "execution_count": null,
   "id": "003da506",
   "metadata": {},
   "outputs": [],
   "source": [
    "price_df[\"AAPL\"].std()"
   ]
  },
  {
   "cell_type": "code",
   "execution_count": null,
   "id": "08abbc85",
   "metadata": {},
   "outputs": [],
   "source": [
    "price_df[\"AAPL\"].median()"
   ]
  },
  {
   "cell_type": "code",
   "execution_count": null,
   "id": "28bc30d0",
   "metadata": {},
   "outputs": [],
   "source": [
    "# To see a list of unique values we can use the unique() function\n",
    "price_df[\"AAPL\"].unique()"
   ]
  },
  {
   "cell_type": "code",
   "execution_count": null,
   "id": "23bf1037",
   "metadata": {},
   "outputs": [],
   "source": [
    "len(price_df[\"AAPL\"].unique())"
   ]
  },
  {
   "cell_type": "code",
   "execution_count": null,
   "id": "22abd310",
   "metadata": {},
   "outputs": [],
   "source": [
    "# to check if all values in this column are unique\n",
    "len(price_df[\"AAPL\"].unique()) == len(price_df[\"AAPL\"])"
   ]
  },
  {
   "cell_type": "code",
   "execution_count": null,
   "id": "5e87e847",
   "metadata": {
    "scrolled": true
   },
   "outputs": [],
   "source": [
    "# to see a list of unique values and how often they occur in this column\n",
    "price_df[\"AAPL\"].value_counts()"
   ]
  },
  {
   "cell_type": "code",
   "execution_count": null,
   "id": "a85ba3f7",
   "metadata": {},
   "outputs": [],
   "source": [
    "# to see the asset returns\n",
    "return_df = price_df.pct_change()\n",
    "return_df"
   ]
  },
  {
   "cell_type": "code",
   "execution_count": null,
   "id": "7570c2a8",
   "metadata": {},
   "outputs": [],
   "source": [
    "# You can also use NumPy for df objects\n",
    "np.mean(price_df)"
   ]
  },
  {
   "cell_type": "code",
   "execution_count": null,
   "id": "86767301",
   "metadata": {},
   "outputs": [],
   "source": [
    "np.log(price_df)"
   ]
  },
  {
   "cell_type": "code",
   "execution_count": null,
   "id": "1067f7ef",
   "metadata": {},
   "outputs": [],
   "source": [
    "np.sqrt(abs(price_df))"
   ]
  },
  {
   "cell_type": "code",
   "execution_count": null,
   "id": "901e8c1b",
   "metadata": {},
   "outputs": [],
   "source": [
    "np.sqrt(abs(price_df)).sum()"
   ]
  },
  {
   "cell_type": "code",
   "execution_count": null,
   "id": "b2a1dc9f",
   "metadata": {},
   "outputs": [],
   "source": [
    "# basic visualization\n",
    "import matplotlib.pyplot as plt\n",
    "price_df.plot()\n",
    "plt.show()"
   ]
  },
  {
   "cell_type": "code",
   "execution_count": null,
   "id": "c9749141",
   "metadata": {},
   "outputs": [],
   "source": [
    "return_df.plot()\n",
    "plt.show()"
   ]
  },
  {
   "cell_type": "markdown",
   "id": "ecc1b251",
   "metadata": {},
   "source": [
    "# Exercise for Pandas:\n",
    "\n",
    "1. Use this dataset called \"spy_prices.csv\" in the data folder. Then, import it as a Pandas dataframe called \"stocks_df\" and take the mean, median and standard deviation of the spy prices.\n",
    "\n",
    "2. Print each on a new line with the word: 'Mean', 'Median' and 'Std. Dev.' right about each."
   ]
  },
  {
   "cell_type": "code",
   "execution_count": null,
   "id": "e5090386",
   "metadata": {},
   "outputs": [],
   "source": []
  }
 ],
 "metadata": {
  "kernelspec": {
   "display_name": "Python 3 (ipykernel)",
   "language": "python",
   "name": "python3"
  },
  "language_info": {
   "codemirror_mode": {
    "name": "ipython",
    "version": 3
   },
   "file_extension": ".py",
   "mimetype": "text/x-python",
   "name": "python",
   "nbconvert_exporter": "python",
   "pygments_lexer": "ipython3",
   "version": "3.9.6"
  }
 },
 "nbformat": 4,
 "nbformat_minor": 5
}
